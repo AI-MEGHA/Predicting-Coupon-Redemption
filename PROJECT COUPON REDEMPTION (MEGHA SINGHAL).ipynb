{
 "cells": [
  {
   "cell_type": "markdown",
   "metadata": {},
   "source": [
    "# Predicting Coupon Redemption"
   ]
  },
  {
   "cell_type": "markdown",
   "metadata": {},
   "source": [
    "XYZ Credit Card company regularly helps its merchants understand their data better and take key business decisions accurately by providing machine learning and analytics consulting. ABC is an established Brick & Mortar retailer that frequently conducts marketing campaigns for its diverse product range. As a merchant of XYZ, they have sought XYZ to assist them in their discount marketing process using the power of machine learning.\n",
    "\n",
    "Discount marketing and coupon usage are very widely used promotional techniques to attract new customers and to retain & reinforce loyalty of existing customers. The measurement of a consumer’s propensity towards coupon usage and the prediction of the redemption behaviour are crucial parameters in assessing the effectiveness of a marketing campaign.\n",
    "\n",
    "ABC promotions are shared across various channels including email, notifications, etc. A number of these campaigns include coupon discounts that are offered for a specific product/range of products. The retailer would like the ability to predict whether customers redeem the coupons received across channels, which will enable the retailer’s marketing team to accurately design coupon construct, and develop more precise and targeted marketing strategies.\n",
    "\n",
    "The data available in this problem contains the following inform"
   ]
  },
  {
   "cell_type": "markdown",
   "metadata": {},
   "source": [
    "# Importing all the necessary libraries\n"
   ]
  },
  {
   "cell_type": "code",
   "execution_count": 1,
   "metadata": {},
   "outputs": [],
   "source": [
    "import numpy as np\n",
    "import pandas as pd\n",
    "\n",
    "import matplotlib.pyplot as plt\n",
    "import seaborn as sns\n",
    "\n",
    "from datetime import datetime\n",
    "\n",
    "from sklearn.preprocessing import StandardScaler\n",
    "from sklearn.preprocessing import Imputer\n",
    "from sklearn.model_selection import GridSearchCV,train_test_split,cross_val_score\n",
    "from sklearn.metrics import classification_report,confusion_matrix\n",
    "from sklearn.linear_model import LogisticRegression\n",
    "from sklearn.naive_bayes import GaussianNB\n",
    "from sklearn.neighbors import KNeighborsClassifier\n",
    "from sklearn.tree import DecisionTreeClassifier\n",
    "from sklearn.ensemble import RandomForestClassifier\n",
    "from sklearn.ensemble import GradientBoostingClassifier\n",
    "from sklearn.svm import SVC\n",
    "from sklearn.metrics import roc_curve, auc\n",
    "import os\n",
    "import warnings\n",
    "warnings.filterwarnings('ignore')\n"
   ]
  },
  {
   "cell_type": "markdown",
   "metadata": {},
   "source": [
    "# Load data file (Train DataFrame)"
   ]
  },
  {
   "cell_type": "markdown",
   "metadata": {},
   "source": [
    "Train data containing the coupons offered to the given customers under the 18 campaigns\n",
    "\n",
    "id- Unique id for coupon customer impression\n",
    "\n",
    "campaign_id - Unique id for a discount campaign\n",
    "\n",
    "coupon_id - id for a discount coupon\n",
    "\n",
    "customer_id -Unique id for a customer\n",
    "\n",
    "redemption_status- (target) (0 - Coupon not redeemed, 1 - Coupon redeemed) "
   ]
  },
  {
   "cell_type": "code",
   "execution_count": 2,
   "metadata": {},
   "outputs": [],
   "source": [
    "train = pd.read_csv('train.csv')\n"
   ]
  },
  {
   "cell_type": "code",
   "execution_count": 3,
   "metadata": {},
   "outputs": [
    {
     "data": {
      "text/plain": [
       "id                   0\n",
       "campaign_id          0\n",
       "coupon_id            0\n",
       "customer_id          0\n",
       "redemption_status    0\n",
       "dtype: int64"
      ]
     },
     "execution_count": 3,
     "metadata": {},
     "output_type": "execute_result"
    }
   ],
   "source": [
    "train[train.isnull().any(axis=1)].count()"
   ]
  },
  {
   "cell_type": "markdown",
   "metadata": {},
   "source": [
    "# INFERENCES::no null values are found\n"
   ]
  },
  {
   "cell_type": "code",
   "execution_count": 4,
   "metadata": {},
   "outputs": [
    {
     "data": {
      "text/html": [
       "<div>\n",
       "<style scoped>\n",
       "    .dataframe tbody tr th:only-of-type {\n",
       "        vertical-align: middle;\n",
       "    }\n",
       "\n",
       "    .dataframe tbody tr th {\n",
       "        vertical-align: top;\n",
       "    }\n",
       "\n",
       "    .dataframe thead th {\n",
       "        text-align: right;\n",
       "    }\n",
       "</style>\n",
       "<table border=\"1\" class=\"dataframe\">\n",
       "  <thead>\n",
       "    <tr style=\"text-align: right;\">\n",
       "      <th></th>\n",
       "      <th>id</th>\n",
       "      <th>campaign_id</th>\n",
       "      <th>coupon_id</th>\n",
       "      <th>customer_id</th>\n",
       "      <th>redemption_status</th>\n",
       "    </tr>\n",
       "  </thead>\n",
       "  <tbody>\n",
       "    <tr>\n",
       "      <td>0</td>\n",
       "      <td>1</td>\n",
       "      <td>13</td>\n",
       "      <td>27</td>\n",
       "      <td>1053</td>\n",
       "      <td>0</td>\n",
       "    </tr>\n",
       "    <tr>\n",
       "      <td>1</td>\n",
       "      <td>2</td>\n",
       "      <td>13</td>\n",
       "      <td>116</td>\n",
       "      <td>48</td>\n",
       "      <td>0</td>\n",
       "    </tr>\n",
       "    <tr>\n",
       "      <td>2</td>\n",
       "      <td>6</td>\n",
       "      <td>9</td>\n",
       "      <td>635</td>\n",
       "      <td>205</td>\n",
       "      <td>0</td>\n",
       "    </tr>\n",
       "    <tr>\n",
       "      <td>3</td>\n",
       "      <td>7</td>\n",
       "      <td>13</td>\n",
       "      <td>644</td>\n",
       "      <td>1050</td>\n",
       "      <td>0</td>\n",
       "    </tr>\n",
       "    <tr>\n",
       "      <td>4</td>\n",
       "      <td>9</td>\n",
       "      <td>8</td>\n",
       "      <td>1017</td>\n",
       "      <td>1489</td>\n",
       "      <td>0</td>\n",
       "    </tr>\n",
       "  </tbody>\n",
       "</table>\n",
       "</div>"
      ],
      "text/plain": [
       "   id  campaign_id  coupon_id  customer_id  redemption_status\n",
       "0   1           13         27         1053                  0\n",
       "1   2           13        116           48                  0\n",
       "2   6            9        635          205                  0\n",
       "3   7           13        644         1050                  0\n",
       "4   9            8       1017         1489                  0"
      ]
     },
     "execution_count": 4,
     "metadata": {},
     "output_type": "execute_result"
    }
   ],
   "source": [
    "train.head()"
   ]
  },
  {
   "cell_type": "code",
   "execution_count": 5,
   "metadata": {},
   "outputs": [
    {
     "data": {
      "text/html": [
       "<div>\n",
       "<style scoped>\n",
       "    .dataframe tbody tr th:only-of-type {\n",
       "        vertical-align: middle;\n",
       "    }\n",
       "\n",
       "    .dataframe tbody tr th {\n",
       "        vertical-align: top;\n",
       "    }\n",
       "\n",
       "    .dataframe thead th {\n",
       "        text-align: right;\n",
       "    }\n",
       "</style>\n",
       "<table border=\"1\" class=\"dataframe\">\n",
       "  <thead>\n",
       "    <tr style=\"text-align: right;\">\n",
       "      <th></th>\n",
       "      <th>id</th>\n",
       "      <th>campaign_id</th>\n",
       "      <th>coupon_id</th>\n",
       "      <th>customer_id</th>\n",
       "      <th>redemption_status</th>\n",
       "    </tr>\n",
       "  </thead>\n",
       "  <tbody>\n",
       "    <tr>\n",
       "      <td>78364</td>\n",
       "      <td>128587</td>\n",
       "      <td>8</td>\n",
       "      <td>71</td>\n",
       "      <td>1523</td>\n",
       "      <td>0</td>\n",
       "    </tr>\n",
       "    <tr>\n",
       "      <td>78365</td>\n",
       "      <td>128589</td>\n",
       "      <td>30</td>\n",
       "      <td>547</td>\n",
       "      <td>937</td>\n",
       "      <td>0</td>\n",
       "    </tr>\n",
       "    <tr>\n",
       "      <td>78366</td>\n",
       "      <td>128590</td>\n",
       "      <td>8</td>\n",
       "      <td>754</td>\n",
       "      <td>1004</td>\n",
       "      <td>0</td>\n",
       "    </tr>\n",
       "    <tr>\n",
       "      <td>78367</td>\n",
       "      <td>128592</td>\n",
       "      <td>13</td>\n",
       "      <td>134</td>\n",
       "      <td>71</td>\n",
       "      <td>0</td>\n",
       "    </tr>\n",
       "    <tr>\n",
       "      <td>78368</td>\n",
       "      <td>128595</td>\n",
       "      <td>13</td>\n",
       "      <td>681</td>\n",
       "      <td>623</td>\n",
       "      <td>0</td>\n",
       "    </tr>\n",
       "  </tbody>\n",
       "</table>\n",
       "</div>"
      ],
      "text/plain": [
       "           id  campaign_id  coupon_id  customer_id  redemption_status\n",
       "78364  128587            8         71         1523                  0\n",
       "78365  128589           30        547          937                  0\n",
       "78366  128590            8        754         1004                  0\n",
       "78367  128592           13        134           71                  0\n",
       "78368  128595           13        681          623                  0"
      ]
     },
     "execution_count": 5,
     "metadata": {},
     "output_type": "execute_result"
    }
   ],
   "source": [
    "train.tail()"
   ]
  },
  {
   "cell_type": "code",
   "execution_count": 6,
   "metadata": {},
   "outputs": [
    {
     "data": {
      "text/plain": [
       "391845"
      ]
     },
     "execution_count": 6,
     "metadata": {},
     "output_type": "execute_result"
    }
   ],
   "source": [
    "train.size"
   ]
  },
  {
   "cell_type": "code",
   "execution_count": 7,
   "metadata": {},
   "outputs": [
    {
     "data": {
      "text/plain": [
       "(78369, 5)"
      ]
     },
     "execution_count": 7,
     "metadata": {},
     "output_type": "execute_result"
    }
   ],
   "source": [
    "train.shape"
   ]
  },
  {
   "cell_type": "code",
   "execution_count": 8,
   "metadata": {},
   "outputs": [
    {
     "name": "stdout",
     "output_type": "stream",
     "text": [
      "<class 'pandas.core.frame.DataFrame'>\n",
      "RangeIndex: 78369 entries, 0 to 78368\n",
      "Data columns (total 5 columns):\n",
      "id                   78369 non-null int64\n",
      "campaign_id          78369 non-null int64\n",
      "coupon_id            78369 non-null int64\n",
      "customer_id          78369 non-null int64\n",
      "redemption_status    78369 non-null int64\n",
      "dtypes: int64(5)\n",
      "memory usage: 3.0 MB\n"
     ]
    }
   ],
   "source": [
    "train.info()"
   ]
  },
  {
   "cell_type": "code",
   "execution_count": 9,
   "metadata": {},
   "outputs": [
    {
     "data": {
      "text/html": [
       "<div>\n",
       "<style scoped>\n",
       "    .dataframe tbody tr th:only-of-type {\n",
       "        vertical-align: middle;\n",
       "    }\n",
       "\n",
       "    .dataframe tbody tr th {\n",
       "        vertical-align: top;\n",
       "    }\n",
       "\n",
       "    .dataframe thead th {\n",
       "        text-align: right;\n",
       "    }\n",
       "</style>\n",
       "<table border=\"1\" class=\"dataframe\">\n",
       "  <thead>\n",
       "    <tr style=\"text-align: right;\">\n",
       "      <th></th>\n",
       "      <th>id</th>\n",
       "      <th>campaign_id</th>\n",
       "      <th>coupon_id</th>\n",
       "      <th>customer_id</th>\n",
       "      <th>redemption_status</th>\n",
       "    </tr>\n",
       "  </thead>\n",
       "  <tbody>\n",
       "    <tr>\n",
       "      <td>count</td>\n",
       "      <td>78369.000000</td>\n",
       "      <td>78369.000000</td>\n",
       "      <td>78369.000000</td>\n",
       "      <td>78369.000000</td>\n",
       "      <td>78369.000000</td>\n",
       "    </tr>\n",
       "    <tr>\n",
       "      <td>mean</td>\n",
       "      <td>64347.975449</td>\n",
       "      <td>13.974441</td>\n",
       "      <td>566.363243</td>\n",
       "      <td>787.451888</td>\n",
       "      <td>0.009302</td>\n",
       "    </tr>\n",
       "    <tr>\n",
       "      <td>std</td>\n",
       "      <td>37126.440855</td>\n",
       "      <td>8.019215</td>\n",
       "      <td>329.966054</td>\n",
       "      <td>456.811339</td>\n",
       "      <td>0.095999</td>\n",
       "    </tr>\n",
       "    <tr>\n",
       "      <td>min</td>\n",
       "      <td>1.000000</td>\n",
       "      <td>1.000000</td>\n",
       "      <td>1.000000</td>\n",
       "      <td>1.000000</td>\n",
       "      <td>0.000000</td>\n",
       "    </tr>\n",
       "    <tr>\n",
       "      <td>25%</td>\n",
       "      <td>32260.000000</td>\n",
       "      <td>8.000000</td>\n",
       "      <td>280.000000</td>\n",
       "      <td>399.000000</td>\n",
       "      <td>0.000000</td>\n",
       "    </tr>\n",
       "    <tr>\n",
       "      <td>50%</td>\n",
       "      <td>64318.000000</td>\n",
       "      <td>13.000000</td>\n",
       "      <td>597.000000</td>\n",
       "      <td>781.000000</td>\n",
       "      <td>0.000000</td>\n",
       "    </tr>\n",
       "    <tr>\n",
       "      <td>75%</td>\n",
       "      <td>96577.000000</td>\n",
       "      <td>13.000000</td>\n",
       "      <td>857.000000</td>\n",
       "      <td>1190.000000</td>\n",
       "      <td>0.000000</td>\n",
       "    </tr>\n",
       "    <tr>\n",
       "      <td>max</td>\n",
       "      <td>128595.000000</td>\n",
       "      <td>30.000000</td>\n",
       "      <td>1115.000000</td>\n",
       "      <td>1582.000000</td>\n",
       "      <td>1.000000</td>\n",
       "    </tr>\n",
       "  </tbody>\n",
       "</table>\n",
       "</div>"
      ],
      "text/plain": [
       "                  id   campaign_id     coupon_id   customer_id  \\\n",
       "count   78369.000000  78369.000000  78369.000000  78369.000000   \n",
       "mean    64347.975449     13.974441    566.363243    787.451888   \n",
       "std     37126.440855      8.019215    329.966054    456.811339   \n",
       "min         1.000000      1.000000      1.000000      1.000000   \n",
       "25%     32260.000000      8.000000    280.000000    399.000000   \n",
       "50%     64318.000000     13.000000    597.000000    781.000000   \n",
       "75%     96577.000000     13.000000    857.000000   1190.000000   \n",
       "max    128595.000000     30.000000   1115.000000   1582.000000   \n",
       "\n",
       "       redemption_status  \n",
       "count       78369.000000  \n",
       "mean            0.009302  \n",
       "std             0.095999  \n",
       "min             0.000000  \n",
       "25%             0.000000  \n",
       "50%             0.000000  \n",
       "75%             0.000000  \n",
       "max             1.000000  "
      ]
     },
     "execution_count": 9,
     "metadata": {},
     "output_type": "execute_result"
    }
   ],
   "source": [
    "train.describe()"
   ]
  },
  {
   "cell_type": "code",
   "execution_count": 10,
   "metadata": {},
   "outputs": [
    {
     "data": {
      "text/plain": [
       "id                   int64\n",
       "campaign_id          int64\n",
       "coupon_id            int64\n",
       "customer_id          int64\n",
       "redemption_status    int64\n",
       "dtype: object"
      ]
     },
     "execution_count": 10,
     "metadata": {},
     "output_type": "execute_result"
    }
   ],
   "source": [
    "train.dtypes"
   ]
  },
  {
   "cell_type": "markdown",
   "metadata": {},
   "source": [
    "# No need to convert anything every datatype is of int64 type.\n"
   ]
  },
  {
   "cell_type": "code",
   "execution_count": 11,
   "metadata": {},
   "outputs": [
    {
     "data": {
      "text/plain": [
       "0    77640\n",
       "1      729\n",
       "Name: redemption_status, dtype: int64"
      ]
     },
     "execution_count": 11,
     "metadata": {},
     "output_type": "execute_result"
    }
   ],
   "source": [
    "train[\"redemption_status\"].value_counts()"
   ]
  },
  {
   "cell_type": "code",
   "execution_count": 12,
   "metadata": {},
   "outputs": [
    {
     "data": {
      "text/plain": [
       "0    99.069785\n",
       "1     0.930215\n",
       "Name: redemption_status, dtype: float64"
      ]
     },
     "execution_count": 12,
     "metadata": {},
     "output_type": "execute_result"
    }
   ],
   "source": [
    "train.redemption_status.value_counts(normalize=True)*100"
   ]
  },
  {
   "cell_type": "code",
   "execution_count": 13,
   "metadata": {},
   "outputs": [
    {
     "data": {
      "text/plain": [
       "Text(0.5, 1.0, 'Value Counts')"
      ]
     },
     "execution_count": 13,
     "metadata": {},
     "output_type": "execute_result"
    },
    {
     "data": {
      "image/png": "[encoded data removed]",
      "text/plain": [
       "<Figure size 432x288 with 1 Axes>"
      ]
     },
     "metadata": {
      "needs_background": "light"
     },
     "output_type": "display_data"
    }
   ],
   "source": [
    "train['redemption_status'].value_counts().plot(kind='bar')\n",
    "plt.ylabel('redemption_status')\n",
    "plt.title(\"Value Counts\")"
   ]
  },
  {
   "cell_type": "code",
   "execution_count": 14,
   "metadata": {},
   "outputs": [],
   "source": [
    "#The data is highly imbalanced data."
   ]
  },
  {
   "cell_type": "code",
   "execution_count": 15,
   "metadata": {},
   "outputs": [
    {
     "name": "stdout",
     "output_type": "stream",
     "text": [
      "perentage of IMBALANCE:  0.930214753282548\n"
     ]
    }
   ],
   "source": [
    "IMBALANCE_percentage = ((729)/(78369))*100\n",
    "print('perentage of IMBALANCE: ',IMBALANCE_percentage)"
   ]
  },
  {
   "cell_type": "markdown",
   "metadata": {},
   "source": [
    "# Campaign Dataframe"
   ]
  },
  {
   "cell_type": "markdown",
   "metadata": {},
   "source": [
    "-The main purpose of campaign is to attract more people and tell them about the benifits of coupon and to increase the redemtion_status of coupons."
   ]
  },
  {
   "cell_type": "markdown",
   "metadata": {},
   "source": [
    " Campaign information for each of the 28 campaigns\n",
    "\n",
    "campaign_id -Unique id for a discount campaign\n",
    "\n",
    "campaign_type -Anonymised Campaign Type (X/Y)\n",
    "\n",
    "start_date -Campaign Start Date\n",
    "\n",
    "end_date -Campaign End Date "
   ]
  },
  {
   "cell_type": "markdown",
   "metadata": {},
   "source": [
    "# Load the file"
   ]
  },
  {
   "cell_type": "code",
   "execution_count": 16,
   "metadata": {},
   "outputs": [],
   "source": [
    "campaign = pd.read_csv('campaign_data.csv')"
   ]
  },
  {
   "cell_type": "code",
   "execution_count": 17,
   "metadata": {},
   "outputs": [
    {
     "data": {
      "text/plain": [
       "campaign_id      0\n",
       "campaign_type    0\n",
       "start_date       0\n",
       "end_date         0\n",
       "dtype: int64"
      ]
     },
     "execution_count": 17,
     "metadata": {},
     "output_type": "execute_result"
    }
   ],
   "source": [
    "campaign[campaign.isnull().any(axis=1)].count()"
   ]
  },
  {
   "cell_type": "markdown",
   "metadata": {},
   "source": [
    "# INFERENCES::no null values are found\n"
   ]
  },
  {
   "cell_type": "code",
   "execution_count": 18,
   "metadata": {},
   "outputs": [
    {
     "data": {
      "text/html": [
       "<div>\n",
       "<style scoped>\n",
       "    .dataframe tbody tr th:only-of-type {\n",
       "        vertical-align: middle;\n",
       "    }\n",
       "\n",
       "    .dataframe tbody tr th {\n",
       "        vertical-align: top;\n",
       "    }\n",
       "\n",
       "    .dataframe thead th {\n",
       "        text-align: right;\n",
       "    }\n",
       "</style>\n",
       "<table border=\"1\" class=\"dataframe\">\n",
       "  <thead>\n",
       "    <tr style=\"text-align: right;\">\n",
       "      <th></th>\n",
       "      <th>campaign_id</th>\n",
       "      <th>campaign_type</th>\n",
       "      <th>start_date</th>\n",
       "      <th>end_date</th>\n",
       "    </tr>\n",
       "  </thead>\n",
       "  <tbody>\n",
       "    <tr>\n",
       "      <td>0</td>\n",
       "      <td>24</td>\n",
       "      <td>Y</td>\n",
       "      <td>21/10/13</td>\n",
       "      <td>20/12/13</td>\n",
       "    </tr>\n",
       "    <tr>\n",
       "      <td>1</td>\n",
       "      <td>25</td>\n",
       "      <td>Y</td>\n",
       "      <td>21/10/13</td>\n",
       "      <td>22/11/13</td>\n",
       "    </tr>\n",
       "    <tr>\n",
       "      <td>2</td>\n",
       "      <td>20</td>\n",
       "      <td>Y</td>\n",
       "      <td>07/09/13</td>\n",
       "      <td>16/11/13</td>\n",
       "    </tr>\n",
       "    <tr>\n",
       "      <td>3</td>\n",
       "      <td>23</td>\n",
       "      <td>Y</td>\n",
       "      <td>08/10/13</td>\n",
       "      <td>15/11/13</td>\n",
       "    </tr>\n",
       "    <tr>\n",
       "      <td>4</td>\n",
       "      <td>21</td>\n",
       "      <td>Y</td>\n",
       "      <td>16/09/13</td>\n",
       "      <td>18/10/13</td>\n",
       "    </tr>\n",
       "  </tbody>\n",
       "</table>\n",
       "</div>"
      ],
      "text/plain": [
       "   campaign_id campaign_type start_date  end_date\n",
       "0           24             Y   21/10/13  20/12/13\n",
       "1           25             Y   21/10/13  22/11/13\n",
       "2           20             Y   07/09/13  16/11/13\n",
       "3           23             Y   08/10/13  15/11/13\n",
       "4           21             Y   16/09/13  18/10/13"
      ]
     },
     "execution_count": 18,
     "metadata": {},
     "output_type": "execute_result"
    }
   ],
   "source": [
    "campaign.head()"
   ]
  },
  {
   "cell_type": "code",
   "execution_count": 19,
   "metadata": {},
   "outputs": [
    {
     "data": {
      "text/html": [
       "<div>\n",
       "<style scoped>\n",
       "    .dataframe tbody tr th:only-of-type {\n",
       "        vertical-align: middle;\n",
       "    }\n",
       "\n",
       "    .dataframe tbody tr th {\n",
       "        vertical-align: top;\n",
       "    }\n",
       "\n",
       "    .dataframe thead th {\n",
       "        text-align: right;\n",
       "    }\n",
       "</style>\n",
       "<table border=\"1\" class=\"dataframe\">\n",
       "  <thead>\n",
       "    <tr style=\"text-align: right;\">\n",
       "      <th></th>\n",
       "      <th>campaign_id</th>\n",
       "      <th>campaign_type</th>\n",
       "      <th>start_date</th>\n",
       "      <th>end_date</th>\n",
       "    </tr>\n",
       "  </thead>\n",
       "  <tbody>\n",
       "    <tr>\n",
       "      <td>23</td>\n",
       "      <td>30</td>\n",
       "      <td>X</td>\n",
       "      <td>19/11/12</td>\n",
       "      <td>04/01/13</td>\n",
       "    </tr>\n",
       "    <tr>\n",
       "      <td>24</td>\n",
       "      <td>29</td>\n",
       "      <td>Y</td>\n",
       "      <td>08/10/12</td>\n",
       "      <td>30/11/12</td>\n",
       "    </tr>\n",
       "    <tr>\n",
       "      <td>25</td>\n",
       "      <td>28</td>\n",
       "      <td>Y</td>\n",
       "      <td>16/09/12</td>\n",
       "      <td>16/11/12</td>\n",
       "    </tr>\n",
       "    <tr>\n",
       "      <td>26</td>\n",
       "      <td>27</td>\n",
       "      <td>Y</td>\n",
       "      <td>25/08/12</td>\n",
       "      <td>27/10/12</td>\n",
       "    </tr>\n",
       "    <tr>\n",
       "      <td>27</td>\n",
       "      <td>26</td>\n",
       "      <td>X</td>\n",
       "      <td>12/08/12</td>\n",
       "      <td>21/09/12</td>\n",
       "    </tr>\n",
       "  </tbody>\n",
       "</table>\n",
       "</div>"
      ],
      "text/plain": [
       "    campaign_id campaign_type start_date  end_date\n",
       "23           30             X   19/11/12  04/01/13\n",
       "24           29             Y   08/10/12  30/11/12\n",
       "25           28             Y   16/09/12  16/11/12\n",
       "26           27             Y   25/08/12  27/10/12\n",
       "27           26             X   12/08/12  21/09/12"
      ]
     },
     "execution_count": 19,
     "metadata": {},
     "output_type": "execute_result"
    }
   ],
   "source": [
    "campaign.tail()"
   ]
  },
  {
   "cell_type": "code",
   "execution_count": 20,
   "metadata": {},
   "outputs": [
    {
     "name": "stdout",
     "output_type": "stream",
     "text": [
      "<class 'pandas.core.frame.DataFrame'>\n",
      "RangeIndex: 28 entries, 0 to 27\n",
      "Data columns (total 4 columns):\n",
      "campaign_id      28 non-null int64\n",
      "campaign_type    28 non-null object\n",
      "start_date       28 non-null object\n",
      "end_date         28 non-null object\n",
      "dtypes: int64(1), object(3)\n",
      "memory usage: 1.0+ KB\n"
     ]
    }
   ],
   "source": [
    "campaign.info()"
   ]
  },
  {
   "cell_type": "code",
   "execution_count": 21,
   "metadata": {},
   "outputs": [
    {
     "data": {
      "text/html": [
       "<div>\n",
       "<style scoped>\n",
       "    .dataframe tbody tr th:only-of-type {\n",
       "        vertical-align: middle;\n",
       "    }\n",
       "\n",
       "    .dataframe tbody tr th {\n",
       "        vertical-align: top;\n",
       "    }\n",
       "\n",
       "    .dataframe thead th {\n",
       "        text-align: right;\n",
       "    }\n",
       "</style>\n",
       "<table border=\"1\" class=\"dataframe\">\n",
       "  <thead>\n",
       "    <tr style=\"text-align: right;\">\n",
       "      <th></th>\n",
       "      <th>campaign_id</th>\n",
       "    </tr>\n",
       "  </thead>\n",
       "  <tbody>\n",
       "    <tr>\n",
       "      <td>count</td>\n",
       "      <td>28.000000</td>\n",
       "    </tr>\n",
       "    <tr>\n",
       "      <td>mean</td>\n",
       "      <td>15.571429</td>\n",
       "    </tr>\n",
       "    <tr>\n",
       "      <td>std</td>\n",
       "      <td>9.118271</td>\n",
       "    </tr>\n",
       "    <tr>\n",
       "      <td>min</td>\n",
       "      <td>1.000000</td>\n",
       "    </tr>\n",
       "    <tr>\n",
       "      <td>25%</td>\n",
       "      <td>7.750000</td>\n",
       "    </tr>\n",
       "    <tr>\n",
       "      <td>50%</td>\n",
       "      <td>16.500000</td>\n",
       "    </tr>\n",
       "    <tr>\n",
       "      <td>75%</td>\n",
       "      <td>23.250000</td>\n",
       "    </tr>\n",
       "    <tr>\n",
       "      <td>max</td>\n",
       "      <td>30.000000</td>\n",
       "    </tr>\n",
       "  </tbody>\n",
       "</table>\n",
       "</div>"
      ],
      "text/plain": [
       "       campaign_id\n",
       "count    28.000000\n",
       "mean     15.571429\n",
       "std       9.118271\n",
       "min       1.000000\n",
       "25%       7.750000\n",
       "50%      16.500000\n",
       "75%      23.250000\n",
       "max      30.000000"
      ]
     },
     "execution_count": 21,
     "metadata": {},
     "output_type": "execute_result"
    }
   ],
   "source": [
    "campaign.describe()"
   ]
  },
  {
   "cell_type": "code",
   "execution_count": 22,
   "metadata": {},
   "outputs": [
    {
     "data": {
      "text/plain": [
       "campaign_id       int64\n",
       "campaign_type    object\n",
       "start_date       object\n",
       "end_date         object\n",
       "dtype: object"
      ]
     },
     "execution_count": 22,
     "metadata": {},
     "output_type": "execute_result"
    }
   ],
   "source": [
    "campaign.dtypes"
   ]
  },
  {
   "cell_type": "markdown",
   "metadata": {},
   "source": [
    "# INFERENCES:we should convert every object column into int64 type"
   ]
  },
  {
   "cell_type": "markdown",
   "metadata": {},
   "source": [
    "-Customers can recieve coupons under various campaigns and may choose to redeem them.\n",
    "\n",
    "-They can redeem the coupon for any valid product between the campaign start date and end date."
   ]
  },
  {
   "cell_type": "code",
   "execution_count": 23,
   "metadata": {},
   "outputs": [
    {
     "data": {
      "text/plain": [
       "Y    22\n",
       "X     6\n",
       "Name: campaign_type, dtype: int64"
      ]
     },
     "execution_count": 23,
     "metadata": {},
     "output_type": "execute_result"
    }
   ],
   "source": [
    "campaign.campaign_type.value_counts()"
   ]
  },
  {
   "cell_type": "markdown",
   "metadata": {},
   "source": [
    "-Out of 28 total campaigns 22 are Y type campaign and 6 are X type campaign"
   ]
  },
  {
   "cell_type": "code",
   "execution_count": 24,
   "metadata": {},
   "outputs": [
    {
     "data": {
      "text/plain": [
       "Text(0.5, 1.0, 'Value Counts')"
      ]
     },
     "execution_count": 24,
     "metadata": {},
     "output_type": "execute_result"
    },
    {
     "data": {
      "image/png": "[encoded data removed]",
      "text/plain": [
       "<Figure size 432x288 with 1 Axes>"
      ]
     },
     "metadata": {
      "needs_background": "light"
     },
     "output_type": "display_data"
    }
   ],
   "source": [
    "campaign.campaign_type.value_counts().plot(kind='bar')\n",
    "plt.ylabel('redemption_status')\n",
    "plt.title(\"Value Counts\")"
   ]
  },
  {
   "cell_type": "markdown",
   "metadata": {},
   "source": [
    "# Converting the date columns to date time"
   ]
  },
  {
   "cell_type": "code",
   "execution_count": 25,
   "metadata": {},
   "outputs": [],
   "source": [
    "#Converting the date columns to date time\n",
    "campaign['start_date'] = pd.to_datetime(campaign['start_date'], format = '%d/%m/%y')\n",
    "campaign['end_date'] = pd.to_datetime(campaign['end_date'], format = '%d/%m/%y')\n",
    "\n"
   ]
  },
  {
   "cell_type": "markdown",
   "metadata": {},
   "source": [
    "# Creating a new column campaign_duration"
   ]
  },
  {
   "cell_type": "code",
   "execution_count": 26,
   "metadata": {},
   "outputs": [],
   "source": [
    "\n",
    "campaign[\"campaign_duration\"] = campaign[\"end_date\"] - campaign[\"start_date\"]\n",
    "campaign[\"campaign_duration\"] = campaign[\"campaign_duration\"].apply(lambda x: x.days) "
   ]
  },
  {
   "cell_type": "code",
   "execution_count": 27,
   "metadata": {},
   "outputs": [
    {
     "data": {
      "text/plain": [
       "0     60\n",
       "1     32\n",
       "2     70\n",
       "3     38\n",
       "4     32\n",
       "5     32\n",
       "6     55\n",
       "7     32\n",
       "8     32\n",
       "9     32\n",
       "10    47\n",
       "11    46\n",
       "12    32\n",
       "13    32\n",
       "14    32\n",
       "15    48\n",
       "16    34\n",
       "17    32\n",
       "18    56\n",
       "19    34\n",
       "20    32\n",
       "21    37\n",
       "22    32\n",
       "23    46\n",
       "24    53\n",
       "25    61\n",
       "26    63\n",
       "27    40\n",
       "Name: campaign_duration, dtype: int64"
      ]
     },
     "execution_count": 27,
     "metadata": {},
     "output_type": "execute_result"
    }
   ],
   "source": [
    "campaign[\"campaign_duration\"] "
   ]
  },
  {
   "cell_type": "markdown",
   "metadata": {},
   "source": [
    "# Label Encoding on Campaign type"
   ]
  },
  {
   "cell_type": "code",
   "execution_count": 28,
   "metadata": {},
   "outputs": [],
   "source": [
    "from sklearn.preprocessing import LabelEncoder\n",
    "\n",
    "encoder = LabelEncoder()\n",
    "campaign[\"campaign_type\"] = encoder.fit_transform(campaign.campaign_type)"
   ]
  },
  {
   "cell_type": "markdown",
   "metadata": {},
   "source": [
    "# Coupons (Dataframe)"
   ]
  },
  {
   "cell_type": "markdown",
   "metadata": {},
   "source": [
    "# Load the file"
   ]
  },
  {
   "cell_type": "code",
   "execution_count": 29,
   "metadata": {},
   "outputs": [],
   "source": [
    "coupons = pd.read_csv('coupon_item_mapping.csv')"
   ]
  },
  {
   "cell_type": "code",
   "execution_count": 30,
   "metadata": {},
   "outputs": [
    {
     "data": {
      "text/plain": [
       "coupon_id    0\n",
       "item_id      0\n",
       "dtype: int64"
      ]
     },
     "execution_count": 30,
     "metadata": {},
     "output_type": "execute_result"
    }
   ],
   "source": [
    "coupons[coupons.isnull().any(axis=1)].count()"
   ]
  },
  {
   "cell_type": "code",
   "execution_count": 31,
   "metadata": {},
   "outputs": [
    {
     "data": {
      "text/html": [
       "<div>\n",
       "<style scoped>\n",
       "    .dataframe tbody tr th:only-of-type {\n",
       "        vertical-align: middle;\n",
       "    }\n",
       "\n",
       "    .dataframe tbody tr th {\n",
       "        vertical-align: top;\n",
       "    }\n",
       "\n",
       "    .dataframe thead th {\n",
       "        text-align: right;\n",
       "    }\n",
       "</style>\n",
       "<table border=\"1\" class=\"dataframe\">\n",
       "  <thead>\n",
       "    <tr style=\"text-align: right;\">\n",
       "      <th></th>\n",
       "      <th>coupon_id</th>\n",
       "      <th>item_id</th>\n",
       "    </tr>\n",
       "  </thead>\n",
       "  <tbody>\n",
       "    <tr>\n",
       "      <td>0</td>\n",
       "      <td>105</td>\n",
       "      <td>37</td>\n",
       "    </tr>\n",
       "    <tr>\n",
       "      <td>1</td>\n",
       "      <td>107</td>\n",
       "      <td>75</td>\n",
       "    </tr>\n",
       "    <tr>\n",
       "      <td>2</td>\n",
       "      <td>494</td>\n",
       "      <td>76</td>\n",
       "    </tr>\n",
       "    <tr>\n",
       "      <td>3</td>\n",
       "      <td>522</td>\n",
       "      <td>77</td>\n",
       "    </tr>\n",
       "    <tr>\n",
       "      <td>4</td>\n",
       "      <td>518</td>\n",
       "      <td>77</td>\n",
       "    </tr>\n",
       "  </tbody>\n",
       "</table>\n",
       "</div>"
      ],
      "text/plain": [
       "   coupon_id  item_id\n",
       "0        105       37\n",
       "1        107       75\n",
       "2        494       76\n",
       "3        522       77\n",
       "4        518       77"
      ]
     },
     "execution_count": 31,
     "metadata": {},
     "output_type": "execute_result"
    }
   ],
   "source": [
    "coupons.head()"
   ]
  },
  {
   "cell_type": "markdown",
   "metadata": {},
   "source": [
    "# Items (Dataframe)"
   ]
  },
  {
   "cell_type": "markdown",
   "metadata": {},
   "source": [
    "Item information for each item sold by the retailer\n",
    "\n",
    "item_id-Unique id for item\n",
    "\n",
    "brand -Unique id for item brand\n",
    "\n",
    "brand_type -Brand Type (local/Established)\n",
    "\n",
    "category -Item Category "
   ]
  },
  {
   "cell_type": "code",
   "execution_count": 32,
   "metadata": {},
   "outputs": [],
   "source": [
    "items = pd.read_csv('item_data.csv')"
   ]
  },
  {
   "cell_type": "code",
   "execution_count": 33,
   "metadata": {},
   "outputs": [
    {
     "data": {
      "text/plain": [
       "item_id       0\n",
       "brand         0\n",
       "brand_type    0\n",
       "category      0\n",
       "dtype: int64"
      ]
     },
     "execution_count": 33,
     "metadata": {},
     "output_type": "execute_result"
    }
   ],
   "source": [
    "items[items.isnull().any(axis=1)].count()"
   ]
  },
  {
   "cell_type": "code",
   "execution_count": 34,
   "metadata": {},
   "outputs": [
    {
     "data": {
      "text/html": [
       "<div>\n",
       "<style scoped>\n",
       "    .dataframe tbody tr th:only-of-type {\n",
       "        vertical-align: middle;\n",
       "    }\n",
       "\n",
       "    .dataframe tbody tr th {\n",
       "        vertical-align: top;\n",
       "    }\n",
       "\n",
       "    .dataframe thead th {\n",
       "        text-align: right;\n",
       "    }\n",
       "</style>\n",
       "<table border=\"1\" class=\"dataframe\">\n",
       "  <thead>\n",
       "    <tr style=\"text-align: right;\">\n",
       "      <th></th>\n",
       "      <th>item_id</th>\n",
       "      <th>brand</th>\n",
       "      <th>brand_type</th>\n",
       "      <th>category</th>\n",
       "    </tr>\n",
       "  </thead>\n",
       "  <tbody>\n",
       "    <tr>\n",
       "      <td>0</td>\n",
       "      <td>1</td>\n",
       "      <td>1</td>\n",
       "      <td>Established</td>\n",
       "      <td>Grocery</td>\n",
       "    </tr>\n",
       "    <tr>\n",
       "      <td>1</td>\n",
       "      <td>2</td>\n",
       "      <td>1</td>\n",
       "      <td>Established</td>\n",
       "      <td>Miscellaneous</td>\n",
       "    </tr>\n",
       "    <tr>\n",
       "      <td>2</td>\n",
       "      <td>3</td>\n",
       "      <td>56</td>\n",
       "      <td>Local</td>\n",
       "      <td>Bakery</td>\n",
       "    </tr>\n",
       "    <tr>\n",
       "      <td>3</td>\n",
       "      <td>4</td>\n",
       "      <td>56</td>\n",
       "      <td>Local</td>\n",
       "      <td>Grocery</td>\n",
       "    </tr>\n",
       "    <tr>\n",
       "      <td>4</td>\n",
       "      <td>5</td>\n",
       "      <td>56</td>\n",
       "      <td>Local</td>\n",
       "      <td>Grocery</td>\n",
       "    </tr>\n",
       "  </tbody>\n",
       "</table>\n",
       "</div>"
      ],
      "text/plain": [
       "   item_id  brand   brand_type       category\n",
       "0        1      1  Established        Grocery\n",
       "1        2      1  Established  Miscellaneous\n",
       "2        3     56        Local         Bakery\n",
       "3        4     56        Local        Grocery\n",
       "4        5     56        Local        Grocery"
      ]
     },
     "execution_count": 34,
     "metadata": {},
     "output_type": "execute_result"
    }
   ],
   "source": [
    "items.head()"
   ]
  },
  {
   "cell_type": "code",
   "execution_count": 35,
   "metadata": {},
   "outputs": [
    {
     "name": "stdout",
     "output_type": "stream",
     "text": [
      "<class 'pandas.core.frame.DataFrame'>\n",
      "RangeIndex: 74066 entries, 0 to 74065\n",
      "Data columns (total 4 columns):\n",
      "item_id       74066 non-null int64\n",
      "brand         74066 non-null int64\n",
      "brand_type    74066 non-null object\n",
      "category      74066 non-null object\n",
      "dtypes: int64(2), object(2)\n",
      "memory usage: 2.3+ MB\n"
     ]
    }
   ],
   "source": [
    "items.info()"
   ]
  },
  {
   "cell_type": "markdown",
   "metadata": {},
   "source": [
    "# Brand Type"
   ]
  },
  {
   "cell_type": "code",
   "execution_count": 36,
   "metadata": {},
   "outputs": [
    {
     "data": {
      "text/plain": [
       "Established    62842\n",
       "Local          11224\n",
       "Name: brand_type, dtype: int64"
      ]
     },
     "execution_count": 36,
     "metadata": {},
     "output_type": "execute_result"
    }
   ],
   "source": [
    "items.brand_type.value_counts()"
   ]
  },
  {
   "cell_type": "code",
   "execution_count": 37,
   "metadata": {},
   "outputs": [
    {
     "data": {
      "text/plain": [
       "Text(0.5, 1.0, 'Value Counts')"
      ]
     },
     "execution_count": 37,
     "metadata": {},
     "output_type": "execute_result"
    },
    {
     "data": {
      "image/png": "[encoded data removed]",
      "text/plain": [
       "<Figure size 432x288 with 1 Axes>"
      ]
     },
     "metadata": {
      "needs_background": "light"
     },
     "output_type": "display_data"
    }
   ],
   "source": [
    "items.brand_type.value_counts().plot(kind='bar')\n",
    "\n",
    "plt.title(\"Value Counts\")"
   ]
  },
  {
   "cell_type": "code",
   "execution_count": 38,
   "metadata": {},
   "outputs": [
    {
     "data": {
      "text/plain": [
       "Established    0.848459\n",
       "Local          0.151541\n",
       "Name: brand_type, dtype: float64"
      ]
     },
     "execution_count": 38,
     "metadata": {},
     "output_type": "execute_result"
    }
   ],
   "source": [
    "items.brand_type.value_counts(normalize=True)"
   ]
  },
  {
   "cell_type": "markdown",
   "metadata": {},
   "source": [
    "-The type of brand is rarely local most of them are from established."
   ]
  },
  {
   "cell_type": "markdown",
   "metadata": {},
   "source": [
    "# Category"
   ]
  },
  {
   "cell_type": "code",
   "execution_count": 39,
   "metadata": {},
   "outputs": [],
   "source": [
    "categorcial_variables = [\"category\"]"
   ]
  },
  {
   "cell_type": "code",
   "execution_count": 40,
   "metadata": {},
   "outputs": [
    {
     "data": {
      "text/plain": [
       "Grocery                   0.438096\n",
       "Pharmaceutical            0.330395\n",
       "Natural Products          0.034199\n",
       "Dairy, Juices & Snacks    0.032741\n",
       "Skin & Hair Care          0.030297\n",
       "Meat                      0.028083\n",
       "Packaged Meat             0.026544\n",
       "Prepared Food             0.025383\n",
       "Bakery                    0.022669\n",
       "Seafood                   0.009829\n",
       "Flowers & Plants          0.008965\n",
       "Miscellaneous             0.005198\n",
       "Alcohol                   0.004091\n",
       "Garden                    0.001377\n",
       "Restauarant               0.001053\n",
       "Salads                    0.000540\n",
       "Travel                    0.000257\n",
       "Fuel                      0.000189\n",
       "Vegetables (cut)          0.000095\n",
       "Name: category, dtype: float64"
      ]
     },
     "execution_count": 40,
     "metadata": {},
     "output_type": "execute_result"
    }
   ],
   "source": [
    "items.category.value_counts(normalize=True)"
   ]
  },
  {
   "cell_type": "code",
   "execution_count": 41,
   "metadata": {},
   "outputs": [
    {
     "data": {
      "image/png": "[encoded data removed]",
      "text/plain": [
       "<Figure size 720x288 with 1 Axes>"
      ]
     },
     "metadata": {
      "needs_background": "light"
     },
     "output_type": "display_data"
    }
   ],
   "source": [
    "for col in categorcial_variables:\n",
    "    plt.figure(figsize=(10,4))\n",
    "    sns.barplot(items[col].value_counts().values, items[col].value_counts().index)\n",
    "    plt.title(col)"
   ]
  },
  {
   "cell_type": "markdown",
   "metadata": {},
   "source": [
    "-Here we can observe that 43% products are of grocery category and 33% products are pharmaceutical category which comprises the most.\n",
    "\n",
    "-After the above two categories some top categories are Natural Products,Dairy Juices and Snacks,Skin and Health Care and Meat.\n",
    "\n",
    "-Very few coupons are there for category of Vegetables,fuels and for travel.\n"
   ]
  },
  {
   "cell_type": "code",
   "execution_count": 42,
   "metadata": {},
   "outputs": [],
   "source": [
    "items.brand_type = encoder.fit_transform(items[\"brand_type\"])\n",
    "items.category = encoder.fit_transform(items[\"category\"])"
   ]
  },
  {
   "cell_type": "markdown",
   "metadata": {},
   "source": [
    "# Customer Demographic Dataframe"
   ]
  },
  {
   "cell_type": "markdown",
   "metadata": {},
   "source": [
    " Customer demographic information for some customers\n",
    "\n",
    "customer_id -Unique id for a customer\n",
    "\n",
    "age_range -Age range of customer family in years\n",
    "\n",
    "marital_status- Married/Single\n",
    "\n",
    "rented- 0 - not rented accommodation, 1 - rented accommodation\n",
    "\n",
    "family_size- Number of family members\n",
    "\n",
    "no_of_children -Number of children in the family\n",
    "\n",
    "income_bracket- Label Encoded Income Bracket (Higher income corresponds to higher number) "
   ]
  },
  {
   "cell_type": "markdown",
   "metadata": {},
   "source": [
    "# Load the file"
   ]
  },
  {
   "cell_type": "code",
   "execution_count": 43,
   "metadata": {},
   "outputs": [],
   "source": [
    "cust_demo = pd.read_csv('customer_demographics.csv')"
   ]
  },
  {
   "cell_type": "code",
   "execution_count": 44,
   "metadata": {},
   "outputs": [
    {
     "data": {
      "text/plain": [
       "customer_id       595\n",
       "age_range         595\n",
       "marital_status    266\n",
       "rented            595\n",
       "family_size       595\n",
       "no_of_children     57\n",
       "income_bracket    595\n",
       "dtype: int64"
      ]
     },
     "execution_count": 44,
     "metadata": {},
     "output_type": "execute_result"
    }
   ],
   "source": [
    "cust_demo[cust_demo.isnull().any(axis=1)].count()"
   ]
  },
  {
   "cell_type": "markdown",
   "metadata": {},
   "source": [
    "-We can see so many null values in cust_demo"
   ]
  },
  {
   "cell_type": "code",
   "execution_count": 45,
   "metadata": {},
   "outputs": [
    {
     "data": {
      "text/html": [
       "<div>\n",
       "<style scoped>\n",
       "    .dataframe tbody tr th:only-of-type {\n",
       "        vertical-align: middle;\n",
       "    }\n",
       "\n",
       "    .dataframe tbody tr th {\n",
       "        vertical-align: top;\n",
       "    }\n",
       "\n",
       "    .dataframe thead th {\n",
       "        text-align: right;\n",
       "    }\n",
       "</style>\n",
       "<table border=\"1\" class=\"dataframe\">\n",
       "  <thead>\n",
       "    <tr style=\"text-align: right;\">\n",
       "      <th></th>\n",
       "      <th>customer_id</th>\n",
       "      <th>age_range</th>\n",
       "      <th>marital_status</th>\n",
       "      <th>rented</th>\n",
       "      <th>family_size</th>\n",
       "      <th>no_of_children</th>\n",
       "      <th>income_bracket</th>\n",
       "    </tr>\n",
       "  </thead>\n",
       "  <tbody>\n",
       "    <tr>\n",
       "      <td>0</td>\n",
       "      <td>1</td>\n",
       "      <td>70+</td>\n",
       "      <td>Married</td>\n",
       "      <td>0</td>\n",
       "      <td>2</td>\n",
       "      <td>NaN</td>\n",
       "      <td>4</td>\n",
       "    </tr>\n",
       "    <tr>\n",
       "      <td>1</td>\n",
       "      <td>6</td>\n",
       "      <td>46-55</td>\n",
       "      <td>Married</td>\n",
       "      <td>0</td>\n",
       "      <td>2</td>\n",
       "      <td>NaN</td>\n",
       "      <td>5</td>\n",
       "    </tr>\n",
       "    <tr>\n",
       "      <td>2</td>\n",
       "      <td>7</td>\n",
       "      <td>26-35</td>\n",
       "      <td>NaN</td>\n",
       "      <td>0</td>\n",
       "      <td>3</td>\n",
       "      <td>1</td>\n",
       "      <td>3</td>\n",
       "    </tr>\n",
       "    <tr>\n",
       "      <td>3</td>\n",
       "      <td>8</td>\n",
       "      <td>26-35</td>\n",
       "      <td>NaN</td>\n",
       "      <td>0</td>\n",
       "      <td>4</td>\n",
       "      <td>2</td>\n",
       "      <td>6</td>\n",
       "    </tr>\n",
       "    <tr>\n",
       "      <td>4</td>\n",
       "      <td>10</td>\n",
       "      <td>46-55</td>\n",
       "      <td>Single</td>\n",
       "      <td>0</td>\n",
       "      <td>1</td>\n",
       "      <td>NaN</td>\n",
       "      <td>5</td>\n",
       "    </tr>\n",
       "  </tbody>\n",
       "</table>\n",
       "</div>"
      ],
      "text/plain": [
       "   customer_id age_range marital_status  rented family_size no_of_children  \\\n",
       "0            1       70+        Married       0           2            NaN   \n",
       "1            6     46-55        Married       0           2            NaN   \n",
       "2            7     26-35            NaN       0           3              1   \n",
       "3            8     26-35            NaN       0           4              2   \n",
       "4           10     46-55         Single       0           1            NaN   \n",
       "\n",
       "   income_bracket  \n",
       "0               4  \n",
       "1               5  \n",
       "2               3  \n",
       "3               6  \n",
       "4               5  "
      ]
     },
     "execution_count": 45,
     "metadata": {},
     "output_type": "execute_result"
    }
   ],
   "source": [
    "cust_demo.head()"
   ]
  },
  {
   "cell_type": "code",
   "execution_count": 46,
   "metadata": {},
   "outputs": [
    {
     "data": {
      "text/html": [
       "<div>\n",
       "<style scoped>\n",
       "    .dataframe tbody tr th:only-of-type {\n",
       "        vertical-align: middle;\n",
       "    }\n",
       "\n",
       "    .dataframe tbody tr th {\n",
       "        vertical-align: top;\n",
       "    }\n",
       "\n",
       "    .dataframe thead th {\n",
       "        text-align: right;\n",
       "    }\n",
       "</style>\n",
       "<table border=\"1\" class=\"dataframe\">\n",
       "  <thead>\n",
       "    <tr style=\"text-align: right;\">\n",
       "      <th></th>\n",
       "      <th>customer_id</th>\n",
       "      <th>age_range</th>\n",
       "      <th>marital_status</th>\n",
       "      <th>rented</th>\n",
       "      <th>family_size</th>\n",
       "      <th>no_of_children</th>\n",
       "      <th>income_bracket</th>\n",
       "    </tr>\n",
       "  </thead>\n",
       "  <tbody>\n",
       "    <tr>\n",
       "      <td>755</td>\n",
       "      <td>1577</td>\n",
       "      <td>36-45</td>\n",
       "      <td>NaN</td>\n",
       "      <td>0</td>\n",
       "      <td>2</td>\n",
       "      <td>NaN</td>\n",
       "      <td>5</td>\n",
       "    </tr>\n",
       "    <tr>\n",
       "      <td>756</td>\n",
       "      <td>1578</td>\n",
       "      <td>46-55</td>\n",
       "      <td>Married</td>\n",
       "      <td>0</td>\n",
       "      <td>3</td>\n",
       "      <td>1</td>\n",
       "      <td>6</td>\n",
       "    </tr>\n",
       "    <tr>\n",
       "      <td>757</td>\n",
       "      <td>1579</td>\n",
       "      <td>46-55</td>\n",
       "      <td>NaN</td>\n",
       "      <td>0</td>\n",
       "      <td>1</td>\n",
       "      <td>NaN</td>\n",
       "      <td>4</td>\n",
       "    </tr>\n",
       "    <tr>\n",
       "      <td>758</td>\n",
       "      <td>1580</td>\n",
       "      <td>26-35</td>\n",
       "      <td>NaN</td>\n",
       "      <td>0</td>\n",
       "      <td>2</td>\n",
       "      <td>NaN</td>\n",
       "      <td>5</td>\n",
       "    </tr>\n",
       "    <tr>\n",
       "      <td>759</td>\n",
       "      <td>1581</td>\n",
       "      <td>26-35</td>\n",
       "      <td>NaN</td>\n",
       "      <td>0</td>\n",
       "      <td>3</td>\n",
       "      <td>1</td>\n",
       "      <td>1</td>\n",
       "    </tr>\n",
       "  </tbody>\n",
       "</table>\n",
       "</div>"
      ],
      "text/plain": [
       "     customer_id age_range marital_status  rented family_size no_of_children  \\\n",
       "755         1577     36-45            NaN       0           2            NaN   \n",
       "756         1578     46-55        Married       0           3              1   \n",
       "757         1579     46-55            NaN       0           1            NaN   \n",
       "758         1580     26-35            NaN       0           2            NaN   \n",
       "759         1581     26-35            NaN       0           3              1   \n",
       "\n",
       "     income_bracket  \n",
       "755               5  \n",
       "756               6  \n",
       "757               4  \n",
       "758               5  \n",
       "759               1  "
      ]
     },
     "execution_count": 46,
     "metadata": {},
     "output_type": "execute_result"
    }
   ],
   "source": [
    "cust_demo.tail()"
   ]
  },
  {
   "cell_type": "code",
   "execution_count": 47,
   "metadata": {},
   "outputs": [
    {
     "data": {
      "text/html": [
       "<div>\n",
       "<style scoped>\n",
       "    .dataframe tbody tr th:only-of-type {\n",
       "        vertical-align: middle;\n",
       "    }\n",
       "\n",
       "    .dataframe tbody tr th {\n",
       "        vertical-align: top;\n",
       "    }\n",
       "\n",
       "    .dataframe thead th {\n",
       "        text-align: right;\n",
       "    }\n",
       "</style>\n",
       "<table border=\"1\" class=\"dataframe\">\n",
       "  <thead>\n",
       "    <tr style=\"text-align: right;\">\n",
       "      <th></th>\n",
       "      <th>customer_id</th>\n",
       "      <th>rented</th>\n",
       "      <th>income_bracket</th>\n",
       "    </tr>\n",
       "  </thead>\n",
       "  <tbody>\n",
       "    <tr>\n",
       "      <td>count</td>\n",
       "      <td>760.000000</td>\n",
       "      <td>760.000000</td>\n",
       "      <td>760.000000</td>\n",
       "    </tr>\n",
       "    <tr>\n",
       "      <td>mean</td>\n",
       "      <td>779.201316</td>\n",
       "      <td>0.053947</td>\n",
       "      <td>4.715789</td>\n",
       "    </tr>\n",
       "    <tr>\n",
       "      <td>std</td>\n",
       "      <td>459.754429</td>\n",
       "      <td>0.226063</td>\n",
       "      <td>2.258817</td>\n",
       "    </tr>\n",
       "    <tr>\n",
       "      <td>min</td>\n",
       "      <td>1.000000</td>\n",
       "      <td>0.000000</td>\n",
       "      <td>1.000000</td>\n",
       "    </tr>\n",
       "    <tr>\n",
       "      <td>25%</td>\n",
       "      <td>382.750000</td>\n",
       "      <td>0.000000</td>\n",
       "      <td>3.000000</td>\n",
       "    </tr>\n",
       "    <tr>\n",
       "      <td>50%</td>\n",
       "      <td>774.500000</td>\n",
       "      <td>0.000000</td>\n",
       "      <td>5.000000</td>\n",
       "    </tr>\n",
       "    <tr>\n",
       "      <td>75%</td>\n",
       "      <td>1187.250000</td>\n",
       "      <td>0.000000</td>\n",
       "      <td>6.000000</td>\n",
       "    </tr>\n",
       "    <tr>\n",
       "      <td>max</td>\n",
       "      <td>1581.000000</td>\n",
       "      <td>1.000000</td>\n",
       "      <td>12.000000</td>\n",
       "    </tr>\n",
       "  </tbody>\n",
       "</table>\n",
       "</div>"
      ],
      "text/plain": [
       "       customer_id      rented  income_bracket\n",
       "count   760.000000  760.000000      760.000000\n",
       "mean    779.201316    0.053947        4.715789\n",
       "std     459.754429    0.226063        2.258817\n",
       "min       1.000000    0.000000        1.000000\n",
       "25%     382.750000    0.000000        3.000000\n",
       "50%     774.500000    0.000000        5.000000\n",
       "75%    1187.250000    0.000000        6.000000\n",
       "max    1581.000000    1.000000       12.000000"
      ]
     },
     "execution_count": 47,
     "metadata": {},
     "output_type": "execute_result"
    }
   ],
   "source": [
    "cust_demo.describe()"
   ]
  },
  {
   "cell_type": "code",
   "execution_count": 48,
   "metadata": {},
   "outputs": [
    {
     "name": "stdout",
     "output_type": "stream",
     "text": [
      "<class 'pandas.core.frame.DataFrame'>\n",
      "RangeIndex: 760 entries, 0 to 759\n",
      "Data columns (total 7 columns):\n",
      "customer_id       760 non-null int64\n",
      "age_range         760 non-null object\n",
      "marital_status    431 non-null object\n",
      "rented            760 non-null int64\n",
      "family_size       760 non-null object\n",
      "no_of_children    222 non-null object\n",
      "income_bracket    760 non-null int64\n",
      "dtypes: int64(3), object(4)\n",
      "memory usage: 41.7+ KB\n"
     ]
    }
   ],
   "source": [
    "cust_demo.info()"
   ]
  },
  {
   "cell_type": "code",
   "execution_count": 49,
   "metadata": {},
   "outputs": [
    {
     "data": {
      "text/plain": [
       "customer_id        int64\n",
       "age_range         object\n",
       "marital_status    object\n",
       "rented             int64\n",
       "family_size       object\n",
       "no_of_children    object\n",
       "income_bracket     int64\n",
       "dtype: object"
      ]
     },
     "execution_count": 49,
     "metadata": {},
     "output_type": "execute_result"
    }
   ],
   "source": [
    "cust_demo.dtypes"
   ]
  },
  {
   "cell_type": "code",
   "execution_count": 50,
   "metadata": {},
   "outputs": [
    {
     "data": {
      "text/plain": [
       "Index(['customer_id', 'age_range', 'marital_status', 'rented', 'family_size',\n",
       "       'no_of_children', 'income_bracket'],\n",
       "      dtype='object')"
      ]
     },
     "execution_count": 50,
     "metadata": {},
     "output_type": "execute_result"
    }
   ],
   "source": [
    "cust_demo.columns"
   ]
  },
  {
   "cell_type": "markdown",
   "metadata": {},
   "source": [
    "# Marital Status"
   ]
  },
  {
   "cell_type": "code",
   "execution_count": 51,
   "metadata": {},
   "outputs": [
    {
     "data": {
      "text/plain": [
       "Married    317\n",
       "Single     114\n",
       "Name: marital_status, dtype: int64"
      ]
     },
     "execution_count": 51,
     "metadata": {},
     "output_type": "execute_result"
    }
   ],
   "source": [
    "cust_demo.marital_status.value_counts()"
   ]
  },
  {
   "cell_type": "markdown",
   "metadata": {},
   "source": [
    "-Most of the people are married in our dataset"
   ]
  },
  {
   "cell_type": "code",
   "execution_count": 52,
   "metadata": {},
   "outputs": [
    {
     "data": {
      "text/plain": [
       "Married    0.735499\n",
       "Single     0.264501\n",
       "Name: marital_status, dtype: float64"
      ]
     },
     "execution_count": 52,
     "metadata": {},
     "output_type": "execute_result"
    }
   ],
   "source": [
    "cust_demo[\"marital_status\"].value_counts(normalize=True)"
   ]
  },
  {
   "cell_type": "markdown",
   "metadata": {},
   "source": [
    "-About 73% people are married rest are single."
   ]
  },
  {
   "cell_type": "code",
   "execution_count": 53,
   "metadata": {},
   "outputs": [
    {
     "data": {
      "text/plain": [
       "Text(0.5, 1.0, 'Value Counts')"
      ]
     },
     "execution_count": 53,
     "metadata": {},
     "output_type": "execute_result"
    },
    {
     "data": {
      "image/png": "[encoded data removed]",
      "text/plain": [
       "<Figure size 432x288 with 1 Axes>"
      ]
     },
     "metadata": {
      "needs_background": "light"
     },
     "output_type": "display_data"
    }
   ],
   "source": [
    "cust_demo[\"marital_status\"].value_counts().plot(kind='bar')\n",
    "\n",
    "plt.title(\"Value Counts\")"
   ]
  },
  {
   "cell_type": "code",
   "execution_count": 54,
   "metadata": {},
   "outputs": [
    {
     "data": {
      "text/plain": [
       "329"
      ]
     },
     "execution_count": 54,
     "metadata": {},
     "output_type": "execute_result"
    }
   ],
   "source": [
    "cust_demo[\"marital_status\"].isnull().sum()"
   ]
  },
  {
   "cell_type": "code",
   "execution_count": 55,
   "metadata": {},
   "outputs": [],
   "source": [
    "import re\n",
    "cust_demo['family_size'] = cust_demo.family_size.apply(lambda x: int(re.sub('\\+','',x)))"
   ]
  },
  {
   "cell_type": "code",
   "execution_count": 56,
   "metadata": {},
   "outputs": [],
   "source": [
    "\n",
    "cust_demo['no_of_children'] = cust_demo.no_of_children.apply(lambda x: int(re.sub('\\+','',x)) if pd.notna(x) else x)"
   ]
  },
  {
   "cell_type": "markdown",
   "metadata": {},
   "source": [
    "# Customers who have family size of 1 means they are single"
   ]
  },
  {
   "cell_type": "code",
   "execution_count": 57,
   "metadata": {},
   "outputs": [],
   "source": [
    "\n",
    "cust_demo.loc[pd.isnull(cust_demo.marital_status) & (cust_demo.family_size == 1),'marital_status'] = 'Single'"
   ]
  },
  {
   "cell_type": "code",
   "execution_count": 58,
   "metadata": {},
   "outputs": [
    {
     "data": {
      "text/plain": [
       "146"
      ]
     },
     "execution_count": 58,
     "metadata": {},
     "output_type": "execute_result"
    }
   ],
   "source": [
    "cust_demo[\"marital_status\"].isnull().sum()"
   ]
  },
  {
   "cell_type": "markdown",
   "metadata": {},
   "source": [
    " # Customers who has a family size where no of childrens == 1, will also be single so impute marital_status for them also to be single."
   ]
  },
  {
   "cell_type": "code",
   "execution_count": 59,
   "metadata": {},
   "outputs": [],
   "source": [
    "\n",
    "\n",
    "cust_demo.loc[(cust_demo.family_size - cust_demo.no_of_children == 1) & pd.isnull(cust_demo.marital_status),'marital_status'] = 'Single'"
   ]
  },
  {
   "cell_type": "code",
   "execution_count": 60,
   "metadata": {},
   "outputs": [
    {
     "data": {
      "text/plain": [
       "133"
      ]
     },
     "execution_count": 60,
     "metadata": {},
     "output_type": "execute_result"
    }
   ],
   "source": [
    "cust_demo[\"marital_status\"].isnull().sum()"
   ]
  },
  {
   "cell_type": "code",
   "execution_count": 61,
   "metadata": {},
   "outputs": [],
   "source": [
    "cust_demo.loc[(pd.isnull(cust_demo.marital_status)) & ((cust_demo.family_size - cust_demo.no_of_children) == 2)  \n",
    "              & (pd.notnull(cust_demo.no_of_children)),'marital_status'] = 'Married'\n",
    "\n",
    "cust_demo.loc[pd.isnull(cust_demo.marital_status) & (pd.isnull(cust_demo.no_of_children)) \n",
    "              & (cust_demo.family_size ==2),'marital_status'] = 'Married'\n"
   ]
  },
  {
   "cell_type": "code",
   "execution_count": 62,
   "metadata": {},
   "outputs": [
    {
     "data": {
      "text/plain": [
       "0"
      ]
     },
     "execution_count": 62,
     "metadata": {},
     "output_type": "execute_result"
    }
   ],
   "source": [
    "cust_demo[\"marital_status\"].isnull().sum()"
   ]
  },
  {
   "cell_type": "markdown",
   "metadata": {},
   "source": [
    "# Family Size"
   ]
  },
  {
   "cell_type": "code",
   "execution_count": 63,
   "metadata": {},
   "outputs": [
    {
     "data": {
      "text/plain": [
       "2    303\n",
       "1    248\n",
       "3    104\n",
       "5     57\n",
       "4     48\n",
       "Name: family_size, dtype: int64"
      ]
     },
     "execution_count": 63,
     "metadata": {},
     "output_type": "execute_result"
    }
   ],
   "source": [
    "cust_demo.family_size.value_counts()"
   ]
  },
  {
   "cell_type": "code",
   "execution_count": 64,
   "metadata": {},
   "outputs": [
    {
     "data": {
      "text/plain": [
       "2    0.398684\n",
       "1    0.326316\n",
       "3    0.136842\n",
       "5    0.075000\n",
       "4    0.063158\n",
       "Name: family_size, dtype: float64"
      ]
     },
     "execution_count": 64,
     "metadata": {},
     "output_type": "execute_result"
    }
   ],
   "source": [
    "cust_demo.family_size.value_counts(normalize=True)"
   ]
  },
  {
   "cell_type": "markdown",
   "metadata": {},
   "source": [
    "-About 39% of people have family size of 2\n",
    "\n",
    "-About 32% are single\n",
    "\n",
    "-Very rare people have family size of 4 or more"
   ]
  },
  {
   "cell_type": "markdown",
   "metadata": {},
   "source": [
    "# Remove +5 and  making it as 5 and then convert the column to int type\n",
    "\n"
   ]
  },
  {
   "cell_type": "code",
   "execution_count": 65,
   "metadata": {},
   "outputs": [],
   "source": [
    "categorcial_variables = ['family_size']"
   ]
  },
  {
   "cell_type": "code",
   "execution_count": 66,
   "metadata": {},
   "outputs": [
    {
     "data": {
      "image/png": "[encoded data removed]",
      "text/plain": [
       "<Figure size 720x288 with 1 Axes>"
      ]
     },
     "metadata": {
      "needs_background": "light"
     },
     "output_type": "display_data"
    }
   ],
   "source": [
    "for col in categorcial_variables:\n",
    "    plt.figure(figsize=(10,4))\n",
    "    sns.barplot(cust_demo[col].value_counts().values, cust_demo[col].value_counts().index)\n",
    "    plt.title(col)"
   ]
  },
  {
   "cell_type": "markdown",
   "metadata": {},
   "source": [
    "# No of children"
   ]
  },
  {
   "cell_type": "code",
   "execution_count": 67,
   "metadata": {},
   "outputs": [
    {
     "data": {
      "text/plain": [
       "1.0    107\n",
       "3.0     60\n",
       "2.0     55\n",
       "Name: no_of_children, dtype: int64"
      ]
     },
     "execution_count": 67,
     "metadata": {},
     "output_type": "execute_result"
    }
   ],
   "source": [
    "cust_demo.no_of_children.value_counts()"
   ]
  },
  {
   "cell_type": "code",
   "execution_count": 68,
   "metadata": {},
   "outputs": [
    {
     "data": {
      "text/plain": [
       "1.0    0.481982\n",
       "3.0    0.270270\n",
       "2.0    0.247748\n",
       "Name: no_of_children, dtype: float64"
      ]
     },
     "execution_count": 68,
     "metadata": {},
     "output_type": "execute_result"
    }
   ],
   "source": [
    "cust_demo.no_of_children.value_counts(normalize=True)"
   ]
  },
  {
   "cell_type": "markdown",
   "metadata": {},
   "source": [
    "-About 48% people have one kid \n",
    "\n",
    "-About 24% of people have two kids\n",
    "\n",
    "-27% of people  have 3 or more kids"
   ]
  },
  {
   "cell_type": "code",
   "execution_count": 69,
   "metadata": {},
   "outputs": [],
   "source": [
    "categorcial_variables = ['no_of_children']"
   ]
  },
  {
   "cell_type": "code",
   "execution_count": 70,
   "metadata": {},
   "outputs": [
    {
     "data": {
      "image/png": "[encoded data removed]",
      "text/plain": [
       "<Figure size 720x288 with 1 Axes>"
      ]
     },
     "metadata": {
      "needs_background": "light"
     },
     "output_type": "display_data"
    }
   ],
   "source": [
    "for col in categorcial_variables:\n",
    "    plt.figure(figsize=(10,4))\n",
    "    sns.barplot(cust_demo[col].value_counts().values, cust_demo[col].value_counts().index)\n",
    "    plt.title(col)"
   ]
  },
  {
   "cell_type": "code",
   "execution_count": 71,
   "metadata": {},
   "outputs": [
    {
     "data": {
      "text/plain": [
       "538"
      ]
     },
     "execution_count": 71,
     "metadata": {},
     "output_type": "execute_result"
    }
   ],
   "source": [
    "cust_demo.no_of_children.isnull().sum()"
   ]
  },
  {
   "cell_type": "markdown",
   "metadata": {},
   "source": [
    "# People where family_size is 2 will have 0 childrens."
   ]
  },
  {
   "cell_type": "code",
   "execution_count": 72,
   "metadata": {},
   "outputs": [],
   "source": [
    "\n",
    "cust_demo.loc[pd.isnull(cust_demo.no_of_children) & (cust_demo.marital_status == 'Married') & (cust_demo.family_size == 2),'no_of_children'] = 0"
   ]
  },
  {
   "cell_type": "markdown",
   "metadata": {},
   "source": [
    "# Single where family size is 2, will have 1 child"
   ]
  },
  {
   "cell_type": "code",
   "execution_count": 73,
   "metadata": {},
   "outputs": [],
   "source": [
    "\n",
    "cust_demo.loc[pd.isnull(cust_demo.no_of_children) & (cust_demo.family_size == 2),'no_of_children'] = 1"
   ]
  },
  {
   "cell_type": "markdown",
   "metadata": {},
   "source": [
    "# Customers where family size is 1 will have no children."
   ]
  },
  {
   "cell_type": "code",
   "execution_count": 74,
   "metadata": {},
   "outputs": [],
   "source": [
    "\n",
    "cust_demo.loc[pd.isnull(cust_demo.no_of_children) & (cust_demo.family_size == 1), 'no_of_children'] = 0"
   ]
  },
  {
   "cell_type": "code",
   "execution_count": 75,
   "metadata": {},
   "outputs": [
    {
     "data": {
      "text/plain": [
       "0"
      ]
     },
     "execution_count": 75,
     "metadata": {},
     "output_type": "execute_result"
    }
   ],
   "source": [
    "cust_demo.no_of_children.isnull().sum()"
   ]
  },
  {
   "cell_type": "markdown",
   "metadata": {},
   "source": [
    "-No Nan values found in No of children now"
   ]
  },
  {
   "cell_type": "code",
   "execution_count": 76,
   "metadata": {},
   "outputs": [],
   "source": [
    "\n",
    "cust_demo['no_of_children']=cust_demo['no_of_children'].astype(np.int64)"
   ]
  },
  {
   "cell_type": "code",
   "execution_count": 77,
   "metadata": {},
   "outputs": [],
   "source": [
    "#Applying Label ENCODER\n",
    "cust_demo[\"marital_status\"] = encoder.fit_transform(cust_demo[\"marital_status\"])"
   ]
  },
  {
   "cell_type": "markdown",
   "metadata": {},
   "source": [
    "# Age range "
   ]
  },
  {
   "cell_type": "code",
   "execution_count": 78,
   "metadata": {},
   "outputs": [
    {
     "data": {
      "text/plain": [
       "46-55    271\n",
       "36-45    187\n",
       "26-35    130\n",
       "70+       68\n",
       "56-70     59\n",
       "18-25     45\n",
       "Name: age_range, dtype: int64"
      ]
     },
     "execution_count": 78,
     "metadata": {},
     "output_type": "execute_result"
    }
   ],
   "source": [
    "cust_demo.age_range.value_counts()"
   ]
  },
  {
   "cell_type": "code",
   "execution_count": 79,
   "metadata": {},
   "outputs": [
    {
     "data": {
      "text/plain": [
       "46-55    0.356579\n",
       "36-45    0.246053\n",
       "26-35    0.171053\n",
       "70+      0.089474\n",
       "56-70    0.077632\n",
       "18-25    0.059211\n",
       "Name: age_range, dtype: float64"
      ]
     },
     "execution_count": 79,
     "metadata": {},
     "output_type": "execute_result"
    }
   ],
   "source": [
    "cust_demo.age_range.value_counts(normalize=True)"
   ]
  },
  {
   "cell_type": "markdown",
   "metadata": {},
   "source": [
    "-Most of the people ie 35% of people are in between age of 46-55\n",
    "\n",
    "-Very less people ie 0.05% of people are in age of between 18-25"
   ]
  },
  {
   "cell_type": "code",
   "execution_count": 80,
   "metadata": {},
   "outputs": [],
   "source": [
    "categorcial_variables = ['age_range']"
   ]
  },
  {
   "cell_type": "code",
   "execution_count": 81,
   "metadata": {},
   "outputs": [
    {
     "data": {
      "image/png": "[encoded data removed]",
      "text/plain": [
       "<Figure size 720x288 with 1 Axes>"
      ]
     },
     "metadata": {
      "needs_background": "light"
     },
     "output_type": "display_data"
    }
   ],
   "source": [
    "for col in categorcial_variables:\n",
    "    plt.figure(figsize=(10,4))\n",
    "    sns.barplot(cust_demo[col].value_counts().values, cust_demo[col].value_counts().index)\n",
    "    plt.title(col)"
   ]
  },
  {
   "cell_type": "markdown",
   "metadata": {},
   "source": [
    "# Applying Label Encoding for age_range \n",
    "\n",
    "18-25 is 0\n",
    "\n",
    "26-35 is 1\n",
    "\n",
    "36-45 is 2\n",
    "\n",
    "46-55 is 3\n",
    "\n",
    "56-70  4 \n",
    "\n",
    "70+ is 5\n"
   ]
  },
  {
   "cell_type": "code",
   "execution_count": 82,
   "metadata": {},
   "outputs": [],
   "source": [
    "cust_demo[\"age_range\"] = encoder.fit_transform(cust_demo[\"age_range\"])"
   ]
  },
  {
   "cell_type": "markdown",
   "metadata": {},
   "source": [
    "# Income Bracket"
   ]
  },
  {
   "cell_type": "code",
   "execution_count": 83,
   "metadata": {},
   "outputs": [
    {
     "data": {
      "image/png": "[encoded data removed]",
      "text/plain": [
       "<Figure size 432x288 with 1 Axes>"
      ]
     },
     "metadata": {
      "needs_background": "light"
     },
     "output_type": "display_data"
    }
   ],
   "source": [
    "sns.boxplot(cust_demo['income_bracket'],color='darkblue')\n",
    "plt.show()"
   ]
  },
  {
   "cell_type": "code",
   "execution_count": 84,
   "metadata": {},
   "outputs": [
    {
     "data": {
      "text/plain": [
       "count    760.000000\n",
       "mean       4.715789\n",
       "std        2.258817\n",
       "min        1.000000\n",
       "25%        3.000000\n",
       "50%        5.000000\n",
       "75%        6.000000\n",
       "max       12.000000\n",
       "Name: income_bracket, dtype: float64"
      ]
     },
     "execution_count": 84,
     "metadata": {},
     "output_type": "execute_result"
    }
   ],
   "source": [
    "cust_demo[\"income_bracket\"].describe()"
   ]
  },
  {
   "cell_type": "markdown",
   "metadata": {},
   "source": [
    "-The median of income bracket is 5"
   ]
  },
  {
   "cell_type": "markdown",
   "metadata": {},
   "source": [
    "# Customer transaction data"
   ]
  },
  {
   "cell_type": "markdown",
   "metadata": {},
   "source": [
    "Transaction data for all customers for duration of campaigns in the train data.\n",
    "\n",
    "Date -Date of Transaction\n",
    "\n",
    "Customer_id-Unique id for a customer\n",
    "\n",
    "item_id- Unique id for item\n",
    "\n",
    "quantity- quantity of item bought\n",
    "\n",
    "selling_price- Sales value of the transaction\n",
    "\n",
    "other_discount- Discount from other sources such as manufacturer coupon/loyalty card\n",
    "\n",
    "coupon_discount- Discount availed from retailer coupon \n"
   ]
  },
  {
   "cell_type": "markdown",
   "metadata": {},
   "source": [
    "# Load the file"
   ]
  },
  {
   "cell_type": "code",
   "execution_count": 85,
   "metadata": {},
   "outputs": [],
   "source": [
    "cust_trans = pd.read_csv('customer_transaction_data.csv') "
   ]
  },
  {
   "cell_type": "code",
   "execution_count": 86,
   "metadata": {},
   "outputs": [
    {
     "data": {
      "text/html": [
       "<div>\n",
       "<style scoped>\n",
       "    .dataframe tbody tr th:only-of-type {\n",
       "        vertical-align: middle;\n",
       "    }\n",
       "\n",
       "    .dataframe tbody tr th {\n",
       "        vertical-align: top;\n",
       "    }\n",
       "\n",
       "    .dataframe thead th {\n",
       "        text-align: right;\n",
       "    }\n",
       "</style>\n",
       "<table border=\"1\" class=\"dataframe\">\n",
       "  <thead>\n",
       "    <tr style=\"text-align: right;\">\n",
       "      <th></th>\n",
       "      <th>date</th>\n",
       "      <th>customer_id</th>\n",
       "      <th>item_id</th>\n",
       "      <th>quantity</th>\n",
       "      <th>selling_price</th>\n",
       "      <th>other_discount</th>\n",
       "      <th>coupon_discount</th>\n",
       "    </tr>\n",
       "  </thead>\n",
       "  <tbody>\n",
       "    <tr>\n",
       "      <td>0</td>\n",
       "      <td>2012-01-02</td>\n",
       "      <td>1501</td>\n",
       "      <td>26830</td>\n",
       "      <td>1</td>\n",
       "      <td>35.26</td>\n",
       "      <td>-10.69</td>\n",
       "      <td>0.0</td>\n",
       "    </tr>\n",
       "    <tr>\n",
       "      <td>1</td>\n",
       "      <td>2012-01-02</td>\n",
       "      <td>1501</td>\n",
       "      <td>54253</td>\n",
       "      <td>1</td>\n",
       "      <td>53.43</td>\n",
       "      <td>-13.89</td>\n",
       "      <td>0.0</td>\n",
       "    </tr>\n",
       "    <tr>\n",
       "      <td>2</td>\n",
       "      <td>2012-01-02</td>\n",
       "      <td>1501</td>\n",
       "      <td>31962</td>\n",
       "      <td>1</td>\n",
       "      <td>106.50</td>\n",
       "      <td>-14.25</td>\n",
       "      <td>0.0</td>\n",
       "    </tr>\n",
       "    <tr>\n",
       "      <td>3</td>\n",
       "      <td>2012-01-02</td>\n",
       "      <td>1501</td>\n",
       "      <td>33647</td>\n",
       "      <td>1</td>\n",
       "      <td>67.32</td>\n",
       "      <td>0.00</td>\n",
       "      <td>0.0</td>\n",
       "    </tr>\n",
       "    <tr>\n",
       "      <td>4</td>\n",
       "      <td>2012-01-02</td>\n",
       "      <td>1501</td>\n",
       "      <td>48199</td>\n",
       "      <td>1</td>\n",
       "      <td>71.24</td>\n",
       "      <td>-28.14</td>\n",
       "      <td>0.0</td>\n",
       "    </tr>\n",
       "  </tbody>\n",
       "</table>\n",
       "</div>"
      ],
      "text/plain": [
       "         date  customer_id  item_id  quantity  selling_price  other_discount  \\\n",
       "0  2012-01-02         1501    26830         1          35.26          -10.69   \n",
       "1  2012-01-02         1501    54253         1          53.43          -13.89   \n",
       "2  2012-01-02         1501    31962         1         106.50          -14.25   \n",
       "3  2012-01-02         1501    33647         1          67.32            0.00   \n",
       "4  2012-01-02         1501    48199         1          71.24          -28.14   \n",
       "\n",
       "   coupon_discount  \n",
       "0              0.0  \n",
       "1              0.0  \n",
       "2              0.0  \n",
       "3              0.0  \n",
       "4              0.0  "
      ]
     },
     "execution_count": 86,
     "metadata": {},
     "output_type": "execute_result"
    }
   ],
   "source": [
    "cust_trans.head()"
   ]
  },
  {
   "cell_type": "code",
   "execution_count": 87,
   "metadata": {},
   "outputs": [
    {
     "data": {
      "text/html": [
       "<div>\n",
       "<style scoped>\n",
       "    .dataframe tbody tr th:only-of-type {\n",
       "        vertical-align: middle;\n",
       "    }\n",
       "\n",
       "    .dataframe tbody tr th {\n",
       "        vertical-align: top;\n",
       "    }\n",
       "\n",
       "    .dataframe thead th {\n",
       "        text-align: right;\n",
       "    }\n",
       "</style>\n",
       "<table border=\"1\" class=\"dataframe\">\n",
       "  <thead>\n",
       "    <tr style=\"text-align: right;\">\n",
       "      <th></th>\n",
       "      <th>date</th>\n",
       "      <th>customer_id</th>\n",
       "      <th>item_id</th>\n",
       "      <th>quantity</th>\n",
       "      <th>selling_price</th>\n",
       "      <th>other_discount</th>\n",
       "      <th>coupon_discount</th>\n",
       "    </tr>\n",
       "  </thead>\n",
       "  <tbody>\n",
       "    <tr>\n",
       "      <td>1324561</td>\n",
       "      <td>2013-06-30</td>\n",
       "      <td>1129</td>\n",
       "      <td>2777</td>\n",
       "      <td>1</td>\n",
       "      <td>284.60</td>\n",
       "      <td>-71.24</td>\n",
       "      <td>0.0</td>\n",
       "    </tr>\n",
       "    <tr>\n",
       "      <td>1324562</td>\n",
       "      <td>2013-06-30</td>\n",
       "      <td>1129</td>\n",
       "      <td>2953</td>\n",
       "      <td>4</td>\n",
       "      <td>42.74</td>\n",
       "      <td>-28.50</td>\n",
       "      <td>0.0</td>\n",
       "    </tr>\n",
       "    <tr>\n",
       "      <td>1324563</td>\n",
       "      <td>2013-06-30</td>\n",
       "      <td>1129</td>\n",
       "      <td>2971</td>\n",
       "      <td>6</td>\n",
       "      <td>64.12</td>\n",
       "      <td>-42.74</td>\n",
       "      <td>0.0</td>\n",
       "    </tr>\n",
       "    <tr>\n",
       "      <td>1324564</td>\n",
       "      <td>2013-06-30</td>\n",
       "      <td>1129</td>\n",
       "      <td>46984</td>\n",
       "      <td>1</td>\n",
       "      <td>95.82</td>\n",
       "      <td>0.00</td>\n",
       "      <td>0.0</td>\n",
       "    </tr>\n",
       "    <tr>\n",
       "      <td>1324565</td>\n",
       "      <td>2013-06-30</td>\n",
       "      <td>1129</td>\n",
       "      <td>64498</td>\n",
       "      <td>2</td>\n",
       "      <td>489.78</td>\n",
       "      <td>0.00</td>\n",
       "      <td>0.0</td>\n",
       "    </tr>\n",
       "  </tbody>\n",
       "</table>\n",
       "</div>"
      ],
      "text/plain": [
       "               date  customer_id  item_id  quantity  selling_price  \\\n",
       "1324561  2013-06-30         1129     2777         1         284.60   \n",
       "1324562  2013-06-30         1129     2953         4          42.74   \n",
       "1324563  2013-06-30         1129     2971         6          64.12   \n",
       "1324564  2013-06-30         1129    46984         1          95.82   \n",
       "1324565  2013-06-30         1129    64498         2         489.78   \n",
       "\n",
       "         other_discount  coupon_discount  \n",
       "1324561          -71.24              0.0  \n",
       "1324562          -28.50              0.0  \n",
       "1324563          -42.74              0.0  \n",
       "1324564            0.00              0.0  \n",
       "1324565            0.00              0.0  "
      ]
     },
     "execution_count": 87,
     "metadata": {},
     "output_type": "execute_result"
    }
   ],
   "source": [
    "cust_trans.tail()"
   ]
  },
  {
   "cell_type": "code",
   "execution_count": 88,
   "metadata": {},
   "outputs": [
    {
     "data": {
      "text/plain": [
       "(1324566, 7)"
      ]
     },
     "execution_count": 88,
     "metadata": {},
     "output_type": "execute_result"
    }
   ],
   "source": [
    "cust_trans.shape"
   ]
  },
  {
   "cell_type": "code",
   "execution_count": 89,
   "metadata": {},
   "outputs": [
    {
     "data": {
      "text/plain": [
       "date                object\n",
       "customer_id          int64\n",
       "item_id              int64\n",
       "quantity             int64\n",
       "selling_price      float64\n",
       "other_discount     float64\n",
       "coupon_discount    float64\n",
       "dtype: object"
      ]
     },
     "execution_count": 89,
     "metadata": {},
     "output_type": "execute_result"
    }
   ],
   "source": [
    "cust_trans.dtypes"
   ]
  },
  {
   "cell_type": "code",
   "execution_count": 90,
   "metadata": {},
   "outputs": [
    {
     "name": "stdout",
     "output_type": "stream",
     "text": [
      "<class 'pandas.core.frame.DataFrame'>\n",
      "RangeIndex: 1324566 entries, 0 to 1324565\n",
      "Data columns (total 7 columns):\n",
      "date               1324566 non-null object\n",
      "customer_id        1324566 non-null int64\n",
      "item_id            1324566 non-null int64\n",
      "quantity           1324566 non-null int64\n",
      "selling_price      1324566 non-null float64\n",
      "other_discount     1324566 non-null float64\n",
      "coupon_discount    1324566 non-null float64\n",
      "dtypes: float64(3), int64(3), object(1)\n",
      "memory usage: 70.7+ MB\n"
     ]
    }
   ],
   "source": [
    "cust_trans.info()"
   ]
  },
  {
   "cell_type": "markdown",
   "metadata": {},
   "source": [
    "# Selling Price"
   ]
  },
  {
   "cell_type": "code",
   "execution_count": 91,
   "metadata": {},
   "outputs": [
    {
     "data": {
      "text/plain": [
       "count    1.324566e+06\n",
       "mean     1.146036e+02\n",
       "std      1.529053e+02\n",
       "min      3.600000e-01\n",
       "25%      4.916000e+01\n",
       "50%      7.801000e+01\n",
       "75%      1.243100e+02\n",
       "max      1.780964e+04\n",
       "Name: selling_price, dtype: float64"
      ]
     },
     "execution_count": 91,
     "metadata": {},
     "output_type": "execute_result"
    }
   ],
   "source": [
    "cust_trans[\"selling_price\"].describe()"
   ]
  },
  {
   "cell_type": "code",
   "execution_count": 92,
   "metadata": {},
   "outputs": [
    {
     "data": {
      "image/png": "[encoded data removed]",
      "text/plain": [
       "<Figure size 432x288 with 1 Axes>"
      ]
     },
     "metadata": {
      "needs_background": "light"
     },
     "output_type": "display_data"
    }
   ],
   "source": [
    "\n",
    "sns.boxplot(cust_trans[\"selling_price\"])\n",
    "plt.show()"
   ]
  },
  {
   "cell_type": "markdown",
   "metadata": {},
   "source": [
    "-Here we can see the Median>Mean its the case of low outliers and data is skewed towards left"
   ]
  },
  {
   "cell_type": "markdown",
   "metadata": {},
   "source": [
    "# Other discount"
   ]
  },
  {
   "cell_type": "code",
   "execution_count": 93,
   "metadata": {},
   "outputs": [
    {
     "data": {
      "text/plain": [
       "count    1.324566e+06\n",
       "mean    -1.776871e+01\n",
       "std      3.788867e+01\n",
       "min     -3.120310e+03\n",
       "25%     -2.315000e+01\n",
       "50%     -1.780000e+00\n",
       "75%      0.000000e+00\n",
       "max      0.000000e+00\n",
       "Name: other_discount, dtype: float64"
      ]
     },
     "execution_count": 93,
     "metadata": {},
     "output_type": "execute_result"
    }
   ],
   "source": [
    "cust_trans[\"other_discount\"].describe()"
   ]
  },
  {
   "cell_type": "code",
   "execution_count": 94,
   "metadata": {},
   "outputs": [
    {
     "data": {
      "image/png": "[encoded data removed]",
      "text/plain": [
       "<Figure size 432x288 with 1 Axes>"
      ]
     },
     "metadata": {
      "needs_background": "light"
     },
     "output_type": "display_data"
    }
   ],
   "source": [
    "\n",
    "sns.boxplot(cust_trans[\"other_discount\"])\n",
    "plt.show()"
   ]
  },
  {
   "cell_type": "markdown",
   "metadata": {},
   "source": [
    "# Converting the date column into date time"
   ]
  },
  {
   "cell_type": "code",
   "execution_count": 95,
   "metadata": {},
   "outputs": [],
   "source": [
    "cust_trans['date'] = pd.to_datetime(cust_trans['date'])"
   ]
  },
  {
   "cell_type": "code",
   "execution_count": 96,
   "metadata": {},
   "outputs": [],
   "source": [
    "cust_trans = cust_trans.sort_values('date').reset_index(drop=True)"
   ]
  },
  {
   "cell_type": "markdown",
   "metadata": {},
   "source": [
    "# Creating 3 columns of Day,Weekday and Month"
   ]
  },
  {
   "cell_type": "code",
   "execution_count": 97,
   "metadata": {},
   "outputs": [],
   "source": [
    "\n",
    "cust_trans['day'] = cust_trans[\"date\"].apply(lambda x: x.day)\n",
    "cust_trans['weekday'] = cust_trans[\"date\"].apply(lambda x: x.weekday())\n",
    "cust_trans['month'] = cust_trans[\"date\"].apply(lambda x: x.month)"
   ]
  },
  {
   "cell_type": "markdown",
   "metadata": {},
   "source": [
    "# Make one more column to check weather coupon was used or not"
   ]
  },
  {
   "cell_type": "code",
   "execution_count": 98,
   "metadata": {},
   "outputs": [
    {
     "data": {
      "text/plain": [
       "0          0\n",
       "1          1\n",
       "2          0\n",
       "3          0\n",
       "4          0\n",
       "          ..\n",
       "1324561    0\n",
       "1324562    0\n",
       "1324563    0\n",
       "1324564    0\n",
       "1324565    0\n",
       "Name: coupon-used, Length: 1324566, dtype: int64"
      ]
     },
     "execution_count": 98,
     "metadata": {},
     "output_type": "execute_result"
    }
   ],
   "source": [
    "\n",
    "cust_trans['coupon-used'] = cust_trans.coupon_discount.apply(lambda x: 1 if x !=0 else 0)\n",
    "cust_trans['coupon-used']"
   ]
  },
  {
   "cell_type": "markdown",
   "metadata": {},
   "source": [
    "# Test Dataframe"
   ]
  },
  {
   "cell_type": "code",
   "execution_count": 99,
   "metadata": {},
   "outputs": [],
   "source": [
    "test = pd.read_csv('test.csv')"
   ]
  },
  {
   "cell_type": "markdown",
   "metadata": {},
   "source": [
    " Contains the coupon customer combination for which redemption status is to be predicted\n",
    "\n",
    "id -Unique id for coupon customer impression\n",
    "\n",
    "campaign_id -unique id for a discount campaign\n",
    "\n",
    "coupon_id -Unique id for a discount coupon\n",
    "\n",
    "customer_id- Unique id for a customer "
   ]
  },
  {
   "cell_type": "markdown",
   "metadata": {},
   "source": [
    "# coupon_item_mapping"
   ]
  },
  {
   "cell_type": "markdown",
   "metadata": {},
   "source": [
    " Mapping of coupon and items valid for discount under that coupon\n",
    "\n",
    "coupon_id- Unique id for a discount coupon (no order)\n",
    "\n",
    "item_id- Unique id for items for which given coupon is valid (no order) \n"
   ]
  },
  {
   "cell_type": "markdown",
   "metadata": {},
   "source": [
    "# Now we can Start with Merging the Data Frames"
   ]
  },
  {
   "cell_type": "code",
   "execution_count": 100,
   "metadata": {},
   "outputs": [
    {
     "data": {
      "image/jpeg": "[encoded data removed]",
      "text/plain": [
       "<IPython.core.display.Image object>"
      ]
     },
     "execution_count": 100,
     "metadata": {},
     "output_type": "execute_result"
    }
   ],
   "source": [
    "from IPython.display import Image\n",
    "Image(\"tables_relationship.jpg\")"
   ]
  },
  {
   "cell_type": "markdown",
   "metadata": {},
   "source": [
    "# Merge coupon item data and items data on item_id"
   ]
  },
  {
   "cell_type": "code",
   "execution_count": 101,
   "metadata": {},
   "outputs": [],
   "source": [
    "\n",
    "coupons_items = pd.merge(coupons, items, on=\"item_id\", how=\"left\")"
   ]
  },
  {
   "cell_type": "code",
   "execution_count": 102,
   "metadata": {},
   "outputs": [
    {
     "data": {
      "text/html": [
       "<div>\n",
       "<style scoped>\n",
       "    .dataframe tbody tr th:only-of-type {\n",
       "        vertical-align: middle;\n",
       "    }\n",
       "\n",
       "    .dataframe tbody tr th {\n",
       "        vertical-align: top;\n",
       "    }\n",
       "\n",
       "    .dataframe thead th {\n",
       "        text-align: right;\n",
       "    }\n",
       "</style>\n",
       "<table border=\"1\" class=\"dataframe\">\n",
       "  <thead>\n",
       "    <tr style=\"text-align: right;\">\n",
       "      <th></th>\n",
       "      <th>coupon_id</th>\n",
       "      <th>item_id</th>\n",
       "      <th>brand</th>\n",
       "      <th>brand_type</th>\n",
       "      <th>category</th>\n",
       "    </tr>\n",
       "  </thead>\n",
       "  <tbody>\n",
       "    <tr>\n",
       "      <td>0</td>\n",
       "      <td>105</td>\n",
       "      <td>37</td>\n",
       "      <td>56</td>\n",
       "      <td>1</td>\n",
       "      <td>6</td>\n",
       "    </tr>\n",
       "    <tr>\n",
       "      <td>1</td>\n",
       "      <td>107</td>\n",
       "      <td>75</td>\n",
       "      <td>56</td>\n",
       "      <td>1</td>\n",
       "      <td>6</td>\n",
       "    </tr>\n",
       "    <tr>\n",
       "      <td>2</td>\n",
       "      <td>494</td>\n",
       "      <td>76</td>\n",
       "      <td>209</td>\n",
       "      <td>0</td>\n",
       "      <td>6</td>\n",
       "    </tr>\n",
       "    <tr>\n",
       "      <td>3</td>\n",
       "      <td>522</td>\n",
       "      <td>77</td>\n",
       "      <td>278</td>\n",
       "      <td>0</td>\n",
       "      <td>6</td>\n",
       "    </tr>\n",
       "    <tr>\n",
       "      <td>4</td>\n",
       "      <td>518</td>\n",
       "      <td>77</td>\n",
       "      <td>278</td>\n",
       "      <td>0</td>\n",
       "      <td>6</td>\n",
       "    </tr>\n",
       "  </tbody>\n",
       "</table>\n",
       "</div>"
      ],
      "text/plain": [
       "   coupon_id  item_id  brand  brand_type  category\n",
       "0        105       37     56           1         6\n",
       "1        107       75     56           1         6\n",
       "2        494       76    209           0         6\n",
       "3        522       77    278           0         6\n",
       "4        518       77    278           0         6"
      ]
     },
     "execution_count": 102,
     "metadata": {},
     "output_type": "execute_result"
    }
   ],
   "source": [
    "coupons_items.head()"
   ]
  },
  {
   "cell_type": "markdown",
   "metadata": {},
   "source": [
    "# Aggregate the customer transaction by 'item_id'"
   ]
  },
  {
   "cell_type": "code",
   "execution_count": 103,
   "metadata": {},
   "outputs": [],
   "source": [
    "trans1 = pd.pivot_table(cust_trans, index = \"item_id\", \n",
    "               values=['customer_id','quantity','selling_price', 'other_discount','coupon_discount','coupon-used'],\n",
    "               aggfunc={'customer_id':lambda x: len(set(x)),\n",
    "                        'quantity':np.mean,\n",
    "                        'selling_price':np.mean,\n",
    "                        'other_discount':np.mean,\n",
    "                        'coupon_discount':np.mean,\n",
    "                        'coupon-used': np.sum\n",
    "                        } )\n",
    "trans1.reset_index(inplace=True)\n",
    "trans1.rename(columns={'customer_id': 'no_of_customers'}, inplace=True)"
   ]
  },
  {
   "cell_type": "code",
   "execution_count": 104,
   "metadata": {},
   "outputs": [],
   "source": [
    "trans2 = pd.pivot_table(cust_trans, index = \"item_id\", \n",
    "               values=['customer_id','quantity','selling_price', 'other_discount','coupon_discount'],\n",
    "               aggfunc={'customer_id':len,\n",
    "                        'quantity':np.sum,\n",
    "                        'selling_price':np.sum,\n",
    "                        'other_discount':np.sum,\n",
    "                        'coupon_discount':np.sum,\n",
    "                        } )\n",
    "trans2.reset_index(inplace=True)\n",
    "trans2.rename(columns={'customer_id': 't_counts', 'quantity':'qu_sum',\n",
    "                             'selling_price':'price_sum', 'other_discount':'od_sum',\n",
    "                             'coupon_discount':'cd_sum'}, inplace=True)"
   ]
  },
  {
   "cell_type": "code",
   "execution_count": 105,
   "metadata": {},
   "outputs": [],
   "source": [
    "trans = pd.merge(trans1, trans2, on='item_id',how='left' )"
   ]
  },
  {
   "cell_type": "code",
   "execution_count": 106,
   "metadata": {},
   "outputs": [
    {
     "data": {
      "text/html": [
       "<div>\n",
       "<style scoped>\n",
       "    .dataframe tbody tr th:only-of-type {\n",
       "        vertical-align: middle;\n",
       "    }\n",
       "\n",
       "    .dataframe tbody tr th {\n",
       "        vertical-align: top;\n",
       "    }\n",
       "\n",
       "    .dataframe thead th {\n",
       "        text-align: right;\n",
       "    }\n",
       "</style>\n",
       "<table border=\"1\" class=\"dataframe\">\n",
       "  <thead>\n",
       "    <tr style=\"text-align: right;\">\n",
       "      <th></th>\n",
       "      <th>item_id</th>\n",
       "      <th>coupon-used</th>\n",
       "      <th>coupon_discount</th>\n",
       "      <th>no_of_customers</th>\n",
       "      <th>other_discount</th>\n",
       "      <th>quantity</th>\n",
       "      <th>selling_price</th>\n",
       "      <th>cd_sum</th>\n",
       "      <th>t_counts</th>\n",
       "      <th>od_sum</th>\n",
       "      <th>qu_sum</th>\n",
       "      <th>price_sum</th>\n",
       "      <th>total_discount_mean</th>\n",
       "      <th>total_discount_sum</th>\n",
       "    </tr>\n",
       "  </thead>\n",
       "  <tbody>\n",
       "    <tr>\n",
       "      <td>0</td>\n",
       "      <td>1</td>\n",
       "      <td>0</td>\n",
       "      <td>0.0</td>\n",
       "      <td>2</td>\n",
       "      <td>0.0</td>\n",
       "      <td>1.0</td>\n",
       "      <td>124.31</td>\n",
       "      <td>0.0</td>\n",
       "      <td>2</td>\n",
       "      <td>0.0</td>\n",
       "      <td>2</td>\n",
       "      <td>248.62</td>\n",
       "      <td>0.0</td>\n",
       "      <td>0.0</td>\n",
       "    </tr>\n",
       "    <tr>\n",
       "      <td>1</td>\n",
       "      <td>2</td>\n",
       "      <td>0</td>\n",
       "      <td>0.0</td>\n",
       "      <td>1</td>\n",
       "      <td>0.0</td>\n",
       "      <td>1.0</td>\n",
       "      <td>35.26</td>\n",
       "      <td>0.0</td>\n",
       "      <td>1</td>\n",
       "      <td>0.0</td>\n",
       "      <td>1</td>\n",
       "      <td>35.26</td>\n",
       "      <td>0.0</td>\n",
       "      <td>0.0</td>\n",
       "    </tr>\n",
       "    <tr>\n",
       "      <td>2</td>\n",
       "      <td>3</td>\n",
       "      <td>0</td>\n",
       "      <td>0.0</td>\n",
       "      <td>1</td>\n",
       "      <td>0.0</td>\n",
       "      <td>1.0</td>\n",
       "      <td>56.64</td>\n",
       "      <td>0.0</td>\n",
       "      <td>1</td>\n",
       "      <td>0.0</td>\n",
       "      <td>1</td>\n",
       "      <td>56.64</td>\n",
       "      <td>0.0</td>\n",
       "      <td>0.0</td>\n",
       "    </tr>\n",
       "    <tr>\n",
       "      <td>3</td>\n",
       "      <td>4</td>\n",
       "      <td>0</td>\n",
       "      <td>0.0</td>\n",
       "      <td>1</td>\n",
       "      <td>0.0</td>\n",
       "      <td>1.0</td>\n",
       "      <td>54.85</td>\n",
       "      <td>0.0</td>\n",
       "      <td>1</td>\n",
       "      <td>0.0</td>\n",
       "      <td>1</td>\n",
       "      <td>54.85</td>\n",
       "      <td>0.0</td>\n",
       "      <td>0.0</td>\n",
       "    </tr>\n",
       "    <tr>\n",
       "      <td>4</td>\n",
       "      <td>5</td>\n",
       "      <td>0</td>\n",
       "      <td>0.0</td>\n",
       "      <td>1</td>\n",
       "      <td>0.0</td>\n",
       "      <td>1.0</td>\n",
       "      <td>81.57</td>\n",
       "      <td>0.0</td>\n",
       "      <td>1</td>\n",
       "      <td>0.0</td>\n",
       "      <td>1</td>\n",
       "      <td>81.57</td>\n",
       "      <td>0.0</td>\n",
       "      <td>0.0</td>\n",
       "    </tr>\n",
       "  </tbody>\n",
       "</table>\n",
       "</div>"
      ],
      "text/plain": [
       "   item_id  coupon-used  coupon_discount  no_of_customers  other_discount  \\\n",
       "0        1            0              0.0                2             0.0   \n",
       "1        2            0              0.0                1             0.0   \n",
       "2        3            0              0.0                1             0.0   \n",
       "3        4            0              0.0                1             0.0   \n",
       "4        5            0              0.0                1             0.0   \n",
       "\n",
       "   quantity  selling_price  cd_sum  t_counts  od_sum  qu_sum  price_sum  \\\n",
       "0       1.0         124.31     0.0         2     0.0       2     248.62   \n",
       "1       1.0          35.26     0.0         1     0.0       1      35.26   \n",
       "2       1.0          56.64     0.0         1     0.0       1      56.64   \n",
       "3       1.0          54.85     0.0         1     0.0       1      54.85   \n",
       "4       1.0          81.57     0.0         1     0.0       1      81.57   \n",
       "\n",
       "   total_discount_mean  total_discount_sum  \n",
       "0                  0.0                 0.0  \n",
       "1                  0.0                 0.0  \n",
       "2                  0.0                 0.0  \n",
       "3                  0.0                 0.0  \n",
       "4                  0.0                 0.0  "
      ]
     },
     "execution_count": 106,
     "metadata": {},
     "output_type": "execute_result"
    }
   ],
   "source": [
    "trans['total_discount_mean'] = trans['coupon_discount'] + trans['other_discount']\n",
    "trans['total_discount_sum'] = trans['od_sum'] + trans['cd_sum']\n",
    "trans.head()"
   ]
  },
  {
   "cell_type": "markdown",
   "metadata": {},
   "source": [
    "# Merging coupon_items and trans on Item-id"
   ]
  },
  {
   "cell_type": "code",
   "execution_count": 107,
   "metadata": {},
   "outputs": [],
   "source": [
    "item_coupon_trans = pd.merge(coupons_items, trans, on='item_id', how='left')"
   ]
  },
  {
   "cell_type": "markdown",
   "metadata": {},
   "source": [
    "# Aggregating item_coupon_trans on 'coupon_id"
   ]
  },
  {
   "cell_type": "code",
   "execution_count": 108,
   "metadata": {},
   "outputs": [],
   "source": [
    "from scipy.stats import mode\n",
    "coupon = pd.pivot_table(item_coupon_trans, index =\"coupon_id\",\n",
    "                         values=[ 'item_id', 'brand', 'brand_type', 'category',\n",
    "       'coupon_discount', 'coupon-used', 'no_of_customers', 'other_discount',\n",
    "       'quantity', 'selling_price', 'cd_sum', 't_counts', 'od_sum', 'qu_sum',\n",
    "       'price_sum', 'total_discount_mean', 'total_discount_sum'],\n",
    "              aggfunc={'item_id':lambda x: len(set(x)),\n",
    "                       'brand':lambda x: mode(x)[0][0],\n",
    "                       'brand_type':lambda x: mode(x)[0][0],\n",
    "                       'category':lambda x: mode(x)[0][0],\n",
    "                       'coupon_discount':np.mean,\n",
    "                       'no_of_customers':np.mean,\n",
    "                       'other_discount':np.mean,\n",
    "                       'quantity':np.mean,\n",
    "                       'selling_price':np.mean,\n",
    "                      'coupon-used': np.sum,\n",
    "                       'cd_sum': np.sum,\n",
    "                       't_counts': np.sum,\n",
    "                       'od_sum': np.sum,\n",
    "                       'qu_sum': np.sum,\n",
    "                       'price_sum': np.sum,\n",
    "                       'total_discount_mean': np.mean,\n",
    "                       'total_discount_sum': np.sum\n",
    "                      })\n",
    "coupon.reset_index(inplace=True)"
   ]
  },
  {
   "cell_type": "code",
   "execution_count": 109,
   "metadata": {},
   "outputs": [],
   "source": [
    "coupon.rename(columns={'item_id':'item_counts'}, inplace=True)"
   ]
  },
  {
   "cell_type": "markdown",
   "metadata": {},
   "source": [
    "# Aggregating cust_trans on 'coupon_id"
   ]
  },
  {
   "cell_type": "code",
   "execution_count": 110,
   "metadata": {},
   "outputs": [
    {
     "data": {
      "text/html": [
       "<div>\n",
       "<style scoped>\n",
       "    .dataframe tbody tr th:only-of-type {\n",
       "        vertical-align: middle;\n",
       "    }\n",
       "\n",
       "    .dataframe tbody tr th {\n",
       "        vertical-align: top;\n",
       "    }\n",
       "\n",
       "    .dataframe thead th {\n",
       "        text-align: right;\n",
       "    }\n",
       "</style>\n",
       "<table border=\"1\" class=\"dataframe\">\n",
       "  <thead>\n",
       "    <tr style=\"text-align: right;\">\n",
       "      <th></th>\n",
       "      <th>customer_id</th>\n",
       "      <th>coupon-used</th>\n",
       "      <th>coupon_discount</th>\n",
       "      <th>day</th>\n",
       "      <th>no_of_items</th>\n",
       "      <th>month</th>\n",
       "      <th>other_discount</th>\n",
       "      <th>quantity</th>\n",
       "      <th>selling_price</th>\n",
       "      <th>weekday</th>\n",
       "    </tr>\n",
       "  </thead>\n",
       "  <tbody>\n",
       "    <tr>\n",
       "      <td>0</td>\n",
       "      <td>1</td>\n",
       "      <td>78</td>\n",
       "      <td>-2.019876</td>\n",
       "      <td>3</td>\n",
       "      <td>463</td>\n",
       "      <td>5</td>\n",
       "      <td>-16.250382</td>\n",
       "      <td>1.170802</td>\n",
       "      <td>94.001842</td>\n",
       "      <td>3</td>\n",
       "    </tr>\n",
       "    <tr>\n",
       "      <td>1</td>\n",
       "      <td>2</td>\n",
       "      <td>4</td>\n",
       "      <td>-0.595084</td>\n",
       "      <td>13</td>\n",
       "      <td>352</td>\n",
       "      <td>6</td>\n",
       "      <td>-16.830430</td>\n",
       "      <td>1.131265</td>\n",
       "      <td>102.864033</td>\n",
       "      <td>5</td>\n",
       "    </tr>\n",
       "    <tr>\n",
       "      <td>2</td>\n",
       "      <td>3</td>\n",
       "      <td>53</td>\n",
       "      <td>-3.091546</td>\n",
       "      <td>16</td>\n",
       "      <td>406</td>\n",
       "      <td>7</td>\n",
       "      <td>-22.714227</td>\n",
       "      <td>11.578723</td>\n",
       "      <td>103.617404</td>\n",
       "      <td>4</td>\n",
       "    </tr>\n",
       "    <tr>\n",
       "      <td>3</td>\n",
       "      <td>4</td>\n",
       "      <td>1</td>\n",
       "      <td>-0.404773</td>\n",
       "      <td>14</td>\n",
       "      <td>125</td>\n",
       "      <td>5</td>\n",
       "      <td>-13.305409</td>\n",
       "      <td>1.272727</td>\n",
       "      <td>154.423727</td>\n",
       "      <td>5</td>\n",
       "    </tr>\n",
       "    <tr>\n",
       "      <td>4</td>\n",
       "      <td>5</td>\n",
       "      <td>2</td>\n",
       "      <td>-0.114684</td>\n",
       "      <td>11</td>\n",
       "      <td>490</td>\n",
       "      <td>5</td>\n",
       "      <td>-13.657917</td>\n",
       "      <td>117.869949</td>\n",
       "      <td>130.827146</td>\n",
       "      <td>1</td>\n",
       "    </tr>\n",
       "  </tbody>\n",
       "</table>\n",
       "</div>"
      ],
      "text/plain": [
       "   customer_id  coupon-used  coupon_discount  day  no_of_items  month  \\\n",
       "0            1           78        -2.019876    3          463      5   \n",
       "1            2            4        -0.595084   13          352      6   \n",
       "2            3           53        -3.091546   16          406      7   \n",
       "3            4            1        -0.404773   14          125      5   \n",
       "4            5            2        -0.114684   11          490      5   \n",
       "\n",
       "   other_discount    quantity  selling_price  weekday  \n",
       "0      -16.250382    1.170802      94.001842        3  \n",
       "1      -16.830430    1.131265     102.864033        5  \n",
       "2      -22.714227   11.578723     103.617404        4  \n",
       "3      -13.305409    1.272727     154.423727        5  \n",
       "4      -13.657917  117.869949     130.827146        1  "
      ]
     },
     "execution_count": 110,
     "metadata": {},
     "output_type": "execute_result"
    }
   ],
   "source": [
    "trans3 = pd.pivot_table(cust_trans, index = \"customer_id\", \n",
    "               values=['item_id','quantity','selling_price', 'other_discount','coupon_discount','coupon-used','day','weekday','month'],\n",
    "               aggfunc={'item_id':lambda x: len(set(x)),\n",
    "                        'quantity':np.mean,\n",
    "                        'selling_price':np.mean,\n",
    "                        'other_discount':np.mean,\n",
    "                        'coupon_discount':np.mean,\n",
    "                        'coupon-used': np.sum,\n",
    "                        'day':lambda x: mode(x)[0][0],\n",
    "                        'weekday':lambda x: mode(x)[0][0],\n",
    "                        'month':lambda x: mode(x)[0][0]}\n",
    "              )\n",
    "trans3.reset_index(inplace=True)\n",
    "trans3.rename(columns={'item_id': 'no_of_items'}, inplace=True)\n",
    "trans3.head()"
   ]
  },
  {
   "cell_type": "code",
   "execution_count": 111,
   "metadata": {},
   "outputs": [
    {
     "data": {
      "text/html": [
       "<div>\n",
       "<style scoped>\n",
       "    .dataframe tbody tr th:only-of-type {\n",
       "        vertical-align: middle;\n",
       "    }\n",
       "\n",
       "    .dataframe tbody tr th {\n",
       "        vertical-align: top;\n",
       "    }\n",
       "\n",
       "    .dataframe thead th {\n",
       "        text-align: right;\n",
       "    }\n",
       "</style>\n",
       "<table border=\"1\" class=\"dataframe\">\n",
       "  <thead>\n",
       "    <tr style=\"text-align: right;\">\n",
       "      <th></th>\n",
       "      <th>customer_id</th>\n",
       "      <th>cdd_sum</th>\n",
       "      <th>customer_id_count</th>\n",
       "      <th>odd_sum</th>\n",
       "      <th>qa_sum</th>\n",
       "      <th>pprice_sum</th>\n",
       "    </tr>\n",
       "  </thead>\n",
       "  <tbody>\n",
       "    <tr>\n",
       "      <td>0</td>\n",
       "      <td>1</td>\n",
       "      <td>-2116.83</td>\n",
       "      <td>1048</td>\n",
       "      <td>-17030.40</td>\n",
       "      <td>1227</td>\n",
       "      <td>98513.93</td>\n",
       "    </tr>\n",
       "    <tr>\n",
       "      <td>1</td>\n",
       "      <td>2</td>\n",
       "      <td>-249.34</td>\n",
       "      <td>419</td>\n",
       "      <td>-7051.95</td>\n",
       "      <td>474</td>\n",
       "      <td>43100.03</td>\n",
       "    </tr>\n",
       "    <tr>\n",
       "      <td>2</td>\n",
       "      <td>3</td>\n",
       "      <td>-2179.54</td>\n",
       "      <td>705</td>\n",
       "      <td>-16013.53</td>\n",
       "      <td>8163</td>\n",
       "      <td>73050.27</td>\n",
       "    </tr>\n",
       "    <tr>\n",
       "      <td>3</td>\n",
       "      <td>4</td>\n",
       "      <td>-89.05</td>\n",
       "      <td>220</td>\n",
       "      <td>-2927.19</td>\n",
       "      <td>280</td>\n",
       "      <td>33973.22</td>\n",
       "    </tr>\n",
       "    <tr>\n",
       "      <td>4</td>\n",
       "      <td>5</td>\n",
       "      <td>-90.83</td>\n",
       "      <td>792</td>\n",
       "      <td>-10817.07</td>\n",
       "      <td>93353</td>\n",
       "      <td>103615.10</td>\n",
       "    </tr>\n",
       "  </tbody>\n",
       "</table>\n",
       "</div>"
      ],
      "text/plain": [
       "   customer_id  cdd_sum  customer_id_count   odd_sum  qa_sum  pprice_sum\n",
       "0            1 -2116.83               1048 -17030.40    1227    98513.93\n",
       "1            2  -249.34                419  -7051.95     474    43100.03\n",
       "2            3 -2179.54                705 -16013.53    8163    73050.27\n",
       "3            4   -89.05                220  -2927.19     280    33973.22\n",
       "4            5   -90.83                792 -10817.07   93353   103615.10"
      ]
     },
     "execution_count": 111,
     "metadata": {},
     "output_type": "execute_result"
    }
   ],
   "source": [
    "trans4 = pd.pivot_table(cust_trans, index = \"customer_id\", \n",
    "               values=['item_id','quantity','selling_price', 'other_discount','coupon_discount'],\n",
    "               aggfunc={'item_id':len,\n",
    "                        'quantity':np.sum,\n",
    "                        'selling_price':np.sum,\n",
    "                        'other_discount':np.sum,\n",
    "                        'coupon_discount':np.sum}\n",
    "              )\n",
    "trans4.reset_index(inplace=True)\n",
    "trans4.rename(columns={'item_id': 'customer_id_count','quantity':'qa_sum','selling_price':'pprice_sum',\n",
    "                             'other_discount':'odd_sum','coupon_discount':'cdd_sum'  }, inplace=True)\n",
    "trans4.head()"
   ]
  },
  {
   "cell_type": "code",
   "execution_count": 112,
   "metadata": {},
   "outputs": [
    {
     "data": {
      "text/html": [
       "<div>\n",
       "<style scoped>\n",
       "    .dataframe tbody tr th:only-of-type {\n",
       "        vertical-align: middle;\n",
       "    }\n",
       "\n",
       "    .dataframe tbody tr th {\n",
       "        vertical-align: top;\n",
       "    }\n",
       "\n",
       "    .dataframe thead th {\n",
       "        text-align: right;\n",
       "    }\n",
       "</style>\n",
       "<table border=\"1\" class=\"dataframe\">\n",
       "  <thead>\n",
       "    <tr style=\"text-align: right;\">\n",
       "      <th></th>\n",
       "      <th>customer_id</th>\n",
       "      <th>coupon-used</th>\n",
       "      <th>coupon_discount</th>\n",
       "      <th>day</th>\n",
       "      <th>no_of_items</th>\n",
       "      <th>month</th>\n",
       "      <th>other_discount</th>\n",
       "      <th>quantity</th>\n",
       "      <th>selling_price</th>\n",
       "      <th>weekday</th>\n",
       "      <th>cdd_sum</th>\n",
       "      <th>customer_id_count</th>\n",
       "      <th>odd_sum</th>\n",
       "      <th>qa_sum</th>\n",
       "      <th>pprice_sum</th>\n",
       "    </tr>\n",
       "  </thead>\n",
       "  <tbody>\n",
       "    <tr>\n",
       "      <td>0</td>\n",
       "      <td>1</td>\n",
       "      <td>78</td>\n",
       "      <td>-2.019876</td>\n",
       "      <td>3</td>\n",
       "      <td>463</td>\n",
       "      <td>5</td>\n",
       "      <td>-16.250382</td>\n",
       "      <td>1.170802</td>\n",
       "      <td>94.001842</td>\n",
       "      <td>3</td>\n",
       "      <td>-2116.83</td>\n",
       "      <td>1048</td>\n",
       "      <td>-17030.40</td>\n",
       "      <td>1227</td>\n",
       "      <td>98513.93</td>\n",
       "    </tr>\n",
       "    <tr>\n",
       "      <td>1</td>\n",
       "      <td>2</td>\n",
       "      <td>4</td>\n",
       "      <td>-0.595084</td>\n",
       "      <td>13</td>\n",
       "      <td>352</td>\n",
       "      <td>6</td>\n",
       "      <td>-16.830430</td>\n",
       "      <td>1.131265</td>\n",
       "      <td>102.864033</td>\n",
       "      <td>5</td>\n",
       "      <td>-249.34</td>\n",
       "      <td>419</td>\n",
       "      <td>-7051.95</td>\n",
       "      <td>474</td>\n",
       "      <td>43100.03</td>\n",
       "    </tr>\n",
       "    <tr>\n",
       "      <td>2</td>\n",
       "      <td>3</td>\n",
       "      <td>53</td>\n",
       "      <td>-3.091546</td>\n",
       "      <td>16</td>\n",
       "      <td>406</td>\n",
       "      <td>7</td>\n",
       "      <td>-22.714227</td>\n",
       "      <td>11.578723</td>\n",
       "      <td>103.617404</td>\n",
       "      <td>4</td>\n",
       "      <td>-2179.54</td>\n",
       "      <td>705</td>\n",
       "      <td>-16013.53</td>\n",
       "      <td>8163</td>\n",
       "      <td>73050.27</td>\n",
       "    </tr>\n",
       "    <tr>\n",
       "      <td>3</td>\n",
       "      <td>4</td>\n",
       "      <td>1</td>\n",
       "      <td>-0.404773</td>\n",
       "      <td>14</td>\n",
       "      <td>125</td>\n",
       "      <td>5</td>\n",
       "      <td>-13.305409</td>\n",
       "      <td>1.272727</td>\n",
       "      <td>154.423727</td>\n",
       "      <td>5</td>\n",
       "      <td>-89.05</td>\n",
       "      <td>220</td>\n",
       "      <td>-2927.19</td>\n",
       "      <td>280</td>\n",
       "      <td>33973.22</td>\n",
       "    </tr>\n",
       "    <tr>\n",
       "      <td>4</td>\n",
       "      <td>5</td>\n",
       "      <td>2</td>\n",
       "      <td>-0.114684</td>\n",
       "      <td>11</td>\n",
       "      <td>490</td>\n",
       "      <td>5</td>\n",
       "      <td>-13.657917</td>\n",
       "      <td>117.869949</td>\n",
       "      <td>130.827146</td>\n",
       "      <td>1</td>\n",
       "      <td>-90.83</td>\n",
       "      <td>792</td>\n",
       "      <td>-10817.07</td>\n",
       "      <td>93353</td>\n",
       "      <td>103615.10</td>\n",
       "    </tr>\n",
       "  </tbody>\n",
       "</table>\n",
       "</div>"
      ],
      "text/plain": [
       "   customer_id  coupon-used  coupon_discount  day  no_of_items  month  \\\n",
       "0            1           78        -2.019876    3          463      5   \n",
       "1            2            4        -0.595084   13          352      6   \n",
       "2            3           53        -3.091546   16          406      7   \n",
       "3            4            1        -0.404773   14          125      5   \n",
       "4            5            2        -0.114684   11          490      5   \n",
       "\n",
       "   other_discount    quantity  selling_price  weekday  cdd_sum  \\\n",
       "0      -16.250382    1.170802      94.001842        3 -2116.83   \n",
       "1      -16.830430    1.131265     102.864033        5  -249.34   \n",
       "2      -22.714227   11.578723     103.617404        4 -2179.54   \n",
       "3      -13.305409    1.272727     154.423727        5   -89.05   \n",
       "4      -13.657917  117.869949     130.827146        1   -90.83   \n",
       "\n",
       "   customer_id_count   odd_sum  qa_sum  pprice_sum  \n",
       "0               1048 -17030.40    1227    98513.93  \n",
       "1                419  -7051.95     474    43100.03  \n",
       "2                705 -16013.53    8163    73050.27  \n",
       "3                220  -2927.19     280    33973.22  \n",
       "4                792 -10817.07   93353   103615.10  "
      ]
     },
     "execution_count": 112,
     "metadata": {},
     "output_type": "execute_result"
    }
   ],
   "source": [
    "trans = pd.merge(trans3, trans4, on='customer_id', how='left')\n",
    "trans.head()"
   ]
  },
  {
   "cell_type": "code",
   "execution_count": 113,
   "metadata": {},
   "outputs": [],
   "source": [
    "def merge_all(df): \n",
    "    df=  pd.merge(df, coupon, on=\"coupon_id\", how=\"left\")\n",
    "    df = pd.merge(df, campaign, on=\"campaign_id\", how=\"left\")\n",
    "    df = pd.merge(df, cust_demo, on=\"customer_id\", how=\"left\")\n",
    "    df = pd.merge(df, trans, on='customer_id', how='left')\n",
    "    return df"
   ]
  },
  {
   "cell_type": "code",
   "execution_count": 114,
   "metadata": {},
   "outputs": [
    {
     "data": {
      "text/html": [
       "<div>\n",
       "<style scoped>\n",
       "    .dataframe tbody tr th:only-of-type {\n",
       "        vertical-align: middle;\n",
       "    }\n",
       "\n",
       "    .dataframe tbody tr th {\n",
       "        vertical-align: top;\n",
       "    }\n",
       "\n",
       "    .dataframe thead th {\n",
       "        text-align: right;\n",
       "    }\n",
       "</style>\n",
       "<table border=\"1\" class=\"dataframe\">\n",
       "  <thead>\n",
       "    <tr style=\"text-align: right;\">\n",
       "      <th></th>\n",
       "      <th>id</th>\n",
       "      <th>campaign_id</th>\n",
       "      <th>coupon_id</th>\n",
       "      <th>customer_id</th>\n",
       "      <th>redemption_status</th>\n",
       "      <th>brand</th>\n",
       "      <th>brand_type</th>\n",
       "      <th>category</th>\n",
       "      <th>cd_sum</th>\n",
       "      <th>coupon-used_x</th>\n",
       "      <th>...</th>\n",
       "      <th>month</th>\n",
       "      <th>other_discount_y</th>\n",
       "      <th>quantity_y</th>\n",
       "      <th>selling_price_y</th>\n",
       "      <th>weekday</th>\n",
       "      <th>cdd_sum</th>\n",
       "      <th>customer_id_count</th>\n",
       "      <th>odd_sum</th>\n",
       "      <th>qa_sum</th>\n",
       "      <th>pprice_sum</th>\n",
       "    </tr>\n",
       "  </thead>\n",
       "  <tbody>\n",
       "    <tr>\n",
       "      <td>0</td>\n",
       "      <td>1</td>\n",
       "      <td>13</td>\n",
       "      <td>27</td>\n",
       "      <td>1053</td>\n",
       "      <td>0</td>\n",
       "      <td>1105</td>\n",
       "      <td>0</td>\n",
       "      <td>6</td>\n",
       "      <td>-5349.93</td>\n",
       "      <td>191.0</td>\n",
       "      <td>...</td>\n",
       "      <td>5</td>\n",
       "      <td>-33.168935</td>\n",
       "      <td>340.487097</td>\n",
       "      <td>184.260484</td>\n",
       "      <td>2</td>\n",
       "      <td>-89.05</td>\n",
       "      <td>310</td>\n",
       "      <td>-10282.37</td>\n",
       "      <td>105551</td>\n",
       "      <td>57120.75</td>\n",
       "    </tr>\n",
       "    <tr>\n",
       "      <td>1</td>\n",
       "      <td>2</td>\n",
       "      <td>13</td>\n",
       "      <td>116</td>\n",
       "      <td>48</td>\n",
       "      <td>0</td>\n",
       "      <td>56</td>\n",
       "      <td>1</td>\n",
       "      <td>6</td>\n",
       "      <td>0.00</td>\n",
       "      <td>0.0</td>\n",
       "      <td>...</td>\n",
       "      <td>6</td>\n",
       "      <td>-27.699169</td>\n",
       "      <td>31.540260</td>\n",
       "      <td>234.247013</td>\n",
       "      <td>5</td>\n",
       "      <td>-1237.79</td>\n",
       "      <td>385</td>\n",
       "      <td>-10664.18</td>\n",
       "      <td>12143</td>\n",
       "      <td>90185.10</td>\n",
       "    </tr>\n",
       "    <tr>\n",
       "      <td>2</td>\n",
       "      <td>6</td>\n",
       "      <td>9</td>\n",
       "      <td>635</td>\n",
       "      <td>205</td>\n",
       "      <td>0</td>\n",
       "      <td>560</td>\n",
       "      <td>0</td>\n",
       "      <td>11</td>\n",
       "      <td>-605.54</td>\n",
       "      <td>15.0</td>\n",
       "      <td>...</td>\n",
       "      <td>3</td>\n",
       "      <td>-17.795660</td>\n",
       "      <td>1.392784</td>\n",
       "      <td>121.094495</td>\n",
       "      <td>2</td>\n",
       "      <td>-2145.72</td>\n",
       "      <td>970</td>\n",
       "      <td>-17261.79</td>\n",
       "      <td>1351</td>\n",
       "      <td>117461.66</td>\n",
       "    </tr>\n",
       "    <tr>\n",
       "      <td>3</td>\n",
       "      <td>7</td>\n",
       "      <td>13</td>\n",
       "      <td>644</td>\n",
       "      <td>1050</td>\n",
       "      <td>0</td>\n",
       "      <td>611</td>\n",
       "      <td>0</td>\n",
       "      <td>6</td>\n",
       "      <td>-17.81</td>\n",
       "      <td>1.0</td>\n",
       "      <td>...</td>\n",
       "      <td>8</td>\n",
       "      <td>-16.655570</td>\n",
       "      <td>1.291139</td>\n",
       "      <td>98.276034</td>\n",
       "      <td>4</td>\n",
       "      <td>-178.10</td>\n",
       "      <td>237</td>\n",
       "      <td>-3947.37</td>\n",
       "      <td>306</td>\n",
       "      <td>23291.42</td>\n",
       "    </tr>\n",
       "    <tr>\n",
       "      <td>4</td>\n",
       "      <td>9</td>\n",
       "      <td>8</td>\n",
       "      <td>1017</td>\n",
       "      <td>1489</td>\n",
       "      <td>0</td>\n",
       "      <td>1558</td>\n",
       "      <td>0</td>\n",
       "      <td>6</td>\n",
       "      <td>-569.92</td>\n",
       "      <td>23.0</td>\n",
       "      <td>...</td>\n",
       "      <td>5</td>\n",
       "      <td>-20.524733</td>\n",
       "      <td>247.443060</td>\n",
       "      <td>120.636103</td>\n",
       "      <td>4</td>\n",
       "      <td>-265.01</td>\n",
       "      <td>562</td>\n",
       "      <td>-11534.90</td>\n",
       "      <td>139063</td>\n",
       "      <td>67797.49</td>\n",
       "    </tr>\n",
       "  </tbody>\n",
       "</table>\n",
       "<p>5 rows × 46 columns</p>\n",
       "</div>"
      ],
      "text/plain": [
       "   id  campaign_id  coupon_id  customer_id  redemption_status  brand  \\\n",
       "0   1           13         27         1053                  0   1105   \n",
       "1   2           13        116           48                  0     56   \n",
       "2   6            9        635          205                  0    560   \n",
       "3   7           13        644         1050                  0    611   \n",
       "4   9            8       1017         1489                  0   1558   \n",
       "\n",
       "   brand_type  category   cd_sum  coupon-used_x  ...  month  other_discount_y  \\\n",
       "0           0         6 -5349.93          191.0  ...      5        -33.168935   \n",
       "1           1         6     0.00            0.0  ...      6        -27.699169   \n",
       "2           0        11  -605.54           15.0  ...      3        -17.795660   \n",
       "3           0         6   -17.81            1.0  ...      8        -16.655570   \n",
       "4           0         6  -569.92           23.0  ...      5        -20.524733   \n",
       "\n",
       "   quantity_y  selling_price_y  weekday  cdd_sum  customer_id_count   odd_sum  \\\n",
       "0  340.487097       184.260484        2   -89.05                310 -10282.37   \n",
       "1   31.540260       234.247013        5 -1237.79                385 -10664.18   \n",
       "2    1.392784       121.094495        2 -2145.72                970 -17261.79   \n",
       "3    1.291139        98.276034        4  -178.10                237  -3947.37   \n",
       "4  247.443060       120.636103        4  -265.01                562 -11534.90   \n",
       "\n",
       "   qa_sum  pprice_sum  \n",
       "0  105551    57120.75  \n",
       "1   12143    90185.10  \n",
       "2    1351   117461.66  \n",
       "3     306    23291.42  \n",
       "4  139063    67797.49  \n",
       "\n",
       "[5 rows x 46 columns]"
      ]
     },
     "execution_count": 114,
     "metadata": {},
     "output_type": "execute_result"
    }
   ],
   "source": [
    "train = merge_all(train)\n",
    "test= merge_all(test)\n",
    "train.head()"
   ]
  },
  {
   "cell_type": "code",
   "execution_count": 115,
   "metadata": {},
   "outputs": [
    {
     "data": {
      "text/plain": [
       "id                         0\n",
       "campaign_id                0\n",
       "coupon_id                  0\n",
       "customer_id                0\n",
       "redemption_status          0\n",
       "brand                      0\n",
       "brand_type                 0\n",
       "category                   0\n",
       "cd_sum                     0\n",
       "coupon-used_x              0\n",
       "coupon_discount_x          0\n",
       "item_counts                0\n",
       "no_of_customers            0\n",
       "od_sum                     0\n",
       "other_discount_x           0\n",
       "price_sum                  0\n",
       "qu_sum                     0\n",
       "quantity_x                 0\n",
       "selling_price_x            0\n",
       "t_counts                   0\n",
       "total_discount_mean        0\n",
       "total_discount_sum         0\n",
       "campaign_type              0\n",
       "start_date                 0\n",
       "end_date                   0\n",
       "campaign_duration          0\n",
       "age_range              34708\n",
       "marital_status         34708\n",
       "rented                 34708\n",
       "family_size            34708\n",
       "no_of_children         34708\n",
       "income_bracket         34708\n",
       "coupon-used_y              0\n",
       "coupon_discount_y          0\n",
       "day                        0\n",
       "no_of_items                0\n",
       "month                      0\n",
       "other_discount_y           0\n",
       "quantity_y                 0\n",
       "selling_price_y            0\n",
       "weekday                    0\n",
       "cdd_sum                    0\n",
       "customer_id_count          0\n",
       "odd_sum                    0\n",
       "qa_sum                     0\n",
       "pprice_sum                 0\n",
       "dtype: int64"
      ]
     },
     "execution_count": 115,
     "metadata": {},
     "output_type": "execute_result"
    }
   ],
   "source": [
    "train.isnull().sum()"
   ]
  },
  {
   "cell_type": "code",
   "execution_count": 116,
   "metadata": {},
   "outputs": [
    {
     "data": {
      "text/plain": [
       "id                         0\n",
       "campaign_id                0\n",
       "coupon_id                  0\n",
       "customer_id                0\n",
       "brand                      0\n",
       "brand_type                 0\n",
       "category                   0\n",
       "cd_sum                     0\n",
       "coupon-used_x              0\n",
       "coupon_discount_x          0\n",
       "item_counts                0\n",
       "no_of_customers            0\n",
       "od_sum                     0\n",
       "other_discount_x           0\n",
       "price_sum                  0\n",
       "qu_sum                     0\n",
       "quantity_x                 0\n",
       "selling_price_x            0\n",
       "t_counts                   0\n",
       "total_discount_mean        0\n",
       "total_discount_sum         0\n",
       "campaign_type              0\n",
       "start_date                 0\n",
       "end_date                   0\n",
       "campaign_duration          0\n",
       "age_range              19287\n",
       "marital_status         19287\n",
       "rented                 19287\n",
       "family_size            19287\n",
       "no_of_children         19287\n",
       "income_bracket         19287\n",
       "coupon-used_y              0\n",
       "coupon_discount_y          0\n",
       "day                        0\n",
       "no_of_items                0\n",
       "month                      0\n",
       "other_discount_y           0\n",
       "quantity_y                 0\n",
       "selling_price_y            0\n",
       "weekday                    0\n",
       "cdd_sum                    0\n",
       "customer_id_count          0\n",
       "odd_sum                    0\n",
       "qa_sum                     0\n",
       "pprice_sum                 0\n",
       "dtype: int64"
      ]
     },
     "execution_count": 116,
     "metadata": {},
     "output_type": "execute_result"
    }
   ],
   "source": [
    "test.isnull().sum()"
   ]
  },
  {
   "cell_type": "markdown",
   "metadata": {},
   "source": [
    "# There are missing values in:\n",
    "\n",
    "age_range\n",
    "\n",
    "marital_status\n",
    "\n",
    "rented\n",
    "\n",
    "family_size\n",
    "\n",
    "no_of_children\n",
    "\n",
    "income_bracke"
   ]
  },
  {
   "cell_type": "code",
   "execution_count": 117,
   "metadata": {},
   "outputs": [],
   "source": [
    "def deal_na(df):\n",
    "    for col in cust_demo.columns.tolist()[1:]:\n",
    "        df[col].fillna(mode(df[col]).mode[0], inplace=True)\n",
    "    return df\n",
    "\n",
    "train = deal_na(train)\n",
    "test = deal_na(test)"
   ]
  },
  {
   "cell_type": "code",
   "execution_count": 118,
   "metadata": {},
   "outputs": [
    {
     "data": {
      "text/plain": [
       "id                     0\n",
       "campaign_id            0\n",
       "coupon_id              0\n",
       "customer_id            0\n",
       "redemption_status      0\n",
       "brand                  0\n",
       "brand_type             0\n",
       "category               0\n",
       "cd_sum                 0\n",
       "coupon-used_x          0\n",
       "coupon_discount_x      0\n",
       "item_counts            0\n",
       "no_of_customers        0\n",
       "od_sum                 0\n",
       "other_discount_x       0\n",
       "price_sum              0\n",
       "qu_sum                 0\n",
       "quantity_x             0\n",
       "selling_price_x        0\n",
       "t_counts               0\n",
       "total_discount_mean    0\n",
       "total_discount_sum     0\n",
       "campaign_type          0\n",
       "start_date             0\n",
       "end_date               0\n",
       "campaign_duration      0\n",
       "age_range              0\n",
       "marital_status         0\n",
       "rented                 0\n",
       "family_size            0\n",
       "no_of_children         0\n",
       "income_bracket         0\n",
       "coupon-used_y          0\n",
       "coupon_discount_y      0\n",
       "day                    0\n",
       "no_of_items            0\n",
       "month                  0\n",
       "other_discount_y       0\n",
       "quantity_y             0\n",
       "selling_price_y        0\n",
       "weekday                0\n",
       "cdd_sum                0\n",
       "customer_id_count      0\n",
       "odd_sum                0\n",
       "qa_sum                 0\n",
       "pprice_sum             0\n",
       "dtype: int64"
      ]
     },
     "execution_count": 118,
     "metadata": {},
     "output_type": "execute_result"
    }
   ],
   "source": [
    "train.isnull().sum()"
   ]
  },
  {
   "cell_type": "code",
   "execution_count": 119,
   "metadata": {},
   "outputs": [
    {
     "data": {
      "text/plain": [
       "id                     0\n",
       "campaign_id            0\n",
       "coupon_id              0\n",
       "customer_id            0\n",
       "brand                  0\n",
       "brand_type             0\n",
       "category               0\n",
       "cd_sum                 0\n",
       "coupon-used_x          0\n",
       "coupon_discount_x      0\n",
       "item_counts            0\n",
       "no_of_customers        0\n",
       "od_sum                 0\n",
       "other_discount_x       0\n",
       "price_sum              0\n",
       "qu_sum                 0\n",
       "quantity_x             0\n",
       "selling_price_x        0\n",
       "t_counts               0\n",
       "total_discount_mean    0\n",
       "total_discount_sum     0\n",
       "campaign_type          0\n",
       "start_date             0\n",
       "end_date               0\n",
       "campaign_duration      0\n",
       "age_range              0\n",
       "marital_status         0\n",
       "rented                 0\n",
       "family_size            0\n",
       "no_of_children         0\n",
       "income_bracket         0\n",
       "coupon-used_y          0\n",
       "coupon_discount_y      0\n",
       "day                    0\n",
       "no_of_items            0\n",
       "month                  0\n",
       "other_discount_y       0\n",
       "quantity_y             0\n",
       "selling_price_y        0\n",
       "weekday                0\n",
       "cdd_sum                0\n",
       "customer_id_count      0\n",
       "odd_sum                0\n",
       "qa_sum                 0\n",
       "pprice_sum             0\n",
       "dtype: int64"
      ]
     },
     "execution_count": 119,
     "metadata": {},
     "output_type": "execute_result"
    }
   ],
   "source": [
    "test.isnull().sum()"
   ]
  },
  {
   "cell_type": "code",
   "execution_count": 120,
   "metadata": {},
   "outputs": [],
   "source": [
    "test_id = test['id']\n",
    "target = train['redemption_status']\n",
    "train.drop(['id','campaign_id','start_date','end_date', 'redemption_status'], axis=1, inplace=True)\n",
    "test.drop(['id','campaign_id','start_date','end_date'], axis=1, inplace=True)"
   ]
  },
  {
   "cell_type": "code",
   "execution_count": 121,
   "metadata": {},
   "outputs": [
    {
     "data": {
      "text/html": [
       "<div>\n",
       "<style scoped>\n",
       "    .dataframe tbody tr th:only-of-type {\n",
       "        vertical-align: middle;\n",
       "    }\n",
       "\n",
       "    .dataframe tbody tr th {\n",
       "        vertical-align: top;\n",
       "    }\n",
       "\n",
       "    .dataframe thead th {\n",
       "        text-align: right;\n",
       "    }\n",
       "</style>\n",
       "<table border=\"1\" class=\"dataframe\">\n",
       "  <thead>\n",
       "    <tr style=\"text-align: right;\">\n",
       "      <th></th>\n",
       "      <th>coupon_id</th>\n",
       "      <th>customer_id</th>\n",
       "      <th>brand</th>\n",
       "      <th>brand_type</th>\n",
       "      <th>category</th>\n",
       "      <th>cd_sum</th>\n",
       "      <th>coupon-used_x</th>\n",
       "      <th>coupon_discount_x</th>\n",
       "      <th>item_counts</th>\n",
       "      <th>no_of_customers</th>\n",
       "      <th>...</th>\n",
       "      <th>month</th>\n",
       "      <th>other_discount_y</th>\n",
       "      <th>quantity_y</th>\n",
       "      <th>selling_price_y</th>\n",
       "      <th>weekday</th>\n",
       "      <th>cdd_sum</th>\n",
       "      <th>customer_id_count</th>\n",
       "      <th>odd_sum</th>\n",
       "      <th>qa_sum</th>\n",
       "      <th>pprice_sum</th>\n",
       "    </tr>\n",
       "  </thead>\n",
       "  <tbody>\n",
       "    <tr>\n",
       "      <td>0</td>\n",
       "      <td>27</td>\n",
       "      <td>1053</td>\n",
       "      <td>1105</td>\n",
       "      <td>0</td>\n",
       "      <td>6</td>\n",
       "      <td>-5349.93</td>\n",
       "      <td>191.0</td>\n",
       "      <td>-1.241694</td>\n",
       "      <td>125</td>\n",
       "      <td>19.224000</td>\n",
       "      <td>...</td>\n",
       "      <td>5</td>\n",
       "      <td>-33.168935</td>\n",
       "      <td>340.487097</td>\n",
       "      <td>184.260484</td>\n",
       "      <td>2</td>\n",
       "      <td>-89.05</td>\n",
       "      <td>310</td>\n",
       "      <td>-10282.37</td>\n",
       "      <td>105551</td>\n",
       "      <td>57120.75</td>\n",
       "    </tr>\n",
       "    <tr>\n",
       "      <td>1</td>\n",
       "      <td>116</td>\n",
       "      <td>48</td>\n",
       "      <td>56</td>\n",
       "      <td>1</td>\n",
       "      <td>6</td>\n",
       "      <td>0.00</td>\n",
       "      <td>0.0</td>\n",
       "      <td>0.000000</td>\n",
       "      <td>3</td>\n",
       "      <td>20.333333</td>\n",
       "      <td>...</td>\n",
       "      <td>6</td>\n",
       "      <td>-27.699169</td>\n",
       "      <td>31.540260</td>\n",
       "      <td>234.247013</td>\n",
       "      <td>5</td>\n",
       "      <td>-1237.79</td>\n",
       "      <td>385</td>\n",
       "      <td>-10664.18</td>\n",
       "      <td>12143</td>\n",
       "      <td>90185.10</td>\n",
       "    </tr>\n",
       "    <tr>\n",
       "      <td>2</td>\n",
       "      <td>635</td>\n",
       "      <td>205</td>\n",
       "      <td>560</td>\n",
       "      <td>0</td>\n",
       "      <td>11</td>\n",
       "      <td>-605.54</td>\n",
       "      <td>15.0</td>\n",
       "      <td>-2.987321</td>\n",
       "      <td>67</td>\n",
       "      <td>1.761194</td>\n",
       "      <td>...</td>\n",
       "      <td>3</td>\n",
       "      <td>-17.795660</td>\n",
       "      <td>1.392784</td>\n",
       "      <td>121.094495</td>\n",
       "      <td>2</td>\n",
       "      <td>-2145.72</td>\n",
       "      <td>970</td>\n",
       "      <td>-17261.79</td>\n",
       "      <td>1351</td>\n",
       "      <td>117461.66</td>\n",
       "    </tr>\n",
       "    <tr>\n",
       "      <td>3</td>\n",
       "      <td>644</td>\n",
       "      <td>1050</td>\n",
       "      <td>611</td>\n",
       "      <td>0</td>\n",
       "      <td>6</td>\n",
       "      <td>-17.81</td>\n",
       "      <td>1.0</td>\n",
       "      <td>-4.452500</td>\n",
       "      <td>4</td>\n",
       "      <td>3.500000</td>\n",
       "      <td>...</td>\n",
       "      <td>8</td>\n",
       "      <td>-16.655570</td>\n",
       "      <td>1.291139</td>\n",
       "      <td>98.276034</td>\n",
       "      <td>4</td>\n",
       "      <td>-178.10</td>\n",
       "      <td>237</td>\n",
       "      <td>-3947.37</td>\n",
       "      <td>306</td>\n",
       "      <td>23291.42</td>\n",
       "    </tr>\n",
       "    <tr>\n",
       "      <td>4</td>\n",
       "      <td>1017</td>\n",
       "      <td>1489</td>\n",
       "      <td>1558</td>\n",
       "      <td>0</td>\n",
       "      <td>6</td>\n",
       "      <td>-569.92</td>\n",
       "      <td>23.0</td>\n",
       "      <td>-0.198055</td>\n",
       "      <td>32</td>\n",
       "      <td>27.312500</td>\n",
       "      <td>...</td>\n",
       "      <td>5</td>\n",
       "      <td>-20.524733</td>\n",
       "      <td>247.443060</td>\n",
       "      <td>120.636103</td>\n",
       "      <td>4</td>\n",
       "      <td>-265.01</td>\n",
       "      <td>562</td>\n",
       "      <td>-11534.90</td>\n",
       "      <td>139063</td>\n",
       "      <td>67797.49</td>\n",
       "    </tr>\n",
       "  </tbody>\n",
       "</table>\n",
       "<p>5 rows × 41 columns</p>\n",
       "</div>"
      ],
      "text/plain": [
       "   coupon_id  customer_id  brand  brand_type  category   cd_sum  \\\n",
       "0         27         1053   1105           0         6 -5349.93   \n",
       "1        116           48     56           1         6     0.00   \n",
       "2        635          205    560           0        11  -605.54   \n",
       "3        644         1050    611           0         6   -17.81   \n",
       "4       1017         1489   1558           0         6  -569.92   \n",
       "\n",
       "   coupon-used_x  coupon_discount_x  item_counts  no_of_customers  ...  month  \\\n",
       "0          191.0          -1.241694          125        19.224000  ...      5   \n",
       "1            0.0           0.000000            3        20.333333  ...      6   \n",
       "2           15.0          -2.987321           67         1.761194  ...      3   \n",
       "3            1.0          -4.452500            4         3.500000  ...      8   \n",
       "4           23.0          -0.198055           32        27.312500  ...      5   \n",
       "\n",
       "   other_discount_y  quantity_y  selling_price_y  weekday  cdd_sum  \\\n",
       "0        -33.168935  340.487097       184.260484        2   -89.05   \n",
       "1        -27.699169   31.540260       234.247013        5 -1237.79   \n",
       "2        -17.795660    1.392784       121.094495        2 -2145.72   \n",
       "3        -16.655570    1.291139        98.276034        4  -178.10   \n",
       "4        -20.524733  247.443060       120.636103        4  -265.01   \n",
       "\n",
       "   customer_id_count   odd_sum  qa_sum  pprice_sum  \n",
       "0                310 -10282.37  105551    57120.75  \n",
       "1                385 -10664.18   12143    90185.10  \n",
       "2                970 -17261.79    1351   117461.66  \n",
       "3                237  -3947.37     306    23291.42  \n",
       "4                562 -11534.90  139063    67797.49  \n",
       "\n",
       "[5 rows x 41 columns]"
      ]
     },
     "execution_count": 121,
     "metadata": {},
     "output_type": "execute_result"
    }
   ],
   "source": [
    "train.head()"
   ]
  },
  {
   "cell_type": "code",
   "execution_count": 122,
   "metadata": {},
   "outputs": [
    {
     "data": {
      "text/plain": [
       "Index(['coupon_id', 'customer_id', 'brand', 'brand_type', 'category', 'cd_sum',\n",
       "       'coupon-used_x', 'coupon_discount_x', 'item_counts', 'no_of_customers',\n",
       "       'od_sum', 'other_discount_x', 'price_sum', 'qu_sum', 'quantity_x',\n",
       "       'selling_price_x', 't_counts', 'total_discount_mean',\n",
       "       'total_discount_sum', 'campaign_type', 'campaign_duration', 'age_range',\n",
       "       'marital_status', 'rented', 'family_size', 'no_of_children',\n",
       "       'income_bracket', 'coupon-used_y', 'coupon_discount_y', 'day',\n",
       "       'no_of_items', 'month', 'other_discount_y', 'quantity_y',\n",
       "       'selling_price_y', 'weekday', 'cdd_sum', 'customer_id_count', 'odd_sum',\n",
       "       'qa_sum', 'pprice_sum'],\n",
       "      dtype='object')"
      ]
     },
     "execution_count": 122,
     "metadata": {},
     "output_type": "execute_result"
    }
   ],
   "source": [
    "train.columns"
   ]
  },
  {
   "cell_type": "code",
   "execution_count": 123,
   "metadata": {},
   "outputs": [
    {
     "data": {
      "text/plain": [
       "0        0\n",
       "1        0\n",
       "2        0\n",
       "3        0\n",
       "4        0\n",
       "        ..\n",
       "78364    0\n",
       "78365    0\n",
       "78366    0\n",
       "78367    0\n",
       "78368    0\n",
       "Name: redemption_status, Length: 78369, dtype: int64"
      ]
     },
     "execution_count": 123,
     "metadata": {},
     "output_type": "execute_result"
    }
   ],
   "source": [
    "target"
   ]
  },
  {
   "cell_type": "code",
   "execution_count": 124,
   "metadata": {},
   "outputs": [],
   "source": [
    "x = pd.DataFrame(train)\n",
    "y = target\n",
    "col_names = ['cd_sum','coupon_discount_x', 'coupon-used_x', 'item_counts', 'no_of_customers',\n",
    "       'od_sum', 'other_discount_x', 'price_sum', 'qu_sum', 'quantity_x',\n",
    "       'selling_price_x', 't_counts', 'total_discount_mean',\n",
    "       'total_discount_sum', 'campaign_type', 'campaign_duration',\n",
    "        'family_size', 'no_of_children',\n",
    "       'income_bracket', 'coupon_discount_y', 'coupon-used_y',\n",
    "       'no_of_items', 'other_discount_y', 'quantity_y',\n",
    "       'selling_price_y', 'cdd_sum', 'customer_id_count', 'odd_sum', 'qa_sum',\n",
    "       'pprice_sum']\n",
    "features = x[col_names]\n",
    "scaler = StandardScaler().fit(features.values)\n",
    "features = scaler.transform(features.values)\n",
    "x[col_names] = features\n",
    "x = np.array(x)"
   ]
  },
  {
   "cell_type": "code",
   "execution_count": 125,
   "metadata": {},
   "outputs": [],
   "source": [
    "X_train,X_test,y_train,y_test = train_test_split(x,y,test_size=0.3,random_state=101)\n",
    "                                               "
   ]
  },
  {
   "cell_type": "code",
   "execution_count": 126,
   "metadata": {},
   "outputs": [],
   "source": [
    "from sklearn.model_selection import GridSearchCV\n",
    "from sklearn.metrics import classification_report,roc_auc_score,roc_curve\n",
    "from sklearn.model_selection import train_test_split, KFold\n",
    "from sklearn.preprocessing import StandardScaler\n",
    "from sklearn.linear_model import LogisticRegression"
   ]
  },
  {
   "cell_type": "code",
   "execution_count": 127,
   "metadata": {},
   "outputs": [],
   "source": [
    "Model = []\n",
    "Accuracy= []\n",
    "F1Score = []\n",
    "Sen = []\n",
    "Spe = []\n",
    "FPR = []\n",
    "FNR = []"
   ]
  },
  {
   "cell_type": "code",
   "execution_count": 128,
   "metadata": {},
   "outputs": [
    {
     "data": {
      "text/plain": [
       "Index(['coupon_id', 'customer_id', 'brand', 'brand_type', 'category', 'cd_sum',\n",
       "       'coupon-used_x', 'coupon_discount_x', 'item_counts', 'no_of_customers',\n",
       "       'od_sum', 'other_discount_x', 'price_sum', 'qu_sum', 'quantity_x',\n",
       "       'selling_price_x', 't_counts', 'total_discount_mean',\n",
       "       'total_discount_sum', 'campaign_type', 'campaign_duration', 'age_range',\n",
       "       'marital_status', 'rented', 'family_size', 'no_of_children',\n",
       "       'income_bracket', 'coupon-used_y', 'coupon_discount_y', 'day',\n",
       "       'no_of_items', 'month', 'other_discount_y', 'quantity_y',\n",
       "       'selling_price_y', 'weekday', 'cdd_sum', 'customer_id_count', 'odd_sum',\n",
       "       'qa_sum', 'pprice_sum'],\n",
       "      dtype='object')"
      ]
     },
     "execution_count": 128,
     "metadata": {},
     "output_type": "execute_result"
    }
   ],
   "source": [
    "train.columns"
   ]
  },
  {
   "cell_type": "code",
   "execution_count": 129,
   "metadata": {},
   "outputs": [],
   "source": [
    "##Split into training and test set\n",
    "from sklearn.model_selection import train_test_split\n",
    "\n",
    "X_train, X_test, y_train, y_test = train_test_split(x, y, test_size=0.30)"
   ]
  },
  {
   "cell_type": "markdown",
   "metadata": {},
   "source": [
    "# Important points about Odds ratio:\n",
    " \n",
    "Calculated in case-control studies as incidence of outcome is not known ->OR >1 indicates increased occurrence of event ->OR <1 indicates decreased occurrence of event (protective exposure) Look at CI and P value for statistical significance of value in rare outcomes OR = RR (RR = Relative Risk). This applies when the incidence of disease is < 10%"
   ]
  },
  {
   "cell_type": "code",
   "execution_count": 130,
   "metadata": {},
   "outputs": [
    {
     "name": "stdout",
     "output_type": "stream",
     "text": [
      "Warning: Maximum number of iterations has been exceeded.\n",
      "         Current function value: 0.040647\n",
      "         Iterations: 35\n"
     ]
    }
   ],
   "source": [
    "#Build the logistic regression model\n",
    "import statsmodels.api as sm\n",
    "\n",
    "logit = sm.Logit(y_train, sm.add_constant(X_train))\n",
    "lg = logit.fit()"
   ]
  },
  {
   "cell_type": "code",
   "execution_count": 131,
   "metadata": {},
   "outputs": [
    {
     "name": "stdout",
     "output_type": "stream",
     "text": [
      "                           Logit Regression Results                           \n",
      "==============================================================================\n",
      "Dep. Variable:      redemption_status   No. Observations:                54858\n",
      "Model:                          Logit   Df Residuals:                    54818\n",
      "Method:                           MLE   Df Model:                           39\n",
      "Date:                Sun, 26 Jan 2020   Pseudo R-squ.:                  0.2331\n",
      "Time:                        09:43:07   Log-Likelihood:                -2229.8\n",
      "converged:                      False   LL-Null:                       -2907.4\n",
      "Covariance Type:            nonrobust   LLR p-value:                4.485e-259\n",
      "==============================================================================\n",
      "                 coef    std err          z      P>|z|      [0.025      0.975]\n",
      "------------------------------------------------------------------------------\n",
      "const          1.8894   4.04e+05   4.68e-06      1.000   -7.91e+05    7.91e+05\n",
      "x1             0.0014      0.000      4.435      0.000       0.001       0.002\n",
      "x2             0.0002      0.000      1.700      0.089   -2.65e-05       0.000\n",
      "x3            -0.0006      0.000     -5.082      0.000      -0.001      -0.000\n",
      "x4            -3.0377      0.339     -8.967      0.000      -3.702      -2.374\n",
      "x5            -0.0916      0.030     -3.062      0.002      -0.150      -0.033\n",
      "x6            -1.6846        nan        nan        nan         nan         nan\n",
      "x7            -1.0040      0.299     -3.354      0.001      -1.591      -0.417\n",
      "x8             0.1111        nan        nan        nan         nan         nan\n",
      "x9            -1.6832      0.269     -6.256      0.000      -2.211      -1.156\n",
      "x10            0.5214      0.059      8.786      0.000       0.405       0.638\n",
      "x11            0.7921        nan        nan        nan         nan         nan\n",
      "x12           -0.1064        nan        nan        nan         nan         nan\n",
      "x13            3.4174      0.591      5.786      0.000       2.260       4.575\n",
      "x14           -1.1434      0.719     -1.591      0.112      -2.552       0.265\n",
      "x15           -0.0268      0.068     -0.393      0.694      -0.160       0.107\n",
      "x16           -0.3820      0.119     -3.207      0.001      -0.616      -0.149\n",
      "x17            0.3058      0.704      0.435      0.664      -1.073       1.685\n",
      "x18           -0.0786        nan        nan        nan         nan         nan\n",
      "x19            0.7354        nan        nan        nan         nan         nan\n",
      "x20           -0.5921      0.068     -8.691      0.000      -0.726      -0.459\n",
      "x21            0.0656      0.066      1.001      0.317      -0.063       0.194\n",
      "x22           -0.0086      0.050     -0.170      0.865      -0.108       0.090\n",
      "x23          -31.1709   1.89e+06  -1.65e-05      1.000    -3.7e+06     3.7e+06\n",
      "x24           -0.1695      0.267     -0.635      0.525      -0.693       0.354\n",
      "x25          -28.7203   1.72e+06  -1.67e-05      1.000   -3.37e+06    3.37e+06\n",
      "x26           24.9040   1.49e+06   1.67e-05      1.000   -2.92e+06    2.92e+06\n",
      "x27            0.0058      0.052      0.112      0.911      -0.095       0.107\n",
      "x28            0.7105      0.105      6.774      0.000       0.505       0.916\n",
      "x29           -0.4351      0.054     -8.044      0.000      -0.541      -0.329\n",
      "x30            0.0075      0.006      1.348      0.178      -0.003       0.018\n",
      "x31           -0.3870      0.109     -3.553      0.000      -0.600      -0.173\n",
      "x32           -0.0813      0.024     -3.328      0.001      -0.129      -0.033\n",
      "x33            0.3163      0.102      3.113      0.002       0.117       0.515\n",
      "x34            0.3404      0.101      3.373      0.001       0.143       0.538\n",
      "x35           -0.2608      0.135     -1.938      0.053      -0.525       0.003\n",
      "x36            0.0014      0.029      0.049      0.961      -0.055       0.058\n",
      "x37            0.5877      0.133      4.414      0.000       0.327       0.849\n",
      "x38           -0.0496      0.248     -0.200      0.841      -0.535       0.436\n",
      "x39           -0.4891      0.128     -3.807      0.000      -0.741      -0.237\n",
      "x40           -0.1502      0.103     -1.462      0.144      -0.352       0.051\n",
      "x41            0.3937      0.260      1.512      0.130      -0.117       0.904\n",
      "==============================================================================\n"
     ]
    }
   ],
   "source": [
    "#Summary of logistic regression\n",
    "from scipy import stats\n",
    "stats.chisqprob = lambda chisq, df: stats.chi2.sf(chisq, df)\n",
    "print(lg.summary())"
   ]
  },
  {
   "cell_type": "code",
   "execution_count": 132,
   "metadata": {},
   "outputs": [],
   "source": [
    "#Calculate Odds Ratio\n",
    "lgcoef = pd.DataFrame(lg.params, columns=['coef'])\n",
    "lgcoef.loc[:, \"Odds_ratio\"] = np.exp(lgcoef.coef)\n",
    "lgcoef['probability'] = lgcoef['Odds_ratio']/(1+lgcoef['Odds_ratio'])\n",
    "lgcoef['pval']=lg.pvalues\n",
    "pd.options.display.float_format = '{:.2f}'.format\n",
    "lgcoef\n",
    "lgcoef.to_csv('logit.csv')"
   ]
  },
  {
   "cell_type": "code",
   "execution_count": 133,
   "metadata": {},
   "outputs": [
    {
     "data": {
      "text/html": [
       "<div>\n",
       "<style scoped>\n",
       "    .dataframe tbody tr th:only-of-type {\n",
       "        vertical-align: middle;\n",
       "    }\n",
       "\n",
       "    .dataframe tbody tr th {\n",
       "        vertical-align: top;\n",
       "    }\n",
       "\n",
       "    .dataframe thead th {\n",
       "        text-align: right;\n",
       "    }\n",
       "</style>\n",
       "<table border=\"1\" class=\"dataframe\">\n",
       "  <thead>\n",
       "    <tr style=\"text-align: right;\">\n",
       "      <th></th>\n",
       "      <th>coef</th>\n",
       "      <th>Odds_ratio</th>\n",
       "      <th>probability</th>\n",
       "      <th>pval</th>\n",
       "    </tr>\n",
       "  </thead>\n",
       "  <tbody>\n",
       "    <tr>\n",
       "      <td>x13</td>\n",
       "      <td>3.42</td>\n",
       "      <td>30.49</td>\n",
       "      <td>0.97</td>\n",
       "      <td>0.00</td>\n",
       "    </tr>\n",
       "    <tr>\n",
       "      <td>x28</td>\n",
       "      <td>0.71</td>\n",
       "      <td>2.04</td>\n",
       "      <td>0.67</td>\n",
       "      <td>0.00</td>\n",
       "    </tr>\n",
       "    <tr>\n",
       "      <td>x37</td>\n",
       "      <td>0.59</td>\n",
       "      <td>1.80</td>\n",
       "      <td>0.64</td>\n",
       "      <td>0.00</td>\n",
       "    </tr>\n",
       "    <tr>\n",
       "      <td>x10</td>\n",
       "      <td>0.52</td>\n",
       "      <td>1.68</td>\n",
       "      <td>0.63</td>\n",
       "      <td>0.00</td>\n",
       "    </tr>\n",
       "    <tr>\n",
       "      <td>x34</td>\n",
       "      <td>0.34</td>\n",
       "      <td>1.41</td>\n",
       "      <td>0.58</td>\n",
       "      <td>0.00</td>\n",
       "    </tr>\n",
       "    <tr>\n",
       "      <td>x33</td>\n",
       "      <td>0.32</td>\n",
       "      <td>1.37</td>\n",
       "      <td>0.58</td>\n",
       "      <td>0.00</td>\n",
       "    </tr>\n",
       "    <tr>\n",
       "      <td>x1</td>\n",
       "      <td>0.00</td>\n",
       "      <td>1.00</td>\n",
       "      <td>0.50</td>\n",
       "      <td>0.00</td>\n",
       "    </tr>\n",
       "    <tr>\n",
       "      <td>x2</td>\n",
       "      <td>0.00</td>\n",
       "      <td>1.00</td>\n",
       "      <td>0.50</td>\n",
       "      <td>0.09</td>\n",
       "    </tr>\n",
       "    <tr>\n",
       "      <td>x3</td>\n",
       "      <td>-0.00</td>\n",
       "      <td>1.00</td>\n",
       "      <td>0.50</td>\n",
       "      <td>0.00</td>\n",
       "    </tr>\n",
       "    <tr>\n",
       "      <td>x32</td>\n",
       "      <td>-0.08</td>\n",
       "      <td>0.92</td>\n",
       "      <td>0.48</td>\n",
       "      <td>0.00</td>\n",
       "    </tr>\n",
       "    <tr>\n",
       "      <td>x5</td>\n",
       "      <td>-0.09</td>\n",
       "      <td>0.91</td>\n",
       "      <td>0.48</td>\n",
       "      <td>0.00</td>\n",
       "    </tr>\n",
       "    <tr>\n",
       "      <td>x35</td>\n",
       "      <td>-0.26</td>\n",
       "      <td>0.77</td>\n",
       "      <td>0.44</td>\n",
       "      <td>0.05</td>\n",
       "    </tr>\n",
       "    <tr>\n",
       "      <td>x16</td>\n",
       "      <td>-0.38</td>\n",
       "      <td>0.68</td>\n",
       "      <td>0.41</td>\n",
       "      <td>0.00</td>\n",
       "    </tr>\n",
       "    <tr>\n",
       "      <td>x31</td>\n",
       "      <td>-0.39</td>\n",
       "      <td>0.68</td>\n",
       "      <td>0.40</td>\n",
       "      <td>0.00</td>\n",
       "    </tr>\n",
       "    <tr>\n",
       "      <td>x29</td>\n",
       "      <td>-0.44</td>\n",
       "      <td>0.65</td>\n",
       "      <td>0.39</td>\n",
       "      <td>0.00</td>\n",
       "    </tr>\n",
       "    <tr>\n",
       "      <td>x39</td>\n",
       "      <td>-0.49</td>\n",
       "      <td>0.61</td>\n",
       "      <td>0.38</td>\n",
       "      <td>0.00</td>\n",
       "    </tr>\n",
       "    <tr>\n",
       "      <td>x20</td>\n",
       "      <td>-0.59</td>\n",
       "      <td>0.55</td>\n",
       "      <td>0.36</td>\n",
       "      <td>0.00</td>\n",
       "    </tr>\n",
       "    <tr>\n",
       "      <td>x7</td>\n",
       "      <td>-1.00</td>\n",
       "      <td>0.37</td>\n",
       "      <td>0.27</td>\n",
       "      <td>0.00</td>\n",
       "    </tr>\n",
       "    <tr>\n",
       "      <td>x9</td>\n",
       "      <td>-1.68</td>\n",
       "      <td>0.19</td>\n",
       "      <td>0.16</td>\n",
       "      <td>0.00</td>\n",
       "    </tr>\n",
       "    <tr>\n",
       "      <td>x4</td>\n",
       "      <td>-3.04</td>\n",
       "      <td>0.05</td>\n",
       "      <td>0.05</td>\n",
       "      <td>0.00</td>\n",
       "    </tr>\n",
       "  </tbody>\n",
       "</table>\n",
       "</div>"
      ],
      "text/plain": [
       "     coef  Odds_ratio  probability  pval\n",
       "x13  3.42       30.49         0.97  0.00\n",
       "x28  0.71        2.04         0.67  0.00\n",
       "x37  0.59        1.80         0.64  0.00\n",
       "x10  0.52        1.68         0.63  0.00\n",
       "x34  0.34        1.41         0.58  0.00\n",
       "x33  0.32        1.37         0.58  0.00\n",
       "x1   0.00        1.00         0.50  0.00\n",
       "x2   0.00        1.00         0.50  0.09\n",
       "x3  -0.00        1.00         0.50  0.00\n",
       "x32 -0.08        0.92         0.48  0.00\n",
       "x5  -0.09        0.91         0.48  0.00\n",
       "x35 -0.26        0.77         0.44  0.05\n",
       "x16 -0.38        0.68         0.41  0.00\n",
       "x31 -0.39        0.68         0.40  0.00\n",
       "x29 -0.44        0.65         0.39  0.00\n",
       "x39 -0.49        0.61         0.38  0.00\n",
       "x20 -0.59        0.55         0.36  0.00\n",
       "x7  -1.00        0.37         0.27  0.00\n",
       "x9  -1.68        0.19         0.16  0.00\n",
       "x4  -3.04        0.05         0.05  0.00"
      ]
     },
     "execution_count": 133,
     "metadata": {},
     "output_type": "execute_result"
    }
   ],
   "source": [
    "lgcoef = lgcoef.sort_values(by=\"Odds_ratio\", ascending=False)\n",
    "pval_filter = lgcoef['pval']<=0.1\n",
    "lgcoef[pval_filter]"
   ]
  },
  {
   "cell_type": "markdown",
   "metadata": {},
   "source": [
    "-From the log odds ratio of x13 feature which is 33.08 which means the odds that the customer might respond to the campaign is 33 times higher. we can see that the probability that the customer will redeem the coupon for next campaign increases by 97%\n",
    "ie. x13 is the important feature.\n",
    "\n",
    "-X28 feature is also an important feature where the odd ratio is 1.92 means the odds that the customer might respond to the campaign is 1.92 times higher, we can see that the probability that the customer will redeem the coupon for next campaign increases by 66%\n",
    "\n",
    "-x37,x10,x33 are also some important feature where we must focus upon to increase the redemtion status of the customers.\n",
    "Here the odds ratio of these three columns is 1.71,1.69,1.51 respectively means that the customer might respond to the campaign is 1.71,1.69,1.51 times higher.\n",
    "the probability that the customer will redeem the coupon for next campaign increases by 63%,63% and 60%.\n",
    "\n"
   ]
  },
  {
   "cell_type": "code",
   "execution_count": 134,
   "metadata": {},
   "outputs": [
    {
     "data": {
      "text/plain": [
       "LogisticRegression(C=1.0, class_weight=None, dual=False, fit_intercept=True,\n",
       "                   intercept_scaling=1, l1_ratio=None, max_iter=100,\n",
       "                   multi_class='warn', n_jobs=None, penalty='l2',\n",
       "                   random_state=None, solver='warn', tol=0.0001, verbose=0,\n",
       "                   warm_start=False)"
      ]
     },
     "execution_count": 134,
     "metadata": {},
     "output_type": "execute_result"
    }
   ],
   "source": [
    "from sklearn import metrics\n",
    "from sklearn.linear_model import LogisticRegression\n",
    "\n",
    "logreg = LogisticRegression()\n",
    "logreg.fit(X_train, y_train)"
   ]
  },
  {
   "cell_type": "code",
   "execution_count": 135,
   "metadata": {},
   "outputs": [
    {
     "data": {
      "text/plain": [
       "array([0, 0, 0, ..., 0, 0, 0], dtype=int64)"
      ]
     },
     "execution_count": 135,
     "metadata": {},
     "output_type": "execute_result"
    }
   ],
   "source": [
    "logreg.predict(X_test)"
   ]
  },
  {
   "cell_type": "code",
   "execution_count": 136,
   "metadata": {},
   "outputs": [
    {
     "name": "stdout",
     "output_type": "stream",
     "text": [
      "confusion matrix = \n",
      " [[54336     9]\n",
      " [  499    14]]\n"
     ]
    }
   ],
   "source": [
    "#Predict for train set\n",
    "pred_train = logreg.predict(X_train)\n",
    "\n",
    "from sklearn.metrics import classification_report,confusion_matrix\n",
    "mat_train = confusion_matrix(y_train,pred_train)\n",
    "\n",
    "print(\"confusion matrix = \\n\",mat_train)"
   ]
  },
  {
   "cell_type": "code",
   "execution_count": 137,
   "metadata": {},
   "outputs": [
    {
     "name": "stdout",
     "output_type": "stream",
     "text": [
      "              precision    recall  f1-score   support\n",
      "\n",
      "           0       0.99      1.00      1.00     54345\n",
      "           1       0.61      0.03      0.05       513\n",
      "\n",
      "    accuracy                           0.99     54858\n",
      "   macro avg       0.80      0.51      0.52     54858\n",
      "weighted avg       0.99      0.99      0.99     54858\n",
      "\n"
     ]
    }
   ],
   "source": [
    "from sklearn.metrics import classification_report\n",
    "print(classification_report(y_train,pred_train))"
   ]
  },
  {
   "cell_type": "code",
   "execution_count": 138,
   "metadata": {},
   "outputs": [
    {
     "name": "stdout",
     "output_type": "stream",
     "text": [
      "confusion matrix = \n",
      " [[23289     6]\n",
      " [  209     7]]\n"
     ]
    }
   ],
   "source": [
    "#Predict for test set\n",
    "pred_test = logreg.predict(X_test)\n",
    "\n",
    "mat_test = confusion_matrix(y_test,pred_test)\n",
    "print(\"confusion matrix = \\n\",mat_test)"
   ]
  },
  {
   "cell_type": "code",
   "execution_count": 139,
   "metadata": {},
   "outputs": [
    {
     "name": "stdout",
     "output_type": "stream",
     "text": [
      "              precision    recall  f1-score   support\n",
      "\n",
      "           0       0.99      1.00      1.00     23295\n",
      "           1       0.54      0.03      0.06       216\n",
      "\n",
      "    accuracy                           0.99     23511\n",
      "   macro avg       0.76      0.52      0.53     23511\n",
      "weighted avg       0.99      0.99      0.99     23511\n",
      "\n"
     ]
    }
   ],
   "source": [
    "from sklearn.metrics import classification_report\n",
    "print(classification_report(y_test,pred_test))"
   ]
  },
  {
   "cell_type": "code",
   "execution_count": 140,
   "metadata": {},
   "outputs": [
    {
     "name": "stdout",
     "output_type": "stream",
     "text": [
      "0.9907397280250829\n"
     ]
    }
   ],
   "source": [
    "from sklearn.metrics import accuracy_score\n",
    "print(logreg.score(X_train,y_train))"
   ]
  },
  {
   "cell_type": "code",
   "execution_count": 141,
   "metadata": {},
   "outputs": [
    {
     "name": "stdout",
     "output_type": "stream",
     "text": [
      "0.9908553443069201\n"
     ]
    }
   ],
   "source": [
    "from sklearn.metrics import accuracy_score\n",
    "print(logreg.score(X_test,y_test))"
   ]
  },
  {
   "cell_type": "code",
   "execution_count": 142,
   "metadata": {},
   "outputs": [],
   "source": [
    "#Function to visulise confusion matrix\n",
    "def draw_cm( actual, predicted ):\n",
    "    cm = metrics.confusion_matrix( actual, predicted, [0,1] )\n",
    "    sns.heatmap(cm, annot=True,  fmt='.2f', xticklabels = [\"0\", \"1\"] , yticklabels = [\"0\", \"1\"] , cmap=\"Greens\")\n",
    "    plt.ylabel('True label')\n",
    "    plt.xlabel('Predicted label')\n",
    "    plt.show()"
   ]
  },
  {
   "cell_type": "code",
   "execution_count": 143,
   "metadata": {},
   "outputs": [
    {
     "data": {
      "image/png": "[encoded data removed]",
      "text/plain": [
       "<Figure size 432x288 with 2 Axes>"
      ]
     },
     "metadata": {
      "needs_background": "light"
     },
     "output_type": "display_data"
    }
   ],
   "source": [
    "draw_cm(y_test, pred_test)"
   ]
  },
  {
   "cell_type": "code",
   "execution_count": 144,
   "metadata": {},
   "outputs": [],
   "source": [
    "#Get predicted probabilites\n",
    "target_probailities_log = logreg.predict_proba(X_test)[:,1]"
   ]
  },
  {
   "cell_type": "code",
   "execution_count": 145,
   "metadata": {},
   "outputs": [],
   "source": [
    "#Create true and false positive rates\n",
    "log_false_positive_rate,log_true_positive_rate,log_threshold = roc_curve(y_test,\n",
    "                                                             target_probailities_log)"
   ]
  },
  {
   "cell_type": "code",
   "execution_count": 146,
   "metadata": {},
   "outputs": [
    {
     "data": {
      "image/png": "[encoded data removed]",
      "text/plain": [
       "<Figure size 720x432 with 1 Axes>"
      ]
     },
     "metadata": {},
     "output_type": "display_data"
    }
   ],
   "source": [
    "#Plot ROC Curve\n",
    "sns.set_style('whitegrid')\n",
    "plt.figure(figsize=(10,6))\n",
    "plt.title('Reciver Operating Characterstic Curve')\n",
    "plt.plot(log_false_positive_rate,log_true_positive_rate)\n",
    "plt.plot([0,1],ls='--')\n",
    "plt.plot([0,0],[1,0],c='.5')\n",
    "plt.plot([1,1],c='.5')\n",
    "plt.ylabel('True positive rate')\n",
    "plt.xlabel('False positive rate')\n",
    "plt.show()"
   ]
  },
  {
   "cell_type": "code",
   "execution_count": 147,
   "metadata": {},
   "outputs": [],
   "source": [
    "from sklearn.tree import DecisionTreeClassifier\n",
    "#Train test split\n",
    "from sklearn.model_selection import train_test_split\n",
    "seed = 7\n",
    "np.random.seed(seed)\n",
    "\n",
    "X_train, X_test, y_train, y_test = train_test_split(x, y, test_size=0.30, random_state = 123)"
   ]
  },
  {
   "cell_type": "code",
   "execution_count": 148,
   "metadata": {},
   "outputs": [
    {
     "data": {
      "text/plain": [
       "((54858, 41), (23511, 41))"
      ]
     },
     "execution_count": 148,
     "metadata": {},
     "output_type": "execute_result"
    }
   ],
   "source": [
    "X_train.shape,X_test.shape"
   ]
  },
  {
   "cell_type": "markdown",
   "metadata": {},
   "source": [
    "# Model1:- Criterion='gini"
   ]
  },
  {
   "cell_type": "code",
   "execution_count": 149,
   "metadata": {},
   "outputs": [],
   "source": [
    "model_gini=DecisionTreeClassifier()"
   ]
  },
  {
   "cell_type": "code",
   "execution_count": 150,
   "metadata": {},
   "outputs": [
    {
     "data": {
      "text/plain": [
       "DecisionTreeClassifier(class_weight=None, criterion='gini', max_depth=None,\n",
       "                       max_features=None, max_leaf_nodes=None,\n",
       "                       min_impurity_decrease=0.0, min_impurity_split=None,\n",
       "                       min_samples_leaf=1, min_samples_split=2,\n",
       "                       min_weight_fraction_leaf=0.0, presort=False,\n",
       "                       random_state=None, splitter='best')"
      ]
     },
     "execution_count": 150,
     "metadata": {},
     "output_type": "execute_result"
    }
   ],
   "source": [
    "model_gini.fit(X_train, y_train)"
   ]
  },
  {
   "cell_type": "code",
   "execution_count": 151,
   "metadata": {},
   "outputs": [],
   "source": [
    "preds_gini = model_gini.predict(X_test)"
   ]
  },
  {
   "cell_type": "code",
   "execution_count": 152,
   "metadata": {},
   "outputs": [],
   "source": [
    "pred_gini2 = model_gini.predict(X_train)"
   ]
  },
  {
   "cell_type": "code",
   "execution_count": 153,
   "metadata": {},
   "outputs": [
    {
     "name": "stdout",
     "output_type": "stream",
     "text": [
      "              precision    recall  f1-score   support\n",
      "\n",
      "           0       1.00      1.00      1.00     54359\n",
      "           1       1.00      1.00      1.00       499\n",
      "\n",
      "    accuracy                           1.00     54858\n",
      "   macro avg       1.00      1.00      1.00     54858\n",
      "weighted avg       1.00      1.00      1.00     54858\n",
      "\n"
     ]
    }
   ],
   "source": [
    "print(metrics.classification_report(y_train,pred_gini2))"
   ]
  },
  {
   "cell_type": "code",
   "execution_count": 154,
   "metadata": {},
   "outputs": [
    {
     "name": "stdout",
     "output_type": "stream",
     "text": [
      "0.9989979959919839\n"
     ]
    }
   ],
   "source": [
    "print(metrics.roc_auc_score(y_train,pred_gini2))"
   ]
  },
  {
   "cell_type": "code",
   "execution_count": 155,
   "metadata": {},
   "outputs": [
    {
     "name": "stdout",
     "output_type": "stream",
     "text": [
      "confusion matrix = \n",
      " [[23067   214]\n",
      " [  180    50]]\n"
     ]
    }
   ],
   "source": [
    "#Confusion matrix\n",
    "from sklearn.metrics import classification_report,confusion_matrix\n",
    "mat_gini = confusion_matrix(y_test,preds_gini)\n",
    "\n",
    "print(\"confusion matrix = \\n\",mat_gini)"
   ]
  },
  {
   "cell_type": "code",
   "execution_count": 156,
   "metadata": {},
   "outputs": [
    {
     "name": "stdout",
     "output_type": "stream",
     "text": [
      "0.9999817711181596\n"
     ]
    }
   ],
   "source": [
    "from sklearn.metrics import accuracy_score\n",
    "print(model_gini.score(X_train,y_train))"
   ]
  },
  {
   "cell_type": "code",
   "execution_count": 157,
   "metadata": {},
   "outputs": [
    {
     "name": "stdout",
     "output_type": "stream",
     "text": [
      "0.9832418867764026\n"
     ]
    }
   ],
   "source": [
    "from sklearn.metrics import accuracy_score\n",
    "print(model_gini.score(X_test,y_test))"
   ]
  },
  {
   "cell_type": "code",
   "execution_count": 158,
   "metadata": {},
   "outputs": [
    {
     "data": {
      "image/png": "[encoded data removed]",
      "text/plain": [
       "<Figure size 432x288 with 2 Axes>"
      ]
     },
     "metadata": {},
     "output_type": "display_data"
    }
   ],
   "source": [
    "def draw_cm( actual, predicted ):\n",
    "   cm = metrics.confusion_matrix( actual, predicted, [0,1] )\n",
    "   sns.heatmap(cm, annot=True,  fmt='.2f', xticklabels = [\"0\", \"1\"] , yticklabels = [\"0\", \"1\"] , cmap=\"Greens\")\n",
    "   plt.ylabel('True label')\n",
    "   plt.xlabel('Predicted label')\n",
    "plt.show()\n",
    "draw_cm(y_test, preds_gini)"
   ]
  },
  {
   "cell_type": "code",
   "execution_count": 159,
   "metadata": {},
   "outputs": [
    {
     "name": "stdout",
     "output_type": "stream",
     "text": [
      "0.9832418867764026\n",
      "0.21739130434782608\n"
     ]
    }
   ],
   "source": [
    "#Calculate accuracy\n",
    "from sklearn import metrics\n",
    "from sklearn.metrics import accuracy_score,f1_score,recall_score,precision_score, confusion_matrix\n",
    "%matplotlib inline\n",
    "print(accuracy_score(y_test,preds_gini))\n",
    "print(recall_score(y_test,preds_gini))"
   ]
  },
  {
   "cell_type": "code",
   "execution_count": 160,
   "metadata": {},
   "outputs": [
    {
     "name": "stdout",
     "output_type": "stream",
     "text": [
      "              precision    recall  f1-score   support\n",
      "\n",
      "           0       0.99      0.99      0.99     23281\n",
      "           1       0.19      0.22      0.20       230\n",
      "\n",
      "    accuracy                           0.98     23511\n",
      "   macro avg       0.59      0.60      0.60     23511\n",
      "weighted avg       0.98      0.98      0.98     23511\n",
      "\n"
     ]
    }
   ],
   "source": [
    "print(metrics.classification_report(y_test,preds_gini))"
   ]
  },
  {
   "cell_type": "code",
   "execution_count": 161,
   "metadata": {},
   "outputs": [
    {
     "data": {
      "image/png": "[encoded data removed]",
      "text/plain": [
       "<Figure size 720x432 with 1 Axes>"
      ]
     },
     "metadata": {},
     "output_type": "display_data"
    }
   ],
   "source": [
    "#Get predicted probabilites\n",
    "target_probailities_log = model_gini.predict_proba(X_test)[:,1]\n",
    "#Create true and false positive rates\n",
    "tree_false_positive_gini,tree_true_positive_gini,log_threshold = roc_curve(y_test,\n",
    "                                                             target_probailities_log)\n",
    "#Plot ROC Curve\n",
    "sns.set_style('whitegrid')\n",
    "plt.figure(figsize=(10,6))\n",
    "plt.title('Reciver Operating Characterstic Curve')\n",
    "plt.plot(tree_false_positive_gini,tree_true_positive_gini)\n",
    "plt.plot([0,1],ls='--')\n",
    "plt.plot([0,0],[1,0],c='.5')\n",
    "plt.plot([1,1],c='.5')\n",
    "plt.ylabel('True positive rate')\n",
    "plt.xlabel('False positive rate')\n",
    "plt.show()"
   ]
  },
  {
   "cell_type": "code",
   "execution_count": 162,
   "metadata": {},
   "outputs": [
    {
     "name": "stdout",
     "output_type": "stream",
     "text": [
      "0.6040996296662888\n"
     ]
    }
   ],
   "source": [
    "from sklearn.metrics import roc_auc_score\n",
    "print(roc_auc_score(y_test,preds_gini))"
   ]
  },
  {
   "cell_type": "code",
   "execution_count": 163,
   "metadata": {},
   "outputs": [
    {
     "name": "stdout",
     "output_type": "stream",
     "text": [
      "0.6040996296662888\n"
     ]
    }
   ],
   "source": [
    "from sklearn.metrics import roc_auc_score\n",
    "print(roc_auc_score(y_test,preds_gini))"
   ]
  },
  {
   "cell_type": "markdown",
   "metadata": {},
   "source": [
    "# Model2:- Criterion='Entropy'\n"
   ]
  },
  {
   "cell_type": "code",
   "execution_count": 164,
   "metadata": {},
   "outputs": [],
   "source": [
    "model_entropy=DecisionTreeClassifier(criterion='entropy')"
   ]
  },
  {
   "cell_type": "code",
   "execution_count": 165,
   "metadata": {},
   "outputs": [
    {
     "data": {
      "text/plain": [
       "DecisionTreeClassifier(class_weight=None, criterion='entropy', max_depth=None,\n",
       "                       max_features=None, max_leaf_nodes=None,\n",
       "                       min_impurity_decrease=0.0, min_impurity_split=None,\n",
       "                       min_samples_leaf=1, min_samples_split=2,\n",
       "                       min_weight_fraction_leaf=0.0, presort=False,\n",
       "                       random_state=None, splitter='best')"
      ]
     },
     "execution_count": 165,
     "metadata": {},
     "output_type": "execute_result"
    }
   ],
   "source": [
    "model_entropy.fit(X_train, y_train)"
   ]
  },
  {
   "cell_type": "code",
   "execution_count": 166,
   "metadata": {},
   "outputs": [],
   "source": [
    "preds_entropy = model_entropy.predict(X_test)\n",
    "preds_entropy_train = model_entropy.predict(X_train)"
   ]
  },
  {
   "cell_type": "code",
   "execution_count": 167,
   "metadata": {},
   "outputs": [
    {
     "name": "stdout",
     "output_type": "stream",
     "text": [
      "0.9999817711181596\n"
     ]
    }
   ],
   "source": [
    "from sklearn.metrics import accuracy_score\n",
    "print(model_entropy.score(X_train,y_train))"
   ]
  },
  {
   "cell_type": "code",
   "execution_count": 168,
   "metadata": {},
   "outputs": [
    {
     "name": "stdout",
     "output_type": "stream",
     "text": [
      "0.9837097528816299\n"
     ]
    }
   ],
   "source": [
    "from sklearn.metrics import accuracy_score\n",
    "print(model_entropy.score(X_test,y_test))"
   ]
  },
  {
   "cell_type": "code",
   "execution_count": 169,
   "metadata": {},
   "outputs": [
    {
     "name": "stdout",
     "output_type": "stream",
     "text": [
      "confusion matrix = \n",
      " [[23082   199]\n",
      " [  184    46]]\n"
     ]
    }
   ],
   "source": [
    "#Confusion matrix\n",
    "from sklearn.metrics import classification_report,confusion_matrix\n",
    "mat_gini = confusion_matrix(y_test,preds_entropy)\n",
    "\n",
    "print(\"confusion matrix = \\n\",mat_gini)"
   ]
  },
  {
   "cell_type": "code",
   "execution_count": 170,
   "metadata": {},
   "outputs": [
    {
     "data": {
      "image/png": "[encoded data removed]",
      "text/plain": [
       "<Figure size 432x288 with 2 Axes>"
      ]
     },
     "metadata": {},
     "output_type": "display_data"
    }
   ],
   "source": [
    "def draw_cm( actual, predicted ):\n",
    "   cm = metrics.confusion_matrix( actual, predicted, [0,1] )\n",
    "   sns.heatmap(cm, annot=True,  fmt='.2f', xticklabels = [\"0\", \"1\"] , yticklabels = [\"0\", \"1\"] , cmap=\"Greens\")\n",
    "   plt.ylabel('True label')\n",
    "   plt.xlabel('Predicted label')\n",
    "plt.show()\n",
    "draw_cm(y_test, preds_entropy)"
   ]
  },
  {
   "cell_type": "code",
   "execution_count": 171,
   "metadata": {},
   "outputs": [
    {
     "name": "stdout",
     "output_type": "stream",
     "text": [
      "0.9837097528816299\n",
      "0.9999817711181596\n"
     ]
    }
   ],
   "source": [
    "print(accuracy_score(y_test,preds_entropy))\n",
    "print(accuracy_score(y_train,preds_entropy_train))"
   ]
  },
  {
   "cell_type": "code",
   "execution_count": 172,
   "metadata": {},
   "outputs": [
    {
     "name": "stdout",
     "output_type": "stream",
     "text": [
      "              precision    recall  f1-score   support\n",
      "\n",
      "           0       0.99      0.99      0.99     23281\n",
      "           1       0.19      0.20      0.19       230\n",
      "\n",
      "    accuracy                           0.98     23511\n",
      "   macro avg       0.59      0.60      0.59     23511\n",
      "weighted avg       0.98      0.98      0.98     23511\n",
      "\n"
     ]
    }
   ],
   "source": [
    "print(metrics.classification_report(y_test,preds_entropy))"
   ]
  },
  {
   "cell_type": "code",
   "execution_count": 173,
   "metadata": {},
   "outputs": [
    {
     "data": {
      "image/png": "[encoded data removed]",
      "text/plain": [
       "<Figure size 720x432 with 1 Axes>"
      ]
     },
     "metadata": {},
     "output_type": "display_data"
    }
   ],
   "source": [
    "#Get predicted probabilites\n",
    "target_probailities_log = model_entropy.predict_proba(X_test)[:,1]\n",
    "#Create true and false positive rates\n",
    "tree_false_positive_entropy,tree_true_positive_entropy,log_threshold = roc_curve(y_test,\n",
    "                                                             target_probailities_log)\n",
    "#Plot ROC Curve\n",
    "sns.set_style('whitegrid')\n",
    "plt.figure(figsize=(10,6))\n",
    "plt.title('Reciver Operating Characterstic Curve')\n",
    "plt.plot(tree_false_positive_entropy,tree_true_positive_entropy)\n",
    "plt.plot([0,1],ls='--')\n",
    "plt.plot([0,0],[1,0],c='.5')\n",
    "plt.plot([1,1],c='.5')\n",
    "plt.ylabel('True positive rate')\n",
    "plt.xlabel('False positive rate')\n",
    "plt.show()"
   ]
  },
  {
   "cell_type": "code",
   "execution_count": 174,
   "metadata": {},
   "outputs": [
    {
     "name": "stdout",
     "output_type": "stream",
     "text": [
      "0.5957261286027232\n"
     ]
    }
   ],
   "source": [
    "from sklearn.metrics import roc_auc_score\n",
    "print(roc_auc_score(y_test,preds_entropy))"
   ]
  },
  {
   "cell_type": "code",
   "execution_count": 175,
   "metadata": {},
   "outputs": [
    {
     "name": "stdout",
     "output_type": "stream",
     "text": [
      "0.9989979959919839\n"
     ]
    }
   ],
   "source": [
    "print(roc_auc_score(y_train,preds_entropy_train))"
   ]
  },
  {
   "cell_type": "code",
   "execution_count": 176,
   "metadata": {},
   "outputs": [
    {
     "name": "stdout",
     "output_type": "stream",
     "text": [
      "              precision    recall  f1-score   support\n",
      "\n",
      "           0       1.00      1.00      1.00     54359\n",
      "           1       1.00      1.00      1.00       499\n",
      "\n",
      "    accuracy                           1.00     54858\n",
      "   macro avg       1.00      1.00      1.00     54858\n",
      "weighted avg       1.00      1.00      1.00     54858\n",
      "\n"
     ]
    }
   ],
   "source": [
    "print(classification_report(y_train,preds_entropy_train))"
   ]
  },
  {
   "cell_type": "markdown",
   "metadata": {},
   "source": [
    "# The tree is overgrown due to which there is overfitting - we will now prune the tree and re-evaluate the model.\n"
   ]
  },
  {
   "cell_type": "code",
   "execution_count": 177,
   "metadata": {},
   "outputs": [
    {
     "name": "stdout",
     "output_type": "stream",
     "text": [
      "confusion matrix = \n",
      " [[23263    18]\n",
      " [  214    16]]\n"
     ]
    }
   ],
   "source": [
    "clf_pruned = DecisionTreeClassifier(criterion = \"gini\", random_state = 100,\n",
    "                              max_depth=5, min_samples_leaf=5)\n",
    "clf_pruned.fit(X_train, y_train)\n",
    "preds_pruned = clf_pruned.predict(X_test)\n",
    "preds_pruned_train = clf_pruned.predict(X_train)\n",
    "from sklearn.metrics import classification_report,confusion_matrix\n",
    "mat_pruned = confusion_matrix(y_test,preds_pruned)\n",
    "\n",
    "print(\"confusion matrix = \\n\",mat_pruned)"
   ]
  },
  {
   "cell_type": "code",
   "execution_count": 178,
   "metadata": {},
   "outputs": [
    {
     "data": {
      "image/png": "[encoded data removed]",
      "text/plain": [
       "<Figure size 432x288 with 2 Axes>"
      ]
     },
     "metadata": {},
     "output_type": "display_data"
    }
   ],
   "source": [
    "def draw_cm( actual, predicted ):\n",
    "   cm = metrics.confusion_matrix( actual, predicted, [0,1] )\n",
    "   sns.heatmap(cm, annot=True,  fmt='.2f', xticklabels = [\"0\", \"1\"] , yticklabels = [\"0\", \"1\"] , cmap=\"Greens\")\n",
    "   plt.ylabel('True label')\n",
    "   plt.xlabel('Predicted label')\n",
    "plt.show()\n",
    "draw_cm(y_test, preds_pruned)"
   ]
  },
  {
   "cell_type": "code",
   "execution_count": 179,
   "metadata": {},
   "outputs": [
    {
     "name": "stdout",
     "output_type": "stream",
     "text": [
      "0.9901322785079325\n",
      "0.9909220168434868\n"
     ]
    }
   ],
   "source": [
    "print(accuracy_score(y_test,preds_pruned))\n",
    "print(accuracy_score(y_train,preds_pruned_train))"
   ]
  },
  {
   "cell_type": "code",
   "execution_count": 180,
   "metadata": {},
   "outputs": [
    {
     "name": "stdout",
     "output_type": "stream",
     "text": [
      "              precision    recall  f1-score   support\n",
      "\n",
      "           0       0.99      1.00      1.00     23281\n",
      "           1       0.47      0.07      0.12       230\n",
      "\n",
      "    accuracy                           0.99     23511\n",
      "   macro avg       0.73      0.53      0.56     23511\n",
      "weighted avg       0.99      0.99      0.99     23511\n",
      "\n"
     ]
    }
   ],
   "source": [
    "print(metrics.classification_report(y_test,preds_pruned))"
   ]
  },
  {
   "cell_type": "code",
   "execution_count": 181,
   "metadata": {},
   "outputs": [
    {
     "data": {
      "image/png": "[encoded data removed]",
      "text/plain": [
       "<Figure size 720x432 with 1 Axes>"
      ]
     },
     "metadata": {},
     "output_type": "display_data"
    }
   ],
   "source": [
    "#Get predicted probabilites\n",
    "target_probailities_log = clf_pruned.predict_proba(X_test)[:,1]\n",
    "#Create true and false positive rates\n",
    "tree_false_positive_pruned,tree_true_positive_pruned,log_threshold = roc_curve(y_test,\n",
    "                                                             target_probailities_log)\n",
    "#Plot ROC Curve\n",
    "sns.set_style('whitegrid')\n",
    "plt.figure(figsize=(10,6))\n",
    "plt.title('Reciver Operating Characterstic Curve')\n",
    "plt.plot(tree_false_positive_pruned,tree_true_positive_pruned)\n",
    "plt.plot([0,1],ls='--')\n",
    "plt.plot([0,0],[1,0],c='.5')\n",
    "plt.plot([1,1],c='.5')\n",
    "plt.ylabel('True positive rate')\n",
    "plt.xlabel('False positive rate')\n",
    "plt.show()"
   ]
  },
  {
   "cell_type": "code",
   "execution_count": 182,
   "metadata": {},
   "outputs": [
    {
     "name": "stdout",
     "output_type": "stream",
     "text": [
      "0.5343960273632352\n"
     ]
    }
   ],
   "source": [
    "from sklearn.metrics import roc_auc_score\n",
    "print(roc_auc_score(y_test,preds_pruned))"
   ]
  },
  {
   "cell_type": "code",
   "execution_count": 183,
   "metadata": {},
   "outputs": [
    {
     "name": "stdout",
     "output_type": "stream",
     "text": [
      "0.5357502104781686\n"
     ]
    }
   ],
   "source": [
    "from sklearn.metrics import roc_auc_score\n",
    "print(roc_auc_score(y_train,preds_pruned_train))"
   ]
  },
  {
   "cell_type": "code",
   "execution_count": 184,
   "metadata": {},
   "outputs": [
    {
     "name": "stdout",
     "output_type": "stream",
     "text": [
      "              precision    recall  f1-score   support\n",
      "\n",
      "           0       0.99      1.00      1.00     54359\n",
      "           1       0.51      0.07      0.13       499\n",
      "\n",
      "    accuracy                           0.99     54858\n",
      "   macro avg       0.75      0.54      0.56     54858\n",
      "weighted avg       0.99      0.99      0.99     54858\n",
      "\n"
     ]
    }
   ],
   "source": [
    "from sklearn.metrics import roc_auc_score\n",
    "print(classification_report(y_train,preds_pruned_train))"
   ]
  },
  {
   "cell_type": "code",
   "execution_count": 185,
   "metadata": {},
   "outputs": [
    {
     "name": "stdout",
     "output_type": "stream",
     "text": [
      "feat importance = [0.00000000e+00 0.00000000e+00 0.00000000e+00 0.00000000e+00\n",
      " 0.00000000e+00 1.02242393e-04 6.85192195e-04 0.00000000e+00\n",
      " 0.00000000e+00 2.17207852e-05 1.95588444e-04 8.47649661e-05\n",
      " 0.00000000e+00 0.00000000e+00 0.00000000e+00 7.17332491e-05\n",
      " 0.00000000e+00 0.00000000e+00 0.00000000e+00 3.30830244e-04\n",
      " 0.00000000e+00 6.32792718e-05 0.00000000e+00 0.00000000e+00\n",
      " 0.00000000e+00 0.00000000e+00 1.21551410e-05 5.21686811e-04\n",
      " 5.79324093e-06 0.00000000e+00 0.00000000e+00 0.00000000e+00\n",
      " 0.00000000e+00 0.00000000e+00 1.17754116e-06 2.24350456e-05\n",
      " 0.00000000e+00 2.25892245e-05 1.33242018e-05 4.68102089e-05\n",
      " 8.10966248e-05]\n"
     ]
    }
   ],
   "source": [
    "feat_importance = clf_pruned.tree_.compute_feature_importances(normalize=False)\n",
    "print(\"feat importance = \" + str(feat_importance))"
   ]
  },
  {
   "cell_type": "code",
   "execution_count": 186,
   "metadata": {},
   "outputs": [
    {
     "data": {
      "text/plain": [
       "Index(['coupon_id', 'customer_id', 'brand', 'brand_type', 'category', 'cd_sum',\n",
       "       'coupon-used_x', 'coupon_discount_x', 'item_counts', 'no_of_customers',\n",
       "       'od_sum', 'other_discount_x', 'price_sum', 'qu_sum', 'quantity_x',\n",
       "       'selling_price_x', 't_counts', 'total_discount_mean',\n",
       "       'total_discount_sum', 'campaign_type', 'campaign_duration', 'age_range',\n",
       "       'marital_status', 'rented', 'family_size', 'no_of_children',\n",
       "       'income_bracket', 'coupon-used_y', 'coupon_discount_y', 'day',\n",
       "       'no_of_items', 'month', 'other_discount_y', 'quantity_y',\n",
       "       'selling_price_y', 'weekday', 'cdd_sum', 'customer_id_count', 'odd_sum',\n",
       "       'qa_sum', 'pprice_sum'],\n",
       "      dtype='object')"
      ]
     },
     "execution_count": 186,
     "metadata": {},
     "output_type": "execute_result"
    }
   ],
   "source": [
    "train.columns"
   ]
  },
  {
   "cell_type": "code",
   "execution_count": 187,
   "metadata": {},
   "outputs": [
    {
     "data": {
      "text/html": [
       "<div>\n",
       "<style scoped>\n",
       "    .dataframe tbody tr th:only-of-type {\n",
       "        vertical-align: middle;\n",
       "    }\n",
       "\n",
       "    .dataframe tbody tr th {\n",
       "        vertical-align: top;\n",
       "    }\n",
       "\n",
       "    .dataframe thead th {\n",
       "        text-align: right;\n",
       "    }\n",
       "</style>\n",
       "<table border=\"1\" class=\"dataframe\">\n",
       "  <thead>\n",
       "    <tr style=\"text-align: right;\">\n",
       "      <th></th>\n",
       "      <th>0</th>\n",
       "    </tr>\n",
       "  </thead>\n",
       "  <tbody>\n",
       "    <tr>\n",
       "      <td>coupon-used_x</td>\n",
       "      <td>0.30</td>\n",
       "    </tr>\n",
       "    <tr>\n",
       "      <td>coupon-used_y</td>\n",
       "      <td>0.23</td>\n",
       "    </tr>\n",
       "    <tr>\n",
       "      <td>campaign_type</td>\n",
       "      <td>0.14</td>\n",
       "    </tr>\n",
       "    <tr>\n",
       "      <td>od_sum</td>\n",
       "      <td>0.09</td>\n",
       "    </tr>\n",
       "    <tr>\n",
       "      <td>cd_sum</td>\n",
       "      <td>0.04</td>\n",
       "    </tr>\n",
       "    <tr>\n",
       "      <td>other_discount_x</td>\n",
       "      <td>0.04</td>\n",
       "    </tr>\n",
       "    <tr>\n",
       "      <td>pprice_sum</td>\n",
       "      <td>0.04</td>\n",
       "    </tr>\n",
       "    <tr>\n",
       "      <td>selling_price_x</td>\n",
       "      <td>0.03</td>\n",
       "    </tr>\n",
       "    <tr>\n",
       "      <td>age_range</td>\n",
       "      <td>0.03</td>\n",
       "    </tr>\n",
       "    <tr>\n",
       "      <td>qa_sum</td>\n",
       "      <td>0.02</td>\n",
       "    </tr>\n",
       "    <tr>\n",
       "      <td>customer_id_count</td>\n",
       "      <td>0.01</td>\n",
       "    </tr>\n",
       "    <tr>\n",
       "      <td>weekday</td>\n",
       "      <td>0.01</td>\n",
       "    </tr>\n",
       "  </tbody>\n",
       "</table>\n",
       "</div>"
      ],
      "text/plain": [
       "                     0\n",
       "coupon-used_x     0.30\n",
       "coupon-used_y     0.23\n",
       "campaign_type     0.14\n",
       "od_sum            0.09\n",
       "cd_sum            0.04\n",
       "other_discount_x  0.04\n",
       "pprice_sum        0.04\n",
       "selling_price_x   0.03\n",
       "age_range         0.03\n",
       "qa_sum            0.02\n",
       "customer_id_count 0.01\n",
       "weekday           0.01"
      ]
     },
     "execution_count": 187,
     "metadata": {},
     "output_type": "execute_result"
    }
   ],
   "source": [
    "feature_cols = train.columns\n",
    "feat_imp_dict = dict(zip(feature_cols, clf_pruned.feature_importances_))\n",
    "feat_imp = pd.DataFrame.from_dict(feat_imp_dict, orient='index')\n",
    "feat_imp.sort_values(by=0, ascending=False).head(12)"
   ]
  },
  {
   "cell_type": "markdown",
   "metadata": {},
   "source": [
    "# RANDOM FOREST\n"
   ]
  },
  {
   "cell_type": "code",
   "execution_count": 188,
   "metadata": {},
   "outputs": [],
   "source": [
    "import matplotlib.pyplot as plt\n",
    "from sklearn.metrics import roc_curve, auc\n",
    "from sklearn.metrics import confusion_matrix\n",
    "from sklearn.metrics import classification_report\n",
    "from sklearn.model_selection import KFold, cross_val_score\n",
    "from sklearn.model_selection import train_test_split, GridSearchCV\n",
    "from sklearn.ensemble import RandomForestClassifier \n",
    "import warnings\n",
    "warnings.filterwarnings(\"ignore\")"
   ]
  },
  {
   "cell_type": "code",
   "execution_count": 189,
   "metadata": {},
   "outputs": [],
   "source": [
    "training_set, test_set, class_set, test_class_set = train_test_split(x,y,test_size = 0.20,random_state = 42)"
   ]
  },
  {
   "cell_type": "code",
   "execution_count": 190,
   "metadata": {},
   "outputs": [],
   "source": [
    "fit_rf = RandomForestClassifier(random_state=42)"
   ]
  },
  {
   "cell_type": "code",
   "execution_count": 191,
   "metadata": {},
   "outputs": [
    {
     "data": {
      "text/plain": [
       "RandomForestClassifier(bootstrap=True, class_weight=None, criterion='gini',\n",
       "                       max_depth=None, max_features='auto', max_leaf_nodes=None,\n",
       "                       min_impurity_decrease=0.0, min_impurity_split=None,\n",
       "                       min_samples_leaf=1, min_samples_split=2,\n",
       "                       min_weight_fraction_leaf=0.0, n_estimators=10,\n",
       "                       n_jobs=None, oob_score=False, random_state=42, verbose=0,\n",
       "                       warm_start=False)"
      ]
     },
     "execution_count": 191,
     "metadata": {},
     "output_type": "execute_result"
    }
   ],
   "source": [
    "fit_rf.fit(X_train,y_train)"
   ]
  },
  {
   "cell_type": "code",
   "execution_count": 192,
   "metadata": {},
   "outputs": [],
   "source": [
    "predictions = fit_rf.predict(X_test)"
   ]
  },
  {
   "cell_type": "code",
   "execution_count": 193,
   "metadata": {},
   "outputs": [],
   "source": [
    "predictions_train = fit_rf.predict(X_train)"
   ]
  },
  {
   "cell_type": "code",
   "execution_count": 194,
   "metadata": {},
   "outputs": [],
   "source": [
    "from sklearn.metrics import classification_report,confusion_matrix"
   ]
  },
  {
   "cell_type": "code",
   "execution_count": 195,
   "metadata": {},
   "outputs": [
    {
     "name": "stdout",
     "output_type": "stream",
     "text": [
      "              precision    recall  f1-score   support\n",
      "\n",
      "           0       0.99      1.00      1.00     23281\n",
      "           1       0.48      0.09      0.15       230\n",
      "\n",
      "    accuracy                           0.99     23511\n",
      "   macro avg       0.73      0.54      0.57     23511\n",
      "weighted avg       0.99      0.99      0.99     23511\n",
      "\n"
     ]
    }
   ],
   "source": [
    "print(classification_report(y_test,predictions)) "
   ]
  },
  {
   "cell_type": "code",
   "execution_count": 196,
   "metadata": {},
   "outputs": [
    {
     "name": "stdout",
     "output_type": "stream",
     "text": [
      "              precision    recall  f1-score   support\n",
      "\n",
      "           0       1.00      1.00      1.00     54359\n",
      "           1       1.00      0.82      0.90       499\n",
      "\n",
      "    accuracy                           1.00     54858\n",
      "   macro avg       1.00      0.91      0.95     54858\n",
      "weighted avg       1.00      1.00      1.00     54858\n",
      "\n"
     ]
    }
   ],
   "source": [
    "print(classification_report(y_train,predictions_train)) \n"
   ]
  },
  {
   "cell_type": "code",
   "execution_count": 197,
   "metadata": {},
   "outputs": [
    {
     "name": "stdout",
     "output_type": "stream",
     "text": [
      "0.9108124451777044\n"
     ]
    }
   ],
   "source": [
    "print(roc_auc_score(y_train,predictions_train)) "
   ]
  },
  {
   "cell_type": "code",
   "execution_count": 198,
   "metadata": {},
   "outputs": [
    {
     "name": "stdout",
     "output_type": "stream",
     "text": [
      "[[23259    22]\n",
      " [  210    20]]\n"
     ]
    }
   ],
   "source": [
    "print(confusion_matrix(y_test,predictions))"
   ]
  },
  {
   "cell_type": "code",
   "execution_count": 199,
   "metadata": {},
   "outputs": [
    {
     "name": "stdout",
     "output_type": "stream",
     "text": [
      "0.9901322785079325\n"
     ]
    }
   ],
   "source": [
    "from sklearn.metrics import accuracy_score\n",
    "print(accuracy_score(y_test,predictions))"
   ]
  },
  {
   "cell_type": "code",
   "execution_count": 200,
   "metadata": {},
   "outputs": [
    {
     "data": {
      "image/png": "[encoded data removed]",
      "text/plain": [
       "<Figure size 720x432 with 1 Axes>"
      ]
     },
     "metadata": {},
     "output_type": "display_data"
    }
   ],
   "source": [
    "#Get predicted probabilites\n",
    "target_probailities_log = clf_pruned.predict_proba(X_test)[:,1]\n",
    "#Create true and false positive rates\n",
    "tree_false_positive_RF,tree_true_positive_RF,log_threshold = roc_curve(y_test,\n",
    "                                                             target_probailities_log)\n",
    "#Plot ROC Curve\n",
    "sns.set_style('whitegrid')\n",
    "plt.figure(figsize=(10,6))\n",
    "plt.title('Reciver Operating Characterstic Curve')\n",
    "plt.plot(tree_false_positive_RF,tree_true_positive_RF)\n",
    "plt.plot([0,1],ls='--')\n",
    "plt.plot([0,0],[1,0],c='.5')\n",
    "plt.plot([1,1],c='.5')\n",
    "plt.ylabel('True positive rate')\n",
    "plt.xlabel('False positive rate')\n",
    "plt.show()"
   ]
  },
  {
   "cell_type": "code",
   "execution_count": 201,
   "metadata": {},
   "outputs": [
    {
     "name": "stdout",
     "output_type": "stream",
     "text": [
      "0.5430057725743889\n"
     ]
    }
   ],
   "source": [
    "from sklearn.metrics import roc_auc_score\n",
    "print(roc_auc_score(y_test,predictions))"
   ]
  },
  {
   "cell_type": "code",
   "execution_count": 202,
   "metadata": {},
   "outputs": [],
   "source": [
    "#Function to visulise confusion matrix\n",
    "def draw_cm( actual, predicted ):\n",
    "    cm = metrics.confusion_matrix( actual, predicted, [0,1] )\n",
    "    sns.heatmap(cm, annot=True,  fmt='.2f', xticklabels = [\"0\", \"1\"] , yticklabels = [\"0\", \"1\"] , cmap=\"Greens\")\n",
    "    plt.ylabel('True label')\n",
    "    plt.xlabel('Predicted label')\n",
    "plt.show()"
   ]
  },
  {
   "cell_type": "code",
   "execution_count": 203,
   "metadata": {},
   "outputs": [
    {
     "data": {
      "image/png": "[encoded data removed]",
      "text/plain": [
       "<Figure size 432x288 with 2 Axes>"
      ]
     },
     "metadata": {},
     "output_type": "display_data"
    }
   ],
   "source": [
    "draw_cm(y_test, predictions)"
   ]
  },
  {
   "cell_type": "code",
   "execution_count": 204,
   "metadata": {},
   "outputs": [
    {
     "name": "stdout",
     "output_type": "stream",
     "text": [
      "Parameters currently in use:\n",
      "\n",
      "{'bootstrap': True,\n",
      " 'criterion': 'mse',\n",
      " 'max_depth': None,\n",
      " 'max_features': 'auto',\n",
      " 'max_leaf_nodes': None,\n",
      " 'min_impurity_decrease': 0.0,\n",
      " 'min_impurity_split': None,\n",
      " 'min_samples_leaf': 1,\n",
      " 'min_samples_split': 2,\n",
      " 'min_weight_fraction_leaf': 0.0,\n",
      " 'n_estimators': 'warn',\n",
      " 'n_jobs': None,\n",
      " 'oob_score': False,\n",
      " 'random_state': 42,\n",
      " 'verbose': 0,\n",
      " 'warm_start': False}\n"
     ]
    }
   ],
   "source": [
    "from sklearn.ensemble import RandomForestRegressor\n",
    "rf = RandomForestRegressor(random_state = 42)\n",
    "from pprint import pprint\n",
    "# Look at parameters used by our current forest\n",
    "print('Parameters currently in use:\\n')\n",
    "pprint(rf.get_params())"
   ]
  },
  {
   "cell_type": "code",
   "execution_count": 205,
   "metadata": {},
   "outputs": [
    {
     "name": "stdout",
     "output_type": "stream",
     "text": [
      "{'n_estimators': [200, 400, 600, 800, 1000, 1200, 1400, 1600, 1800, 2000], 'max_features': ['auto', 'sqrt'], 'max_depth': [10, 20, 30, 40, 50, 60, 70, 80, 90, 100, 110, None], 'min_samples_split': [2, 5, 10], 'min_samples_leaf': [1, 2, 4], 'bootstrap': [True, False]}\n"
     ]
    }
   ],
   "source": [
    "from sklearn.model_selection import RandomizedSearchCV\n",
    "# Number of trees in random forest\n",
    "n_estimators = [int(x) for x in np.linspace(start = 200, stop = 2000, num = 10)]\n",
    "# Number of features to consider at every split\n",
    "max_features = ['auto', 'sqrt']\n",
    "# Maximum number of levels in tree\n",
    "max_depth = [int(x) for x in np.linspace(10, 110, num = 11)]\n",
    "max_depth.append(None)\n",
    "# Minimum number of samples required to split a node\n",
    "min_samples_split = [2, 5, 10]\n",
    "# Minimum number of samples required at each leaf node\n",
    "min_samples_leaf = [1, 2, 4]\n",
    "# Method of selecting samples for training each tree\n",
    "bootstrap = [True, False]\n",
    "# Create the random grid\n",
    "random_grid = {'n_estimators': n_estimators,\n",
    "               'max_features': max_features,\n",
    "               'max_depth': max_depth,\n",
    "               'min_samples_split': min_samples_split,\n",
    "               'min_samples_leaf': min_samples_leaf,\n",
    "               'bootstrap': bootstrap}\n",
    "print(random_grid)"
   ]
  },
  {
   "cell_type": "markdown",
   "metadata": {},
   "source": [
    "# KNN"
   ]
  },
  {
   "cell_type": "code",
   "execution_count": 206,
   "metadata": {},
   "outputs": [],
   "source": [
    "from sklearn.neighbors import KNeighborsClassifier\n",
    "knn = KNeighborsClassifier(n_neighbors=3,p=2)\n",
    "knn = KNeighborsClassifier()"
   ]
  },
  {
   "cell_type": "code",
   "execution_count": 207,
   "metadata": {},
   "outputs": [],
   "source": [
    "knn.fit(X_train, y_train)\n",
    "train_pred_sm = knn.predict(X_train)\n",
    "test_pred_sm = knn.predict(X_test)"
   ]
  },
  {
   "cell_type": "code",
   "execution_count": 208,
   "metadata": {},
   "outputs": [],
   "source": [
    "Model.append('KNN_KB')\n",
    "Accuracy.append(accuracy_score(y_test,test_pred_sm))\n",
    "F1Score.append(f1_score(y_test,test_pred_sm))\n"
   ]
  },
  {
   "cell_type": "code",
   "execution_count": 209,
   "metadata": {},
   "outputs": [
    {
     "name": "stdout",
     "output_type": "stream",
     "text": [
      "0.9899621453787589\n",
      "0.9909584746071676\n"
     ]
    }
   ],
   "source": [
    "print(accuracy_score(y_test,test_pred_sm))\n",
    "print(accuracy_score(y_train,train_pred_sm))\n"
   ]
  },
  {
   "cell_type": "code",
   "execution_count": 210,
   "metadata": {},
   "outputs": [
    {
     "name": "stdout",
     "output_type": "stream",
     "text": [
      "              precision    recall  f1-score   support\n",
      "\n",
      "           0       0.99      1.00      0.99     23281\n",
      "           1       0.00      0.00      0.00       230\n",
      "\n",
      "    accuracy                           0.99     23511\n",
      "   macro avg       0.50      0.50      0.50     23511\n",
      "weighted avg       0.98      0.99      0.99     23511\n",
      "\n"
     ]
    }
   ],
   "source": [
    "print(classification_report(y_test,test_pred_sm))"
   ]
  },
  {
   "cell_type": "markdown",
   "metadata": {},
   "source": [
    "# Naive Bayes"
   ]
  },
  {
   "cell_type": "code",
   "execution_count": 211,
   "metadata": {},
   "outputs": [],
   "source": [
    "from sklearn.naive_bayes import GaussianNB\n",
    "\n",
    "nb = GaussianNB()\n",
    "nb.fit(X_train,y_train)\n",
    "y_pred_nb = nb.predict(X_test)"
   ]
  },
  {
   "cell_type": "code",
   "execution_count": 212,
   "metadata": {},
   "outputs": [
    {
     "name": "stdout",
     "output_type": "stream",
     "text": [
      "              precision    recall  f1-score   support\n",
      "\n",
      "           0       0.99      0.96      0.98     23281\n",
      "           1       0.08      0.33      0.13       230\n",
      "\n",
      "    accuracy                           0.96     23511\n",
      "   macro avg       0.54      0.65      0.56     23511\n",
      "weighted avg       0.98      0.96      0.97     23511\n",
      "\n"
     ]
    }
   ],
   "source": [
    "print(classification_report(y_test,y_pred_nb))"
   ]
  },
  {
   "cell_type": "code",
   "execution_count": 213,
   "metadata": {},
   "outputs": [
    {
     "data": {
      "text/plain": [
       "0.6453681206731372"
      ]
     },
     "execution_count": 213,
     "metadata": {},
     "output_type": "execute_result"
    }
   ],
   "source": [
    "roc_auc_score(y_test,y_pred_nb)"
   ]
  },
  {
   "cell_type": "code",
   "execution_count": 214,
   "metadata": {},
   "outputs": [],
   "source": [
    "Model.append('Naive Bayes')\n"
   ]
  },
  {
   "cell_type": "code",
   "execution_count": 215,
   "metadata": {},
   "outputs": [
    {
     "data": {
      "text/plain": [
       "[<matplotlib.lines.Line2D at 0x188a4633d88>]"
      ]
     },
     "execution_count": 215,
     "metadata": {},
     "output_type": "execute_result"
    },
    {
     "data": {
      "image/png": "[encoded data removed]",
      "text/plain": [
       "<Figure size 432x288 with 1 Axes>"
      ]
     },
     "metadata": {},
     "output_type": "display_data"
    }
   ],
   "source": [
    "nb_fpr, nb_tpr, nb_thresholds = roc_curve(y_test, nb.predict_proba(X_test)[:,1])\n",
    "plt.plot(nb_fpr, nb_tpr, label='NB')"
   ]
  },
  {
   "cell_type": "code",
   "execution_count": 216,
   "metadata": {},
   "outputs": [
    {
     "data": {
      "image/png": "[encoded data removed]",
      "text/plain": [
       "<Figure size 720x432 with 1 Axes>"
      ]
     },
     "metadata": {},
     "output_type": "display_data"
    }
   ],
   "source": [
    "#Plot ROC Curve\n",
    "sns.set_style('whitegrid')\n",
    "plt.figure(figsize=(10,6))\n",
    "plt.title('Reciver Operating Characterstic Curve')\n",
    "plt.plot(log_false_positive_rate,log_true_positive_rate,label='Logistic Regression')\n",
    "plt.plot(tree_false_positive_gini,tree_true_positive_gini,label='Decision Tree-Gini')\n",
    "plt.plot(tree_false_positive_entropy,tree_true_positive_entropy,label='Decision Tree-Entropy')\n",
    "plt.plot(tree_false_positive_pruned,tree_true_positive_pruned,label='Pruned')\n",
    "plt.plot(tree_false_positive_RF,tree_true_positive_RF,label='Random Forest')\n",
    "knn_fpr, knn_tpr, knn_thresholds = roc_curve(y_test, knn.predict_proba(X_test)[:,1])\n",
    "plt.plot(knn_fpr, knn_tpr, label='KNN')\n",
    "plt.plot(nb_fpr, nb_tpr, label='NB')\n",
    "plt.plot([0,1],ls='--')\n",
    "plt.plot([0,0],[1,0],c='.5')\n",
    "plt.plot([1,1],c='.5')\n",
    "plt.ylabel('True positive rate')\n",
    "plt.xlabel('False positive rate')\n",
    "plt.legend()\n",
    "plt.show()"
   ]
  },
  {
   "cell_type": "markdown",
   "metadata": {},
   "source": [
    "-KNN overfits the model so the best MODEL upto here is RANDOM FOREST"
   ]
  },
  {
   "cell_type": "markdown",
   "metadata": {},
   "source": [
    "# FOCUSING MAINLY ON FEATURE IMPORTANCE AND USING ADVANCE MODELS"
   ]
  },
  {
   "cell_type": "code",
   "execution_count": 217,
   "metadata": {},
   "outputs": [
    {
     "name": "stdout",
     "output_type": "stream",
     "text": [
      "(78369, 5) (92663, 2) (28, 4) (1324566, 7) (760, 7) (74066, 4)\n"
     ]
    }
   ],
   "source": [
    "train=pd.read_csv('train.csv')\n",
    "coup_item=pd.read_csv('coupon_item_mapping.csv')\n",
    "comp=pd.read_csv('campaign_data.csv')\n",
    "tran=pd.read_csv('customer_transaction_data.csv')\n",
    "demo=pd.read_csv('customer_demographics.csv')  \n",
    "item=pd.read_csv('item_data.csv')\n",
    "print(train.shape,coup_item.shape,comp.shape,tran.shape,demo.shape,item.shape)"
   ]
  },
  {
   "cell_type": "code",
   "execution_count": 218,
   "metadata": {},
   "outputs": [
    {
     "data": {
      "text/html": [
       "<div>\n",
       "<style scoped>\n",
       "    .dataframe tbody tr th:only-of-type {\n",
       "        vertical-align: middle;\n",
       "    }\n",
       "\n",
       "    .dataframe tbody tr th {\n",
       "        vertical-align: top;\n",
       "    }\n",
       "\n",
       "    .dataframe thead th {\n",
       "        text-align: right;\n",
       "    }\n",
       "</style>\n",
       "<table border=\"1\" class=\"dataframe\">\n",
       "  <thead>\n",
       "    <tr style=\"text-align: right;\">\n",
       "      <th></th>\n",
       "      <th>id</th>\n",
       "      <th>campaign_id</th>\n",
       "      <th>coupon_id</th>\n",
       "      <th>customer_id</th>\n",
       "      <th>redemption_status</th>\n",
       "    </tr>\n",
       "  </thead>\n",
       "  <tbody>\n",
       "    <tr>\n",
       "      <td>0</td>\n",
       "      <td>1</td>\n",
       "      <td>13</td>\n",
       "      <td>27</td>\n",
       "      <td>1053</td>\n",
       "      <td>0</td>\n",
       "    </tr>\n",
       "    <tr>\n",
       "      <td>1</td>\n",
       "      <td>2</td>\n",
       "      <td>13</td>\n",
       "      <td>116</td>\n",
       "      <td>48</td>\n",
       "      <td>0</td>\n",
       "    </tr>\n",
       "    <tr>\n",
       "      <td>2</td>\n",
       "      <td>6</td>\n",
       "      <td>9</td>\n",
       "      <td>635</td>\n",
       "      <td>205</td>\n",
       "      <td>0</td>\n",
       "    </tr>\n",
       "    <tr>\n",
       "      <td>3</td>\n",
       "      <td>7</td>\n",
       "      <td>13</td>\n",
       "      <td>644</td>\n",
       "      <td>1050</td>\n",
       "      <td>0</td>\n",
       "    </tr>\n",
       "    <tr>\n",
       "      <td>4</td>\n",
       "      <td>9</td>\n",
       "      <td>8</td>\n",
       "      <td>1017</td>\n",
       "      <td>1489</td>\n",
       "      <td>0</td>\n",
       "    </tr>\n",
       "  </tbody>\n",
       "</table>\n",
       "</div>"
      ],
      "text/plain": [
       "   id  campaign_id  coupon_id  customer_id  redemption_status\n",
       "0   1           13         27         1053                  0\n",
       "1   2           13        116           48                  0\n",
       "2   6            9        635          205                  0\n",
       "3   7           13        644         1050                  0\n",
       "4   9            8       1017         1489                  0"
      ]
     },
     "execution_count": 218,
     "metadata": {},
     "output_type": "execute_result"
    }
   ],
   "source": [
    "train.head()"
   ]
  },
  {
   "cell_type": "code",
   "execution_count": 219,
   "metadata": {},
   "outputs": [
    {
     "name": "stdout",
     "output_type": "stream",
     "text": [
      "(78369, 5)\n"
     ]
    },
    {
     "data": {
      "text/plain": [
       "0    77640\n",
       "1      729\n",
       "Name: redemption_status, dtype: int64"
      ]
     },
     "execution_count": 219,
     "metadata": {},
     "output_type": "execute_result"
    }
   ],
   "source": [
    "print(train.shape)\n",
    "train.redemption_status.value_counts()"
   ]
  },
  {
   "cell_type": "code",
   "execution_count": 220,
   "metadata": {},
   "outputs": [
    {
     "name": "stdout",
     "output_type": "stream",
     "text": [
      "(28, 4)\n"
     ]
    },
    {
     "data": {
      "text/html": [
       "<div>\n",
       "<style scoped>\n",
       "    .dataframe tbody tr th:only-of-type {\n",
       "        vertical-align: middle;\n",
       "    }\n",
       "\n",
       "    .dataframe tbody tr th {\n",
       "        vertical-align: top;\n",
       "    }\n",
       "\n",
       "    .dataframe thead th {\n",
       "        text-align: right;\n",
       "    }\n",
       "</style>\n",
       "<table border=\"1\" class=\"dataframe\">\n",
       "  <thead>\n",
       "    <tr style=\"text-align: right;\">\n",
       "      <th></th>\n",
       "      <th>campaign_id</th>\n",
       "      <th>campaign_type</th>\n",
       "      <th>start_date</th>\n",
       "      <th>end_date</th>\n",
       "    </tr>\n",
       "  </thead>\n",
       "  <tbody>\n",
       "    <tr>\n",
       "      <td>0</td>\n",
       "      <td>24</td>\n",
       "      <td>Y</td>\n",
       "      <td>21/10/13</td>\n",
       "      <td>20/12/13</td>\n",
       "    </tr>\n",
       "    <tr>\n",
       "      <td>1</td>\n",
       "      <td>25</td>\n",
       "      <td>Y</td>\n",
       "      <td>21/10/13</td>\n",
       "      <td>22/11/13</td>\n",
       "    </tr>\n",
       "    <tr>\n",
       "      <td>2</td>\n",
       "      <td>20</td>\n",
       "      <td>Y</td>\n",
       "      <td>07/09/13</td>\n",
       "      <td>16/11/13</td>\n",
       "    </tr>\n",
       "    <tr>\n",
       "      <td>3</td>\n",
       "      <td>23</td>\n",
       "      <td>Y</td>\n",
       "      <td>08/10/13</td>\n",
       "      <td>15/11/13</td>\n",
       "    </tr>\n",
       "    <tr>\n",
       "      <td>4</td>\n",
       "      <td>21</td>\n",
       "      <td>Y</td>\n",
       "      <td>16/09/13</td>\n",
       "      <td>18/10/13</td>\n",
       "    </tr>\n",
       "  </tbody>\n",
       "</table>\n",
       "</div>"
      ],
      "text/plain": [
       "   campaign_id campaign_type start_date  end_date\n",
       "0           24             Y   21/10/13  20/12/13\n",
       "1           25             Y   21/10/13  22/11/13\n",
       "2           20             Y   07/09/13  16/11/13\n",
       "3           23             Y   08/10/13  15/11/13\n",
       "4           21             Y   16/09/13  18/10/13"
      ]
     },
     "execution_count": 220,
     "metadata": {},
     "output_type": "execute_result"
    }
   ],
   "source": [
    "print(comp.shape)\n",
    "comp.head()"
   ]
  },
  {
   "cell_type": "markdown",
   "metadata": {},
   "source": [
    "# Campaign Data - Feat Engg\n"
   ]
  },
  {
   "cell_type": "code",
   "execution_count": 221,
   "metadata": {},
   "outputs": [],
   "source": [
    "comp['start_date']=pd.to_datetime(comp['start_date'],format='%d/%m/%y',dayfirst=True)\n",
    "comp['end_date']=pd.to_datetime(comp['end_date'],format='%d/%m/%y',dayfirst=True)\n",
    "\n",
    "comp['diff_d']=(comp['end_date']-comp['start_date'])/np.timedelta64(1,'D')\n",
    "comp['diff_m']=(comp['end_date']-comp['start_date'])/np.timedelta64(1,'M')\n",
    "comp['diff_w']=(comp['end_date']-comp['start_date'])/np.timedelta64(1,'W')\n",
    "\n",
    "# comp.drop(['start_date','end_date'],axis=1,inplace=True)"
   ]
  },
  {
   "cell_type": "code",
   "execution_count": 222,
   "metadata": {},
   "outputs": [
    {
     "data": {
      "text/html": [
       "<div>\n",
       "<style scoped>\n",
       "    .dataframe tbody tr th:only-of-type {\n",
       "        vertical-align: middle;\n",
       "    }\n",
       "\n",
       "    .dataframe tbody tr th {\n",
       "        vertical-align: top;\n",
       "    }\n",
       "\n",
       "    .dataframe thead th {\n",
       "        text-align: right;\n",
       "    }\n",
       "</style>\n",
       "<table border=\"1\" class=\"dataframe\">\n",
       "  <thead>\n",
       "    <tr style=\"text-align: right;\">\n",
       "      <th></th>\n",
       "      <th>count</th>\n",
       "      <th>unique</th>\n",
       "      <th>top</th>\n",
       "      <th>freq</th>\n",
       "      <th>first</th>\n",
       "      <th>last</th>\n",
       "      <th>mean</th>\n",
       "      <th>std</th>\n",
       "      <th>min</th>\n",
       "      <th>25%</th>\n",
       "      <th>50%</th>\n",
       "      <th>75%</th>\n",
       "      <th>max</th>\n",
       "    </tr>\n",
       "  </thead>\n",
       "  <tbody>\n",
       "    <tr>\n",
       "      <td>campaign_id</td>\n",
       "      <td>28.00</td>\n",
       "      <td>NaN</td>\n",
       "      <td>NaN</td>\n",
       "      <td>NaN</td>\n",
       "      <td>NaT</td>\n",
       "      <td>NaT</td>\n",
       "      <td>15.57</td>\n",
       "      <td>9.12</td>\n",
       "      <td>1.00</td>\n",
       "      <td>7.75</td>\n",
       "      <td>16.50</td>\n",
       "      <td>23.25</td>\n",
       "      <td>30.00</td>\n",
       "    </tr>\n",
       "    <tr>\n",
       "      <td>campaign_type</td>\n",
       "      <td>28</td>\n",
       "      <td>2</td>\n",
       "      <td>Y</td>\n",
       "      <td>22</td>\n",
       "      <td>NaT</td>\n",
       "      <td>NaT</td>\n",
       "      <td>NaN</td>\n",
       "      <td>NaN</td>\n",
       "      <td>NaN</td>\n",
       "      <td>NaN</td>\n",
       "      <td>NaN</td>\n",
       "      <td>NaN</td>\n",
       "      <td>NaN</td>\n",
       "    </tr>\n",
       "    <tr>\n",
       "      <td>start_date</td>\n",
       "      <td>28</td>\n",
       "      <td>25</td>\n",
       "      <td>2013-04-22 00:00:00</td>\n",
       "      <td>2</td>\n",
       "      <td>2012-08-12</td>\n",
       "      <td>2013-10-21</td>\n",
       "      <td>NaN</td>\n",
       "      <td>NaN</td>\n",
       "      <td>NaN</td>\n",
       "      <td>NaN</td>\n",
       "      <td>NaN</td>\n",
       "      <td>NaN</td>\n",
       "      <td>NaN</td>\n",
       "    </tr>\n",
       "    <tr>\n",
       "      <td>end_date</td>\n",
       "      <td>28</td>\n",
       "      <td>26</td>\n",
       "      <td>2013-10-18 00:00:00</td>\n",
       "      <td>2</td>\n",
       "      <td>2012-09-21</td>\n",
       "      <td>2013-12-20</td>\n",
       "      <td>NaN</td>\n",
       "      <td>NaN</td>\n",
       "      <td>NaN</td>\n",
       "      <td>NaN</td>\n",
       "      <td>NaN</td>\n",
       "      <td>NaN</td>\n",
       "      <td>NaN</td>\n",
       "    </tr>\n",
       "    <tr>\n",
       "      <td>diff_d</td>\n",
       "      <td>28.00</td>\n",
       "      <td>NaN</td>\n",
       "      <td>NaN</td>\n",
       "      <td>NaN</td>\n",
       "      <td>NaT</td>\n",
       "      <td>NaT</td>\n",
       "      <td>41.86</td>\n",
       "      <td>11.96</td>\n",
       "      <td>32.00</td>\n",
       "      <td>32.00</td>\n",
       "      <td>35.50</td>\n",
       "      <td>49.25</td>\n",
       "      <td>70.00</td>\n",
       "    </tr>\n",
       "    <tr>\n",
       "      <td>diff_m</td>\n",
       "      <td>28.00</td>\n",
       "      <td>NaN</td>\n",
       "      <td>NaN</td>\n",
       "      <td>NaN</td>\n",
       "      <td>NaT</td>\n",
       "      <td>NaT</td>\n",
       "      <td>1.38</td>\n",
       "      <td>0.39</td>\n",
       "      <td>1.05</td>\n",
       "      <td>1.05</td>\n",
       "      <td>1.17</td>\n",
       "      <td>1.62</td>\n",
       "      <td>2.30</td>\n",
       "    </tr>\n",
       "    <tr>\n",
       "      <td>diff_w</td>\n",
       "      <td>28.00</td>\n",
       "      <td>NaN</td>\n",
       "      <td>NaN</td>\n",
       "      <td>NaN</td>\n",
       "      <td>NaT</td>\n",
       "      <td>NaT</td>\n",
       "      <td>5.98</td>\n",
       "      <td>1.71</td>\n",
       "      <td>4.57</td>\n",
       "      <td>4.57</td>\n",
       "      <td>5.07</td>\n",
       "      <td>7.04</td>\n",
       "      <td>10.00</td>\n",
       "    </tr>\n",
       "  </tbody>\n",
       "</table>\n",
       "</div>"
      ],
      "text/plain": [
       "              count unique                  top freq      first       last  \\\n",
       "campaign_id   28.00    NaN                  NaN  NaN        NaT        NaT   \n",
       "campaign_type    28      2                    Y   22        NaT        NaT   \n",
       "start_date       28     25  2013-04-22 00:00:00    2 2012-08-12 2013-10-21   \n",
       "end_date         28     26  2013-10-18 00:00:00    2 2012-09-21 2013-12-20   \n",
       "diff_d        28.00    NaN                  NaN  NaN        NaT        NaT   \n",
       "diff_m        28.00    NaN                  NaN  NaN        NaT        NaT   \n",
       "diff_w        28.00    NaN                  NaN  NaN        NaT        NaT   \n",
       "\n",
       "               mean   std   min   25%   50%   75%   max  \n",
       "campaign_id   15.57  9.12  1.00  7.75 16.50 23.25 30.00  \n",
       "campaign_type   NaN   NaN   NaN   NaN   NaN   NaN   NaN  \n",
       "start_date      NaN   NaN   NaN   NaN   NaN   NaN   NaN  \n",
       "end_date        NaN   NaN   NaN   NaN   NaN   NaN   NaN  \n",
       "diff_d        41.86 11.96 32.00 32.00 35.50 49.25 70.00  \n",
       "diff_m         1.38  0.39  1.05  1.05  1.17  1.62  2.30  \n",
       "diff_w         5.98  1.71  4.57  4.57  5.07  7.04 10.00  "
      ]
     },
     "execution_count": 222,
     "metadata": {},
     "output_type": "execute_result"
    }
   ],
   "source": [
    "comp.describe(include='all').T"
   ]
  },
  {
   "cell_type": "code",
   "execution_count": 223,
   "metadata": {},
   "outputs": [
    {
     "data": {
      "text/html": [
       "<div>\n",
       "<style scoped>\n",
       "    .dataframe tbody tr th:only-of-type {\n",
       "        vertical-align: middle;\n",
       "    }\n",
       "\n",
       "    .dataframe tbody tr th {\n",
       "        vertical-align: top;\n",
       "    }\n",
       "\n",
       "    .dataframe thead th {\n",
       "        text-align: right;\n",
       "    }\n",
       "</style>\n",
       "<table border=\"1\" class=\"dataframe\">\n",
       "  <thead>\n",
       "    <tr style=\"text-align: right;\">\n",
       "      <th></th>\n",
       "      <th>id</th>\n",
       "      <th>campaign_id</th>\n",
       "      <th>coupon_id</th>\n",
       "      <th>customer_id</th>\n",
       "      <th>redemption_status</th>\n",
       "      <th>campaign_type</th>\n",
       "      <th>start_date</th>\n",
       "      <th>end_date</th>\n",
       "      <th>diff_d</th>\n",
       "      <th>diff_m</th>\n",
       "      <th>diff_w</th>\n",
       "    </tr>\n",
       "  </thead>\n",
       "  <tbody>\n",
       "    <tr>\n",
       "      <td>0</td>\n",
       "      <td>1</td>\n",
       "      <td>13</td>\n",
       "      <td>27</td>\n",
       "      <td>1053</td>\n",
       "      <td>0</td>\n",
       "      <td>X</td>\n",
       "      <td>2013-05-19</td>\n",
       "      <td>2013-07-05</td>\n",
       "      <td>47.00</td>\n",
       "      <td>1.54</td>\n",
       "      <td>6.71</td>\n",
       "    </tr>\n",
       "    <tr>\n",
       "      <td>1</td>\n",
       "      <td>2</td>\n",
       "      <td>13</td>\n",
       "      <td>116</td>\n",
       "      <td>48</td>\n",
       "      <td>0</td>\n",
       "      <td>X</td>\n",
       "      <td>2013-05-19</td>\n",
       "      <td>2013-07-05</td>\n",
       "      <td>47.00</td>\n",
       "      <td>1.54</td>\n",
       "      <td>6.71</td>\n",
       "    </tr>\n",
       "    <tr>\n",
       "      <td>2</td>\n",
       "      <td>6</td>\n",
       "      <td>9</td>\n",
       "      <td>635</td>\n",
       "      <td>205</td>\n",
       "      <td>0</td>\n",
       "      <td>Y</td>\n",
       "      <td>2013-03-11</td>\n",
       "      <td>2013-04-12</td>\n",
       "      <td>32.00</td>\n",
       "      <td>1.05</td>\n",
       "      <td>4.57</td>\n",
       "    </tr>\n",
       "    <tr>\n",
       "      <td>3</td>\n",
       "      <td>7</td>\n",
       "      <td>13</td>\n",
       "      <td>644</td>\n",
       "      <td>1050</td>\n",
       "      <td>0</td>\n",
       "      <td>X</td>\n",
       "      <td>2013-05-19</td>\n",
       "      <td>2013-07-05</td>\n",
       "      <td>47.00</td>\n",
       "      <td>1.54</td>\n",
       "      <td>6.71</td>\n",
       "    </tr>\n",
       "    <tr>\n",
       "      <td>4</td>\n",
       "      <td>9</td>\n",
       "      <td>8</td>\n",
       "      <td>1017</td>\n",
       "      <td>1489</td>\n",
       "      <td>0</td>\n",
       "      <td>X</td>\n",
       "      <td>2013-02-16</td>\n",
       "      <td>2013-04-05</td>\n",
       "      <td>48.00</td>\n",
       "      <td>1.58</td>\n",
       "      <td>6.86</td>\n",
       "    </tr>\n",
       "  </tbody>\n",
       "</table>\n",
       "</div>"
      ],
      "text/plain": [
       "   id  campaign_id  coupon_id  customer_id  redemption_status campaign_type  \\\n",
       "0   1           13         27         1053                  0             X   \n",
       "1   2           13        116           48                  0             X   \n",
       "2   6            9        635          205                  0             Y   \n",
       "3   7           13        644         1050                  0             X   \n",
       "4   9            8       1017         1489                  0             X   \n",
       "\n",
       "  start_date   end_date  diff_d  diff_m  diff_w  \n",
       "0 2013-05-19 2013-07-05   47.00    1.54    6.71  \n",
       "1 2013-05-19 2013-07-05   47.00    1.54    6.71  \n",
       "2 2013-03-11 2013-04-12   32.00    1.05    4.57  \n",
       "3 2013-05-19 2013-07-05   47.00    1.54    6.71  \n",
       "4 2013-02-16 2013-04-05   48.00    1.58    6.86  "
      ]
     },
     "execution_count": 223,
     "metadata": {},
     "output_type": "execute_result"
    }
   ],
   "source": [
    "train=train.merge(comp,on='campaign_id',how='left')\n",
    "train.head()"
   ]
  },
  {
   "cell_type": "markdown",
   "metadata": {},
   "source": [
    "# Item Data and Coupon Item Mapping\n"
   ]
  },
  {
   "cell_type": "code",
   "execution_count": 224,
   "metadata": {},
   "outputs": [
    {
     "name": "stdout",
     "output_type": "stream",
     "text": [
      "brand 5528\n",
      "brand_type 2\n",
      "category 19\n"
     ]
    }
   ],
   "source": [
    "for j in ['brand', 'brand_type', 'category']:\n",
    "    print(j,item[j].nunique())"
   ]
  },
  {
   "cell_type": "code",
   "execution_count": 225,
   "metadata": {},
   "outputs": [],
   "source": [
    "\n",
    "for j in ['brand', 'brand_type', 'category']:\n",
    "    item[j]=item[j].astype('category')\n",
    "    \n",
    "coup_item=coup_item.merge(item,on='item_id',how='left')"
   ]
  },
  {
   "cell_type": "code",
   "execution_count": 226,
   "metadata": {},
   "outputs": [
    {
     "data": {
      "text/plain": [
       "1116"
      ]
     },
     "execution_count": 226,
     "metadata": {},
     "output_type": "execute_result"
    }
   ],
   "source": [
    "coup_item.coupon_id.nunique()"
   ]
  },
  {
   "cell_type": "code",
   "execution_count": 227,
   "metadata": {},
   "outputs": [
    {
     "data": {
      "text/plain": [
       "(   coupon_id  item_id brand   brand_type category\n",
       " 0        105       37    56        Local  Grocery\n",
       " 1        107       75    56        Local  Grocery\n",
       " 2        494       76   209  Established  Grocery\n",
       " 3        522       77   278  Established  Grocery\n",
       " 4        518       77   278  Established  Grocery, (92663, 5))"
      ]
     },
     "execution_count": 227,
     "metadata": {},
     "output_type": "execute_result"
    }
   ],
   "source": [
    "coup_item.head(),coup_item.shape"
   ]
  },
  {
   "cell_type": "markdown",
   "metadata": {},
   "source": [
    "# Customer Transaction - Feat Engg\n"
   ]
  },
  {
   "cell_type": "code",
   "execution_count": 228,
   "metadata": {},
   "outputs": [
    {
     "data": {
      "text/html": [
       "<div>\n",
       "<style scoped>\n",
       "    .dataframe tbody tr th:only-of-type {\n",
       "        vertical-align: middle;\n",
       "    }\n",
       "\n",
       "    .dataframe tbody tr th {\n",
       "        vertical-align: top;\n",
       "    }\n",
       "\n",
       "    .dataframe thead th {\n",
       "        text-align: right;\n",
       "    }\n",
       "</style>\n",
       "<table border=\"1\" class=\"dataframe\">\n",
       "  <thead>\n",
       "    <tr style=\"text-align: right;\">\n",
       "      <th></th>\n",
       "      <th>date</th>\n",
       "      <th>customer_id</th>\n",
       "      <th>item_id</th>\n",
       "      <th>quantity</th>\n",
       "      <th>selling_price</th>\n",
       "      <th>other_discount</th>\n",
       "      <th>coupon_discount</th>\n",
       "      <th>date_d</th>\n",
       "      <th>date_m</th>\n",
       "      <th>date_w</th>\n",
       "    </tr>\n",
       "  </thead>\n",
       "  <tbody>\n",
       "    <tr>\n",
       "      <td>0</td>\n",
       "      <td>2012-01-02</td>\n",
       "      <td>1501</td>\n",
       "      <td>26830</td>\n",
       "      <td>1</td>\n",
       "      <td>35.26</td>\n",
       "      <td>-10.69</td>\n",
       "      <td>0.00</td>\n",
       "      <td>2</td>\n",
       "      <td>1</td>\n",
       "      <td>1</td>\n",
       "    </tr>\n",
       "    <tr>\n",
       "      <td>1</td>\n",
       "      <td>2012-01-02</td>\n",
       "      <td>1501</td>\n",
       "      <td>54253</td>\n",
       "      <td>1</td>\n",
       "      <td>53.43</td>\n",
       "      <td>-13.89</td>\n",
       "      <td>0.00</td>\n",
       "      <td>2</td>\n",
       "      <td>1</td>\n",
       "      <td>1</td>\n",
       "    </tr>\n",
       "    <tr>\n",
       "      <td>2</td>\n",
       "      <td>2012-01-02</td>\n",
       "      <td>1501</td>\n",
       "      <td>31962</td>\n",
       "      <td>1</td>\n",
       "      <td>106.50</td>\n",
       "      <td>-14.25</td>\n",
       "      <td>0.00</td>\n",
       "      <td>2</td>\n",
       "      <td>1</td>\n",
       "      <td>1</td>\n",
       "    </tr>\n",
       "    <tr>\n",
       "      <td>3</td>\n",
       "      <td>2012-01-02</td>\n",
       "      <td>1501</td>\n",
       "      <td>33647</td>\n",
       "      <td>1</td>\n",
       "      <td>67.32</td>\n",
       "      <td>0.00</td>\n",
       "      <td>0.00</td>\n",
       "      <td>2</td>\n",
       "      <td>1</td>\n",
       "      <td>1</td>\n",
       "    </tr>\n",
       "    <tr>\n",
       "      <td>4</td>\n",
       "      <td>2012-01-02</td>\n",
       "      <td>1501</td>\n",
       "      <td>48199</td>\n",
       "      <td>1</td>\n",
       "      <td>71.24</td>\n",
       "      <td>-28.14</td>\n",
       "      <td>0.00</td>\n",
       "      <td>2</td>\n",
       "      <td>1</td>\n",
       "      <td>1</td>\n",
       "    </tr>\n",
       "  </tbody>\n",
       "</table>\n",
       "</div>"
      ],
      "text/plain": [
       "        date  customer_id  item_id  quantity  selling_price  other_discount  \\\n",
       "0 2012-01-02         1501    26830         1          35.26          -10.69   \n",
       "1 2012-01-02         1501    54253         1          53.43          -13.89   \n",
       "2 2012-01-02         1501    31962         1         106.50          -14.25   \n",
       "3 2012-01-02         1501    33647         1          67.32            0.00   \n",
       "4 2012-01-02         1501    48199         1          71.24          -28.14   \n",
       "\n",
       "   coupon_discount date_d date_m date_w  \n",
       "0             0.00      2      1      1  \n",
       "1             0.00      2      1      1  \n",
       "2             0.00      2      1      1  \n",
       "3             0.00      2      1      1  \n",
       "4             0.00      2      1      1  "
      ]
     },
     "execution_count": 228,
     "metadata": {},
     "output_type": "execute_result"
    }
   ],
   "source": [
    "tran=pd.read_csv('customer_transaction_data.csv')\n",
    "tran['date']=pd.to_datetime(tran['date'],format='%Y-%m-%d')\n",
    "tran['date_d']=tran['date'].dt.day.astype('category')\n",
    "tran['date_m']=tran['date'].dt.month.astype('category')\n",
    "tran['date_w']=tran['date'].dt.week.astype('category')\n",
    "\n",
    "# tran.drop('date',axis=1,inplace=True)\n",
    "tran.head()"
   ]
  },
  {
   "cell_type": "code",
   "execution_count": 229,
   "metadata": {},
   "outputs": [
    {
     "data": {
      "text/html": [
       "<div>\n",
       "<style scoped>\n",
       "    .dataframe tbody tr th:only-of-type {\n",
       "        vertical-align: middle;\n",
       "    }\n",
       "\n",
       "    .dataframe tbody tr th {\n",
       "        vertical-align: top;\n",
       "    }\n",
       "\n",
       "    .dataframe thead th {\n",
       "        text-align: right;\n",
       "    }\n",
       "</style>\n",
       "<table border=\"1\" class=\"dataframe\">\n",
       "  <thead>\n",
       "    <tr style=\"text-align: right;\">\n",
       "      <th></th>\n",
       "      <th>date</th>\n",
       "      <th>customer_id</th>\n",
       "      <th>item_id</th>\n",
       "      <th>quantity</th>\n",
       "      <th>selling_price</th>\n",
       "      <th>other_discount</th>\n",
       "      <th>coupon_discount</th>\n",
       "      <th>date_d</th>\n",
       "      <th>date_m</th>\n",
       "      <th>date_w</th>\n",
       "    </tr>\n",
       "  </thead>\n",
       "  <tbody>\n",
       "    <tr>\n",
       "      <td>2257</td>\n",
       "      <td>2012-01-11</td>\n",
       "      <td>632</td>\n",
       "      <td>36682</td>\n",
       "      <td>20</td>\n",
       "      <td>156.73</td>\n",
       "      <td>-21.37</td>\n",
       "      <td>0.00</td>\n",
       "      <td>11</td>\n",
       "      <td>1</td>\n",
       "      <td>2</td>\n",
       "    </tr>\n",
       "    <tr>\n",
       "      <td>30413</td>\n",
       "      <td>2012-02-22</td>\n",
       "      <td>1324</td>\n",
       "      <td>9561</td>\n",
       "      <td>20</td>\n",
       "      <td>626.91</td>\n",
       "      <td>-505.80</td>\n",
       "      <td>0.00</td>\n",
       "      <td>22</td>\n",
       "      <td>2</td>\n",
       "      <td>8</td>\n",
       "    </tr>\n",
       "    <tr>\n",
       "      <td>35980</td>\n",
       "      <td>2012-02-28</td>\n",
       "      <td>757</td>\n",
       "      <td>25460</td>\n",
       "      <td>20</td>\n",
       "      <td>118.61</td>\n",
       "      <td>-2.49</td>\n",
       "      <td>0.00</td>\n",
       "      <td>28</td>\n",
       "      <td>2</td>\n",
       "      <td>9</td>\n",
       "    </tr>\n",
       "    <tr>\n",
       "      <td>60726</td>\n",
       "      <td>2012-03-17</td>\n",
       "      <td>1239</td>\n",
       "      <td>18151</td>\n",
       "      <td>20</td>\n",
       "      <td>142.48</td>\n",
       "      <td>0.00</td>\n",
       "      <td>0.00</td>\n",
       "      <td>17</td>\n",
       "      <td>3</td>\n",
       "      <td>11</td>\n",
       "    </tr>\n",
       "    <tr>\n",
       "      <td>82841</td>\n",
       "      <td>2012-03-31</td>\n",
       "      <td>767</td>\n",
       "      <td>37397</td>\n",
       "      <td>20</td>\n",
       "      <td>277.84</td>\n",
       "      <td>0.00</td>\n",
       "      <td>0.00</td>\n",
       "      <td>31</td>\n",
       "      <td>3</td>\n",
       "      <td>13</td>\n",
       "    </tr>\n",
       "    <tr>\n",
       "      <td>...</td>\n",
       "      <td>...</td>\n",
       "      <td>...</td>\n",
       "      <td>...</td>\n",
       "      <td>...</td>\n",
       "      <td>...</td>\n",
       "      <td>...</td>\n",
       "      <td>...</td>\n",
       "      <td>...</td>\n",
       "      <td>...</td>\n",
       "      <td>...</td>\n",
       "    </tr>\n",
       "    <tr>\n",
       "      <td>1280892</td>\n",
       "      <td>2013-06-16</td>\n",
       "      <td>1483</td>\n",
       "      <td>20360</td>\n",
       "      <td>20</td>\n",
       "      <td>142.48</td>\n",
       "      <td>0.00</td>\n",
       "      <td>0.00</td>\n",
       "      <td>16</td>\n",
       "      <td>6</td>\n",
       "      <td>24</td>\n",
       "    </tr>\n",
       "    <tr>\n",
       "      <td>1281796</td>\n",
       "      <td>2013-06-17</td>\n",
       "      <td>811</td>\n",
       "      <td>5873</td>\n",
       "      <td>20</td>\n",
       "      <td>121.11</td>\n",
       "      <td>0.00</td>\n",
       "      <td>0.00</td>\n",
       "      <td>17</td>\n",
       "      <td>6</td>\n",
       "      <td>25</td>\n",
       "    </tr>\n",
       "    <tr>\n",
       "      <td>1285318</td>\n",
       "      <td>2013-06-18</td>\n",
       "      <td>132</td>\n",
       "      <td>20360</td>\n",
       "      <td>20</td>\n",
       "      <td>142.48</td>\n",
       "      <td>0.00</td>\n",
       "      <td>0.00</td>\n",
       "      <td>18</td>\n",
       "      <td>6</td>\n",
       "      <td>25</td>\n",
       "    </tr>\n",
       "    <tr>\n",
       "      <td>1309218</td>\n",
       "      <td>2013-06-28</td>\n",
       "      <td>362</td>\n",
       "      <td>72255</td>\n",
       "      <td>20</td>\n",
       "      <td>71.24</td>\n",
       "      <td>-35.62</td>\n",
       "      <td>0.00</td>\n",
       "      <td>28</td>\n",
       "      <td>6</td>\n",
       "      <td>26</td>\n",
       "    </tr>\n",
       "    <tr>\n",
       "      <td>1317988</td>\n",
       "      <td>2013-06-30</td>\n",
       "      <td>1320</td>\n",
       "      <td>55744</td>\n",
       "      <td>20</td>\n",
       "      <td>237.59</td>\n",
       "      <td>0.00</td>\n",
       "      <td>0.00</td>\n",
       "      <td>30</td>\n",
       "      <td>6</td>\n",
       "      <td>26</td>\n",
       "    </tr>\n",
       "  </tbody>\n",
       "</table>\n",
       "<p>98 rows × 10 columns</p>\n",
       "</div>"
      ],
      "text/plain": [
       "              date  customer_id  item_id  quantity  selling_price  \\\n",
       "2257    2012-01-11          632    36682        20         156.73   \n",
       "30413   2012-02-22         1324     9561        20         626.91   \n",
       "35980   2012-02-28          757    25460        20         118.61   \n",
       "60726   2012-03-17         1239    18151        20         142.48   \n",
       "82841   2012-03-31          767    37397        20         277.84   \n",
       "...            ...          ...      ...       ...            ...   \n",
       "1280892 2013-06-16         1483    20360        20         142.48   \n",
       "1281796 2013-06-17          811     5873        20         121.11   \n",
       "1285318 2013-06-18          132    20360        20         142.48   \n",
       "1309218 2013-06-28          362    72255        20          71.24   \n",
       "1317988 2013-06-30         1320    55744        20         237.59   \n",
       "\n",
       "         other_discount  coupon_discount date_d date_m date_w  \n",
       "2257             -21.37             0.00     11      1      2  \n",
       "30413           -505.80             0.00     22      2      8  \n",
       "35980             -2.49             0.00     28      2      9  \n",
       "60726              0.00             0.00     17      3     11  \n",
       "82841              0.00             0.00     31      3     13  \n",
       "...                 ...              ...    ...    ...    ...  \n",
       "1280892            0.00             0.00     16      6     24  \n",
       "1281796            0.00             0.00     17      6     25  \n",
       "1285318            0.00             0.00     18      6     25  \n",
       "1309218          -35.62             0.00     28      6     26  \n",
       "1317988            0.00             0.00     30      6     26  \n",
       "\n",
       "[98 rows x 10 columns]"
      ]
     },
     "execution_count": 229,
     "metadata": {},
     "output_type": "execute_result"
    }
   ],
   "source": [
    "tran[tran['quantity']==20]"
   ]
  },
  {
   "cell_type": "code",
   "execution_count": 230,
   "metadata": {},
   "outputs": [],
   "source": [
    "tran['discount_bin']=tran['coupon_discount'].apply(lambda x: 0 if x>=0 else 1)\n",
    "tran['marked_price']=tran['selling_price']-tran['other_discount']-tran['coupon_discount']\n",
    "tran['disc_percent']=(tran['marked_price']-tran['selling_price'])/tran['selling_price']\n",
    "tran['price_per_quan']=tran['marked_price']/tran['quantity']\n",
    "tran['marked_by_sale']=tran['marked_price']/tran['selling_price']\n"
   ]
  },
  {
   "cell_type": "code",
   "execution_count": 231,
   "metadata": {},
   "outputs": [
    {
     "data": {
      "text/html": [
       "<div>\n",
       "<style scoped>\n",
       "    .dataframe tbody tr th:only-of-type {\n",
       "        vertical-align: middle;\n",
       "    }\n",
       "\n",
       "    .dataframe tbody tr th {\n",
       "        vertical-align: top;\n",
       "    }\n",
       "\n",
       "    .dataframe thead th {\n",
       "        text-align: right;\n",
       "    }\n",
       "</style>\n",
       "<table border=\"1\" class=\"dataframe\">\n",
       "  <thead>\n",
       "    <tr style=\"text-align: right;\">\n",
       "      <th></th>\n",
       "      <th>date</th>\n",
       "      <th>customer_id</th>\n",
       "      <th>item_id</th>\n",
       "      <th>quantity</th>\n",
       "      <th>selling_price</th>\n",
       "      <th>other_discount</th>\n",
       "      <th>coupon_discount</th>\n",
       "      <th>date_d</th>\n",
       "      <th>date_m</th>\n",
       "      <th>date_w</th>\n",
       "      <th>discount_bin</th>\n",
       "      <th>marked_price</th>\n",
       "      <th>disc_percent</th>\n",
       "      <th>price_per_quan</th>\n",
       "      <th>marked_by_sale</th>\n",
       "      <th>coupon_id</th>\n",
       "      <th>brand</th>\n",
       "      <th>brand_type</th>\n",
       "      <th>category</th>\n",
       "    </tr>\n",
       "  </thead>\n",
       "  <tbody>\n",
       "    <tr>\n",
       "      <td>0</td>\n",
       "      <td>2012-01-02</td>\n",
       "      <td>1501</td>\n",
       "      <td>26830</td>\n",
       "      <td>1</td>\n",
       "      <td>35.26</td>\n",
       "      <td>-10.69</td>\n",
       "      <td>0.00</td>\n",
       "      <td>2</td>\n",
       "      <td>1</td>\n",
       "      <td>1</td>\n",
       "      <td>0</td>\n",
       "      <td>45.95</td>\n",
       "      <td>0.30</td>\n",
       "      <td>45.95</td>\n",
       "      <td>1.30</td>\n",
       "      <td>7.00</td>\n",
       "      <td>56</td>\n",
       "      <td>Local</td>\n",
       "      <td>Natural Products</td>\n",
       "    </tr>\n",
       "    <tr>\n",
       "      <td>1</td>\n",
       "      <td>2012-01-02</td>\n",
       "      <td>1501</td>\n",
       "      <td>26830</td>\n",
       "      <td>1</td>\n",
       "      <td>35.26</td>\n",
       "      <td>-10.69</td>\n",
       "      <td>0.00</td>\n",
       "      <td>2</td>\n",
       "      <td>1</td>\n",
       "      <td>1</td>\n",
       "      <td>0</td>\n",
       "      <td>45.95</td>\n",
       "      <td>0.30</td>\n",
       "      <td>45.95</td>\n",
       "      <td>1.30</td>\n",
       "      <td>20.00</td>\n",
       "      <td>56</td>\n",
       "      <td>Local</td>\n",
       "      <td>Natural Products</td>\n",
       "    </tr>\n",
       "    <tr>\n",
       "      <td>2</td>\n",
       "      <td>2012-01-02</td>\n",
       "      <td>1501</td>\n",
       "      <td>26830</td>\n",
       "      <td>1</td>\n",
       "      <td>35.26</td>\n",
       "      <td>-10.69</td>\n",
       "      <td>0.00</td>\n",
       "      <td>2</td>\n",
       "      <td>1</td>\n",
       "      <td>1</td>\n",
       "      <td>0</td>\n",
       "      <td>45.95</td>\n",
       "      <td>0.30</td>\n",
       "      <td>45.95</td>\n",
       "      <td>1.30</td>\n",
       "      <td>29.00</td>\n",
       "      <td>56</td>\n",
       "      <td>Local</td>\n",
       "      <td>Natural Products</td>\n",
       "    </tr>\n",
       "    <tr>\n",
       "      <td>3</td>\n",
       "      <td>2012-01-02</td>\n",
       "      <td>1501</td>\n",
       "      <td>54253</td>\n",
       "      <td>1</td>\n",
       "      <td>53.43</td>\n",
       "      <td>-13.89</td>\n",
       "      <td>0.00</td>\n",
       "      <td>2</td>\n",
       "      <td>1</td>\n",
       "      <td>1</td>\n",
       "      <td>0</td>\n",
       "      <td>67.32</td>\n",
       "      <td>0.26</td>\n",
       "      <td>67.32</td>\n",
       "      <td>1.26</td>\n",
       "      <td>7.00</td>\n",
       "      <td>56</td>\n",
       "      <td>Local</td>\n",
       "      <td>Natural Products</td>\n",
       "    </tr>\n",
       "    <tr>\n",
       "      <td>4</td>\n",
       "      <td>2012-01-02</td>\n",
       "      <td>1501</td>\n",
       "      <td>54253</td>\n",
       "      <td>1</td>\n",
       "      <td>53.43</td>\n",
       "      <td>-13.89</td>\n",
       "      <td>0.00</td>\n",
       "      <td>2</td>\n",
       "      <td>1</td>\n",
       "      <td>1</td>\n",
       "      <td>0</td>\n",
       "      <td>67.32</td>\n",
       "      <td>0.26</td>\n",
       "      <td>67.32</td>\n",
       "      <td>1.26</td>\n",
       "      <td>20.00</td>\n",
       "      <td>56</td>\n",
       "      <td>Local</td>\n",
       "      <td>Natural Products</td>\n",
       "    </tr>\n",
       "  </tbody>\n",
       "</table>\n",
       "</div>"
      ],
      "text/plain": [
       "        date  customer_id  item_id  quantity  selling_price  other_discount  \\\n",
       "0 2012-01-02         1501    26830         1          35.26          -10.69   \n",
       "1 2012-01-02         1501    26830         1          35.26          -10.69   \n",
       "2 2012-01-02         1501    26830         1          35.26          -10.69   \n",
       "3 2012-01-02         1501    54253         1          53.43          -13.89   \n",
       "4 2012-01-02         1501    54253         1          53.43          -13.89   \n",
       "\n",
       "   coupon_discount date_d date_m date_w  discount_bin  marked_price  \\\n",
       "0             0.00      2      1      1             0         45.95   \n",
       "1             0.00      2      1      1             0         45.95   \n",
       "2             0.00      2      1      1             0         45.95   \n",
       "3             0.00      2      1      1             0         67.32   \n",
       "4             0.00      2      1      1             0         67.32   \n",
       "\n",
       "   disc_percent  price_per_quan  marked_by_sale  coupon_id brand brand_type  \\\n",
       "0          0.30           45.95            1.30       7.00    56      Local   \n",
       "1          0.30           45.95            1.30      20.00    56      Local   \n",
       "2          0.30           45.95            1.30      29.00    56      Local   \n",
       "3          0.26           67.32            1.26       7.00    56      Local   \n",
       "4          0.26           67.32            1.26      20.00    56      Local   \n",
       "\n",
       "           category  \n",
       "0  Natural Products  \n",
       "1  Natural Products  \n",
       "2  Natural Products  \n",
       "3  Natural Products  \n",
       "4  Natural Products  "
      ]
     },
     "execution_count": 231,
     "metadata": {},
     "output_type": "execute_result"
    }
   ],
   "source": [
    "tran=tran.merge(coup_item,on='item_id',how='left')\n",
    "tran.head()"
   ]
  },
  {
   "cell_type": "code",
   "execution_count": 232,
   "metadata": {},
   "outputs": [
    {
     "name": "stdout",
     "output_type": "stream",
     "text": [
      "(2657495, 19)\n",
      "(2650887, 19) (78369, 11)\n"
     ]
    }
   ],
   "source": [
    "print(tran.shape)\n",
    "tran=tran[tran.duplicated()==False]\n",
    "print(tran.shape,train.shape)\n",
    "# --drop it"
   ]
  },
  {
   "cell_type": "code",
   "execution_count": 233,
   "metadata": {},
   "outputs": [],
   "source": [
    "tran=tran.merge(tran.groupby(['customer_id','date']).agg({'coupon_id':'count','item_id':'count','disc_percent':sum}).reset_index().rename(columns={'coupon_id':'coupon_aquired','item_id':'item_bought','disc_percent':'tot_disc'}),on=['customer_id','date'],how='left')"
   ]
  },
  {
   "cell_type": "code",
   "execution_count": 234,
   "metadata": {},
   "outputs": [
    {
     "data": {
      "text/html": [
       "<div>\n",
       "<style scoped>\n",
       "    .dataframe tbody tr th:only-of-type {\n",
       "        vertical-align: middle;\n",
       "    }\n",
       "\n",
       "    .dataframe tbody tr th {\n",
       "        vertical-align: top;\n",
       "    }\n",
       "\n",
       "    .dataframe thead th {\n",
       "        text-align: right;\n",
       "    }\n",
       "</style>\n",
       "<table border=\"1\" class=\"dataframe\">\n",
       "  <thead>\n",
       "    <tr style=\"text-align: right;\">\n",
       "      <th></th>\n",
       "      <th>date</th>\n",
       "      <th>customer_id</th>\n",
       "      <th>item_id</th>\n",
       "      <th>quantity</th>\n",
       "      <th>selling_price</th>\n",
       "      <th>other_discount</th>\n",
       "      <th>coupon_discount</th>\n",
       "      <th>date_d</th>\n",
       "      <th>date_m</th>\n",
       "      <th>date_w</th>\n",
       "      <th>...</th>\n",
       "      <th>disc_percent</th>\n",
       "      <th>price_per_quan</th>\n",
       "      <th>marked_by_sale</th>\n",
       "      <th>coupon_id</th>\n",
       "      <th>brand</th>\n",
       "      <th>brand_type</th>\n",
       "      <th>category</th>\n",
       "      <th>coupon_aquired</th>\n",
       "      <th>item_bought</th>\n",
       "      <th>tot_disc</th>\n",
       "    </tr>\n",
       "  </thead>\n",
       "  <tbody>\n",
       "    <tr>\n",
       "      <td>184957</td>\n",
       "      <td>2012-04-05</td>\n",
       "      <td>1052</td>\n",
       "      <td>13774</td>\n",
       "      <td>1</td>\n",
       "      <td>35.62</td>\n",
       "      <td>-31.70</td>\n",
       "      <td>0.00</td>\n",
       "      <td>5</td>\n",
       "      <td>4</td>\n",
       "      <td>14</td>\n",
       "      <td>...</td>\n",
       "      <td>0.89</td>\n",
       "      <td>67.32</td>\n",
       "      <td>1.89</td>\n",
       "      <td>21.00</td>\n",
       "      <td>56</td>\n",
       "      <td>Local</td>\n",
       "      <td>Grocery</td>\n",
       "      <td>26</td>\n",
       "      <td>32</td>\n",
       "      <td>8.93</td>\n",
       "    </tr>\n",
       "    <tr>\n",
       "      <td>184966</td>\n",
       "      <td>2012-04-05</td>\n",
       "      <td>1052</td>\n",
       "      <td>30293</td>\n",
       "      <td>1</td>\n",
       "      <td>35.26</td>\n",
       "      <td>0.00</td>\n",
       "      <td>0.00</td>\n",
       "      <td>5</td>\n",
       "      <td>4</td>\n",
       "      <td>14</td>\n",
       "      <td>...</td>\n",
       "      <td>0.00</td>\n",
       "      <td>35.26</td>\n",
       "      <td>1.00</td>\n",
       "      <td>21.00</td>\n",
       "      <td>56</td>\n",
       "      <td>Local</td>\n",
       "      <td>Grocery</td>\n",
       "      <td>26</td>\n",
       "      <td>32</td>\n",
       "      <td>8.93</td>\n",
       "    </tr>\n",
       "    <tr>\n",
       "      <td>184970</td>\n",
       "      <td>2012-04-05</td>\n",
       "      <td>1052</td>\n",
       "      <td>5207</td>\n",
       "      <td>1</td>\n",
       "      <td>106.86</td>\n",
       "      <td>-21.02</td>\n",
       "      <td>0.00</td>\n",
       "      <td>5</td>\n",
       "      <td>4</td>\n",
       "      <td>14</td>\n",
       "      <td>...</td>\n",
       "      <td>0.20</td>\n",
       "      <td>127.88</td>\n",
       "      <td>1.20</td>\n",
       "      <td>21.00</td>\n",
       "      <td>681</td>\n",
       "      <td>Established</td>\n",
       "      <td>Grocery</td>\n",
       "      <td>26</td>\n",
       "      <td>32</td>\n",
       "      <td>8.93</td>\n",
       "    </tr>\n",
       "    <tr>\n",
       "      <td>184973</td>\n",
       "      <td>2012-04-05</td>\n",
       "      <td>1052</td>\n",
       "      <td>9571</td>\n",
       "      <td>1</td>\n",
       "      <td>106.86</td>\n",
       "      <td>-21.02</td>\n",
       "      <td>0.00</td>\n",
       "      <td>5</td>\n",
       "      <td>4</td>\n",
       "      <td>14</td>\n",
       "      <td>...</td>\n",
       "      <td>0.20</td>\n",
       "      <td>127.88</td>\n",
       "      <td>1.20</td>\n",
       "      <td>21.00</td>\n",
       "      <td>681</td>\n",
       "      <td>Established</td>\n",
       "      <td>Grocery</td>\n",
       "      <td>26</td>\n",
       "      <td>32</td>\n",
       "      <td>8.93</td>\n",
       "    </tr>\n",
       "    <tr>\n",
       "      <td>184978</td>\n",
       "      <td>2012-04-05</td>\n",
       "      <td>1052</td>\n",
       "      <td>47434</td>\n",
       "      <td>1</td>\n",
       "      <td>106.86</td>\n",
       "      <td>-21.02</td>\n",
       "      <td>0.00</td>\n",
       "      <td>5</td>\n",
       "      <td>4</td>\n",
       "      <td>14</td>\n",
       "      <td>...</td>\n",
       "      <td>0.20</td>\n",
       "      <td>127.88</td>\n",
       "      <td>1.20</td>\n",
       "      <td>21.00</td>\n",
       "      <td>681</td>\n",
       "      <td>Established</td>\n",
       "      <td>Grocery</td>\n",
       "      <td>26</td>\n",
       "      <td>32</td>\n",
       "      <td>8.93</td>\n",
       "    </tr>\n",
       "    <tr>\n",
       "      <td>...</td>\n",
       "      <td>...</td>\n",
       "      <td>...</td>\n",
       "      <td>...</td>\n",
       "      <td>...</td>\n",
       "      <td>...</td>\n",
       "      <td>...</td>\n",
       "      <td>...</td>\n",
       "      <td>...</td>\n",
       "      <td>...</td>\n",
       "      <td>...</td>\n",
       "      <td>...</td>\n",
       "      <td>...</td>\n",
       "      <td>...</td>\n",
       "      <td>...</td>\n",
       "      <td>...</td>\n",
       "      <td>...</td>\n",
       "      <td>...</td>\n",
       "      <td>...</td>\n",
       "      <td>...</td>\n",
       "      <td>...</td>\n",
       "      <td>...</td>\n",
       "    </tr>\n",
       "    <tr>\n",
       "      <td>2594456</td>\n",
       "      <td>2013-06-22</td>\n",
       "      <td>1052</td>\n",
       "      <td>27522</td>\n",
       "      <td>1</td>\n",
       "      <td>110.07</td>\n",
       "      <td>0.00</td>\n",
       "      <td>0.00</td>\n",
       "      <td>22</td>\n",
       "      <td>6</td>\n",
       "      <td>25</td>\n",
       "      <td>...</td>\n",
       "      <td>0.00</td>\n",
       "      <td>110.07</td>\n",
       "      <td>1.00</td>\n",
       "      <td>21.00</td>\n",
       "      <td>634</td>\n",
       "      <td>Established</td>\n",
       "      <td>Grocery</td>\n",
       "      <td>33</td>\n",
       "      <td>34</td>\n",
       "      <td>14.58</td>\n",
       "    </tr>\n",
       "    <tr>\n",
       "      <td>2594461</td>\n",
       "      <td>2013-06-22</td>\n",
       "      <td>1052</td>\n",
       "      <td>36578</td>\n",
       "      <td>1</td>\n",
       "      <td>17.81</td>\n",
       "      <td>-10.33</td>\n",
       "      <td>0.00</td>\n",
       "      <td>22</td>\n",
       "      <td>6</td>\n",
       "      <td>25</td>\n",
       "      <td>...</td>\n",
       "      <td>0.58</td>\n",
       "      <td>28.14</td>\n",
       "      <td>1.58</td>\n",
       "      <td>21.00</td>\n",
       "      <td>1337</td>\n",
       "      <td>Established</td>\n",
       "      <td>Grocery</td>\n",
       "      <td>33</td>\n",
       "      <td>34</td>\n",
       "      <td>14.58</td>\n",
       "    </tr>\n",
       "    <tr>\n",
       "      <td>2594464</td>\n",
       "      <td>2013-06-22</td>\n",
       "      <td>1052</td>\n",
       "      <td>47434</td>\n",
       "      <td>1</td>\n",
       "      <td>99.38</td>\n",
       "      <td>-28.50</td>\n",
       "      <td>0.00</td>\n",
       "      <td>22</td>\n",
       "      <td>6</td>\n",
       "      <td>25</td>\n",
       "      <td>...</td>\n",
       "      <td>0.29</td>\n",
       "      <td>127.88</td>\n",
       "      <td>1.29</td>\n",
       "      <td>21.00</td>\n",
       "      <td>681</td>\n",
       "      <td>Established</td>\n",
       "      <td>Grocery</td>\n",
       "      <td>33</td>\n",
       "      <td>34</td>\n",
       "      <td>14.58</td>\n",
       "    </tr>\n",
       "    <tr>\n",
       "      <td>2623916</td>\n",
       "      <td>2013-06-28</td>\n",
       "      <td>1052</td>\n",
       "      <td>5859</td>\n",
       "      <td>3</td>\n",
       "      <td>39.18</td>\n",
       "      <td>-30.99</td>\n",
       "      <td>-14.25</td>\n",
       "      <td>28</td>\n",
       "      <td>6</td>\n",
       "      <td>26</td>\n",
       "      <td>...</td>\n",
       "      <td>1.15</td>\n",
       "      <td>28.14</td>\n",
       "      <td>2.15</td>\n",
       "      <td>21.00</td>\n",
       "      <td>1337</td>\n",
       "      <td>Established</td>\n",
       "      <td>Grocery</td>\n",
       "      <td>24</td>\n",
       "      <td>30</td>\n",
       "      <td>10.21</td>\n",
       "    </tr>\n",
       "    <tr>\n",
       "      <td>2623931</td>\n",
       "      <td>2013-06-28</td>\n",
       "      <td>1052</td>\n",
       "      <td>18168</td>\n",
       "      <td>3</td>\n",
       "      <td>53.43</td>\n",
       "      <td>-30.99</td>\n",
       "      <td>0.00</td>\n",
       "      <td>28</td>\n",
       "      <td>6</td>\n",
       "      <td>26</td>\n",
       "      <td>...</td>\n",
       "      <td>0.58</td>\n",
       "      <td>28.14</td>\n",
       "      <td>1.58</td>\n",
       "      <td>21.00</td>\n",
       "      <td>1337</td>\n",
       "      <td>Established</td>\n",
       "      <td>Grocery</td>\n",
       "      <td>24</td>\n",
       "      <td>30</td>\n",
       "      <td>10.21</td>\n",
       "    </tr>\n",
       "  </tbody>\n",
       "</table>\n",
       "<p>233 rows × 22 columns</p>\n",
       "</div>"
      ],
      "text/plain": [
       "              date  customer_id  item_id  quantity  selling_price  \\\n",
       "184957  2012-04-05         1052    13774         1          35.62   \n",
       "184966  2012-04-05         1052    30293         1          35.26   \n",
       "184970  2012-04-05         1052     5207         1         106.86   \n",
       "184973  2012-04-05         1052     9571         1         106.86   \n",
       "184978  2012-04-05         1052    47434         1         106.86   \n",
       "...            ...          ...      ...       ...            ...   \n",
       "2594456 2013-06-22         1052    27522         1         110.07   \n",
       "2594461 2013-06-22         1052    36578         1          17.81   \n",
       "2594464 2013-06-22         1052    47434         1          99.38   \n",
       "2623916 2013-06-28         1052     5859         3          39.18   \n",
       "2623931 2013-06-28         1052    18168         3          53.43   \n",
       "\n",
       "         other_discount  coupon_discount date_d date_m date_w  ...  \\\n",
       "184957           -31.70             0.00      5      4     14  ...   \n",
       "184966             0.00             0.00      5      4     14  ...   \n",
       "184970           -21.02             0.00      5      4     14  ...   \n",
       "184973           -21.02             0.00      5      4     14  ...   \n",
       "184978           -21.02             0.00      5      4     14  ...   \n",
       "...                 ...              ...    ...    ...    ...  ...   \n",
       "2594456            0.00             0.00     22      6     25  ...   \n",
       "2594461          -10.33             0.00     22      6     25  ...   \n",
       "2594464          -28.50             0.00     22      6     25  ...   \n",
       "2623916          -30.99           -14.25     28      6     26  ...   \n",
       "2623931          -30.99             0.00     28      6     26  ...   \n",
       "\n",
       "         disc_percent  price_per_quan  marked_by_sale  coupon_id  brand  \\\n",
       "184957           0.89           67.32            1.89      21.00     56   \n",
       "184966           0.00           35.26            1.00      21.00     56   \n",
       "184970           0.20          127.88            1.20      21.00    681   \n",
       "184973           0.20          127.88            1.20      21.00    681   \n",
       "184978           0.20          127.88            1.20      21.00    681   \n",
       "...               ...             ...             ...        ...    ...   \n",
       "2594456          0.00          110.07            1.00      21.00    634   \n",
       "2594461          0.58           28.14            1.58      21.00   1337   \n",
       "2594464          0.29          127.88            1.29      21.00    681   \n",
       "2623916          1.15           28.14            2.15      21.00   1337   \n",
       "2623931          0.58           28.14            1.58      21.00   1337   \n",
       "\n",
       "          brand_type category coupon_aquired item_bought  tot_disc  \n",
       "184957         Local  Grocery             26          32      8.93  \n",
       "184966         Local  Grocery             26          32      8.93  \n",
       "184970   Established  Grocery             26          32      8.93  \n",
       "184973   Established  Grocery             26          32      8.93  \n",
       "184978   Established  Grocery             26          32      8.93  \n",
       "...              ...      ...            ...         ...       ...  \n",
       "2594456  Established  Grocery             33          34     14.58  \n",
       "2594461  Established  Grocery             33          34     14.58  \n",
       "2594464  Established  Grocery             33          34     14.58  \n",
       "2623916  Established  Grocery             24          30     10.21  \n",
       "2623931  Established  Grocery             24          30     10.21  \n",
       "\n",
       "[233 rows x 22 columns]"
      ]
     },
     "execution_count": 234,
     "metadata": {},
     "output_type": "execute_result"
    }
   ],
   "source": [
    "tran[(tran['customer_id']==1052) & (tran['coupon_id']==21)]"
   ]
  },
  {
   "cell_type": "code",
   "execution_count": 235,
   "metadata": {},
   "outputs": [
    {
     "data": {
      "text/html": [
       "<div>\n",
       "<style scoped>\n",
       "    .dataframe tbody tr th:only-of-type {\n",
       "        vertical-align: middle;\n",
       "    }\n",
       "\n",
       "    .dataframe tbody tr th {\n",
       "        vertical-align: top;\n",
       "    }\n",
       "\n",
       "    .dataframe thead th {\n",
       "        text-align: right;\n",
       "    }\n",
       "</style>\n",
       "<table border=\"1\" class=\"dataframe\">\n",
       "  <thead>\n",
       "    <tr style=\"text-align: right;\">\n",
       "      <th></th>\n",
       "      <th>date</th>\n",
       "      <th>customer_id</th>\n",
       "      <th>item_id</th>\n",
       "      <th>quantity</th>\n",
       "      <th>selling_price</th>\n",
       "      <th>other_discount</th>\n",
       "      <th>coupon_discount</th>\n",
       "      <th>date_d</th>\n",
       "      <th>date_m</th>\n",
       "      <th>date_w</th>\n",
       "      <th>...</th>\n",
       "      <th>price_per_quan</th>\n",
       "      <th>marked_by_sale</th>\n",
       "      <th>coupon_id</th>\n",
       "      <th>brand</th>\n",
       "      <th>brand_type</th>\n",
       "      <th>category</th>\n",
       "      <th>coupon_aquired</th>\n",
       "      <th>item_bought</th>\n",
       "      <th>tot_disc</th>\n",
       "      <th>coupon_to_item</th>\n",
       "    </tr>\n",
       "  </thead>\n",
       "  <tbody>\n",
       "    <tr>\n",
       "      <td>859832</td>\n",
       "      <td>2012-08-16</td>\n",
       "      <td>413</td>\n",
       "      <td>16887</td>\n",
       "      <td>1</td>\n",
       "      <td>110.07</td>\n",
       "      <td>0.00</td>\n",
       "      <td>0.00</td>\n",
       "      <td>16</td>\n",
       "      <td>8</td>\n",
       "      <td>33</td>\n",
       "      <td>...</td>\n",
       "      <td>110.07</td>\n",
       "      <td>1.00</td>\n",
       "      <td>577.00</td>\n",
       "      <td>408</td>\n",
       "      <td>Established</td>\n",
       "      <td>Pharmaceutical</td>\n",
       "      <td>13</td>\n",
       "      <td>22</td>\n",
       "      <td>2.39</td>\n",
       "      <td>9</td>\n",
       "    </tr>\n",
       "  </tbody>\n",
       "</table>\n",
       "<p>1 rows × 23 columns</p>\n",
       "</div>"
      ],
      "text/plain": [
       "             date  customer_id  item_id  quantity  selling_price  \\\n",
       "859832 2012-08-16          413    16887         1         110.07   \n",
       "\n",
       "        other_discount  coupon_discount date_d date_m date_w  ...  \\\n",
       "859832            0.00             0.00     16      8     33  ...   \n",
       "\n",
       "        price_per_quan  marked_by_sale  coupon_id  brand   brand_type  \\\n",
       "859832          110.07            1.00     577.00    408  Established   \n",
       "\n",
       "              category coupon_aquired item_bought tot_disc  coupon_to_item  \n",
       "859832  Pharmaceutical             13          22     2.39               9  \n",
       "\n",
       "[1 rows x 23 columns]"
      ]
     },
     "execution_count": 235,
     "metadata": {},
     "output_type": "execute_result"
    }
   ],
   "source": [
    "tran['coupon_to_item']=tran['item_bought']-tran['coupon_aquired']\n",
    "tran[(tran['customer_id']==413) & (tran['coupon_id']==577)]"
   ]
  },
  {
   "cell_type": "code",
   "execution_count": 236,
   "metadata": {},
   "outputs": [],
   "source": [
    "def func(a,b,c):\n",
    "    if c!=0:\n",
    "        c=list(c)\n",
    "        v=0\n",
    "        for k in c:\n",
    "            if a<=k and b>k:\n",
    "                v+=1\n",
    "        return v\n",
    "    else:\n",
    "        return 0"
   ]
  },
  {
   "cell_type": "markdown",
   "metadata": {},
   "source": [
    "# Best Features\n"
   ]
  },
  {
   "cell_type": "code",
   "execution_count": 237,
   "metadata": {},
   "outputs": [
    {
     "data": {
      "text/html": [
       "<div>\n",
       "<style scoped>\n",
       "    .dataframe tbody tr th:only-of-type {\n",
       "        vertical-align: middle;\n",
       "    }\n",
       "\n",
       "    .dataframe tbody tr th {\n",
       "        vertical-align: top;\n",
       "    }\n",
       "\n",
       "    .dataframe thead th {\n",
       "        text-align: right;\n",
       "    }\n",
       "</style>\n",
       "<table border=\"1\" class=\"dataframe\">\n",
       "  <thead>\n",
       "    <tr style=\"text-align: right;\">\n",
       "      <th></th>\n",
       "      <th>id</th>\n",
       "      <th>campaign_id</th>\n",
       "      <th>coupon_id</th>\n",
       "      <th>customer_id</th>\n",
       "      <th>redemption_status</th>\n",
       "      <th>campaign_type</th>\n",
       "      <th>start_date</th>\n",
       "      <th>end_date</th>\n",
       "      <th>diff_d</th>\n",
       "      <th>diff_m</th>\n",
       "      <th>diff_w</th>\n",
       "      <th>date</th>\n",
       "      <th>discount_bin</th>\n",
       "      <th>quantity</th>\n",
       "      <th>item_id</th>\n",
       "      <th>coupon_aquired</th>\n",
       "      <th>item_bought</th>\n",
       "      <th>tot_disc</th>\n",
       "    </tr>\n",
       "  </thead>\n",
       "  <tbody>\n",
       "    <tr>\n",
       "      <td>23999</td>\n",
       "      <td>39352</td>\n",
       "      <td>13</td>\n",
       "      <td>22</td>\n",
       "      <td>298</td>\n",
       "      <td>0</td>\n",
       "      <td>X</td>\n",
       "      <td>2013-05-19</td>\n",
       "      <td>2013-07-05</td>\n",
       "      <td>47.00</td>\n",
       "      <td>1.54</td>\n",
       "      <td>6.71</td>\n",
       "      <td>{2013-01-05 00:00:00, 2012-09-18 00:00:00, 201...</td>\n",
       "      <td>0.00</td>\n",
       "      <td>44.00</td>\n",
       "      <td>34.00</td>\n",
       "      <td>462.00</td>\n",
       "      <td>14.18</td>\n",
       "      <td>166.09</td>\n",
       "    </tr>\n",
       "    <tr>\n",
       "      <td>59388</td>\n",
       "      <td>97579</td>\n",
       "      <td>8</td>\n",
       "      <td>60</td>\n",
       "      <td>584</td>\n",
       "      <td>0</td>\n",
       "      <td>X</td>\n",
       "      <td>2013-02-16</td>\n",
       "      <td>2013-04-05</td>\n",
       "      <td>48.00</td>\n",
       "      <td>1.58</td>\n",
       "      <td>6.86</td>\n",
       "      <td>NaN</td>\n",
       "      <td>nan</td>\n",
       "      <td>nan</td>\n",
       "      <td>nan</td>\n",
       "      <td>nan</td>\n",
       "      <td>nan</td>\n",
       "      <td>nan</td>\n",
       "    </tr>\n",
       "    <tr>\n",
       "      <td>879</td>\n",
       "      <td>1447</td>\n",
       "      <td>11</td>\n",
       "      <td>669</td>\n",
       "      <td>377</td>\n",
       "      <td>0</td>\n",
       "      <td>Y</td>\n",
       "      <td>2013-04-22</td>\n",
       "      <td>2013-06-07</td>\n",
       "      <td>46.00</td>\n",
       "      <td>1.51</td>\n",
       "      <td>6.57</td>\n",
       "      <td>{2012-11-06 00:00:00}</td>\n",
       "      <td>0.00</td>\n",
       "      <td>1.00</td>\n",
       "      <td>1.00</td>\n",
       "      <td>44.00</td>\n",
       "      <td>61.00</td>\n",
       "      <td>8.37</td>\n",
       "    </tr>\n",
       "    <tr>\n",
       "      <td>60206</td>\n",
       "      <td>98908</td>\n",
       "      <td>8</td>\n",
       "      <td>761</td>\n",
       "      <td>1449</td>\n",
       "      <td>0</td>\n",
       "      <td>X</td>\n",
       "      <td>2013-02-16</td>\n",
       "      <td>2013-04-05</td>\n",
       "      <td>48.00</td>\n",
       "      <td>1.58</td>\n",
       "      <td>6.86</td>\n",
       "      <td>NaN</td>\n",
       "      <td>nan</td>\n",
       "      <td>nan</td>\n",
       "      <td>nan</td>\n",
       "      <td>nan</td>\n",
       "      <td>nan</td>\n",
       "      <td>nan</td>\n",
       "    </tr>\n",
       "    <tr>\n",
       "      <td>25616</td>\n",
       "      <td>42028</td>\n",
       "      <td>11</td>\n",
       "      <td>669</td>\n",
       "      <td>1469</td>\n",
       "      <td>0</td>\n",
       "      <td>Y</td>\n",
       "      <td>2013-04-22</td>\n",
       "      <td>2013-06-07</td>\n",
       "      <td>46.00</td>\n",
       "      <td>1.51</td>\n",
       "      <td>6.57</td>\n",
       "      <td>{2013-01-02 00:00:00}</td>\n",
       "      <td>0.00</td>\n",
       "      <td>1.00</td>\n",
       "      <td>1.00</td>\n",
       "      <td>70.00</td>\n",
       "      <td>101.00</td>\n",
       "      <td>11.53</td>\n",
       "    </tr>\n",
       "    <tr>\n",
       "      <td>23551</td>\n",
       "      <td>38613</td>\n",
       "      <td>13</td>\n",
       "      <td>110</td>\n",
       "      <td>378</td>\n",
       "      <td>0</td>\n",
       "      <td>X</td>\n",
       "      <td>2013-05-19</td>\n",
       "      <td>2013-07-05</td>\n",
       "      <td>47.00</td>\n",
       "      <td>1.54</td>\n",
       "      <td>6.71</td>\n",
       "      <td>NaN</td>\n",
       "      <td>nan</td>\n",
       "      <td>nan</td>\n",
       "      <td>nan</td>\n",
       "      <td>nan</td>\n",
       "      <td>nan</td>\n",
       "      <td>nan</td>\n",
       "    </tr>\n",
       "    <tr>\n",
       "      <td>53798</td>\n",
       "      <td>88400</td>\n",
       "      <td>13</td>\n",
       "      <td>157</td>\n",
       "      <td>613</td>\n",
       "      <td>0</td>\n",
       "      <td>X</td>\n",
       "      <td>2013-05-19</td>\n",
       "      <td>2013-07-05</td>\n",
       "      <td>47.00</td>\n",
       "      <td>1.54</td>\n",
       "      <td>6.71</td>\n",
       "      <td>{2012-07-06 00:00:00, 2012-03-16 00:00:00}</td>\n",
       "      <td>0.00</td>\n",
       "      <td>2.00</td>\n",
       "      <td>2.00</td>\n",
       "      <td>27.00</td>\n",
       "      <td>17.50</td>\n",
       "      <td>5.36</td>\n",
       "    </tr>\n",
       "    <tr>\n",
       "      <td>51424</td>\n",
       "      <td>84407</td>\n",
       "      <td>8</td>\n",
       "      <td>12</td>\n",
       "      <td>135</td>\n",
       "      <td>0</td>\n",
       "      <td>X</td>\n",
       "      <td>2013-02-16</td>\n",
       "      <td>2013-04-05</td>\n",
       "      <td>48.00</td>\n",
       "      <td>1.58</td>\n",
       "      <td>6.86</td>\n",
       "      <td>NaN</td>\n",
       "      <td>nan</td>\n",
       "      <td>nan</td>\n",
       "      <td>nan</td>\n",
       "      <td>nan</td>\n",
       "      <td>nan</td>\n",
       "      <td>nan</td>\n",
       "    </tr>\n",
       "    <tr>\n",
       "      <td>12180</td>\n",
       "      <td>20109</td>\n",
       "      <td>12</td>\n",
       "      <td>1075</td>\n",
       "      <td>1043</td>\n",
       "      <td>0</td>\n",
       "      <td>Y</td>\n",
       "      <td>2013-04-22</td>\n",
       "      <td>2013-05-24</td>\n",
       "      <td>32.00</td>\n",
       "      <td>1.05</td>\n",
       "      <td>4.57</td>\n",
       "      <td>NaN</td>\n",
       "      <td>nan</td>\n",
       "      <td>nan</td>\n",
       "      <td>nan</td>\n",
       "      <td>nan</td>\n",
       "      <td>nan</td>\n",
       "      <td>nan</td>\n",
       "    </tr>\n",
       "    <tr>\n",
       "      <td>31571</td>\n",
       "      <td>51734</td>\n",
       "      <td>5</td>\n",
       "      <td>955</td>\n",
       "      <td>1216</td>\n",
       "      <td>0</td>\n",
       "      <td>Y</td>\n",
       "      <td>2013-01-12</td>\n",
       "      <td>2013-02-15</td>\n",
       "      <td>34.00</td>\n",
       "      <td>1.12</td>\n",
       "      <td>4.86</td>\n",
       "      <td>NaN</td>\n",
       "      <td>nan</td>\n",
       "      <td>nan</td>\n",
       "      <td>nan</td>\n",
       "      <td>nan</td>\n",
       "      <td>nan</td>\n",
       "      <td>nan</td>\n",
       "    </tr>\n",
       "  </tbody>\n",
       "</table>\n",
       "</div>"
      ],
      "text/plain": [
       "          id  campaign_id  coupon_id  customer_id  redemption_status  \\\n",
       "23999  39352           13         22          298                  0   \n",
       "59388  97579            8         60          584                  0   \n",
       "879     1447           11        669          377                  0   \n",
       "60206  98908            8        761         1449                  0   \n",
       "25616  42028           11        669         1469                  0   \n",
       "23551  38613           13        110          378                  0   \n",
       "53798  88400           13        157          613                  0   \n",
       "51424  84407            8         12          135                  0   \n",
       "12180  20109           12       1075         1043                  0   \n",
       "31571  51734            5        955         1216                  0   \n",
       "\n",
       "      campaign_type start_date   end_date  diff_d  diff_m  diff_w  \\\n",
       "23999             X 2013-05-19 2013-07-05   47.00    1.54    6.71   \n",
       "59388             X 2013-02-16 2013-04-05   48.00    1.58    6.86   \n",
       "879               Y 2013-04-22 2013-06-07   46.00    1.51    6.57   \n",
       "60206             X 2013-02-16 2013-04-05   48.00    1.58    6.86   \n",
       "25616             Y 2013-04-22 2013-06-07   46.00    1.51    6.57   \n",
       "23551             X 2013-05-19 2013-07-05   47.00    1.54    6.71   \n",
       "53798             X 2013-05-19 2013-07-05   47.00    1.54    6.71   \n",
       "51424             X 2013-02-16 2013-04-05   48.00    1.58    6.86   \n",
       "12180             Y 2013-04-22 2013-05-24   32.00    1.05    4.57   \n",
       "31571             Y 2013-01-12 2013-02-15   34.00    1.12    4.86   \n",
       "\n",
       "                                                    date  discount_bin  \\\n",
       "23999  {2013-01-05 00:00:00, 2012-09-18 00:00:00, 201...          0.00   \n",
       "59388                                                NaN           nan   \n",
       "879                                {2012-11-06 00:00:00}          0.00   \n",
       "60206                                                NaN           nan   \n",
       "25616                              {2013-01-02 00:00:00}          0.00   \n",
       "23551                                                NaN           nan   \n",
       "53798         {2012-07-06 00:00:00, 2012-03-16 00:00:00}          0.00   \n",
       "51424                                                NaN           nan   \n",
       "12180                                                NaN           nan   \n",
       "31571                                                NaN           nan   \n",
       "\n",
       "       quantity  item_id  coupon_aquired  item_bought  tot_disc  \n",
       "23999     44.00    34.00          462.00        14.18    166.09  \n",
       "59388       nan      nan             nan          nan       nan  \n",
       "879        1.00     1.00           44.00        61.00      8.37  \n",
       "60206       nan      nan             nan          nan       nan  \n",
       "25616      1.00     1.00           70.00       101.00     11.53  \n",
       "23551       nan      nan             nan          nan       nan  \n",
       "53798      2.00     2.00           27.00        17.50      5.36  \n",
       "51424       nan      nan             nan          nan       nan  \n",
       "12180       nan      nan             nan          nan       nan  \n",
       "31571       nan      nan             nan          nan       nan  "
      ]
     },
     "execution_count": 237,
     "metadata": {},
     "output_type": "execute_result"
    }
   ],
   "source": [
    "ddf=train.merge(tran.groupby(['customer_id','coupon_id']).agg({'date':set,'discount_bin':sum,'quantity':sum,'item_id':'count',\n",
    "                                                            'coupon_aquired':sum,'item_bought':'mean','tot_disc':sum}).reset_index(),on=['customer_id','coupon_id'],how='left')\n",
    "ddf.sample(10)"
   ]
  },
  {
   "cell_type": "code",
   "execution_count": 238,
   "metadata": {},
   "outputs": [
    {
     "data": {
      "text/plain": [
       "0         0.00\n",
       "1         0.00\n",
       "2         0.00\n",
       "3         0.00\n",
       "4         0.00\n",
       "         ...  \n",
       "78364     0.00\n",
       "78365     0.00\n",
       "78366   138.00\n",
       "78367     0.00\n",
       "78368    23.00\n",
       "Name: coupon_aquired, Length: 78369, dtype: float64"
      ]
     },
     "execution_count": 238,
     "metadata": {},
     "output_type": "execute_result"
    }
   ],
   "source": [
    "ddf['coupon_aquired'].fillna(0)"
   ]
  },
  {
   "cell_type": "markdown",
   "metadata": {},
   "source": [
    "# Features tried but everyone gave 99CV and overfitted LB but only 'within_date' helped me improve\n",
    "Single feature that boosted my score from 86.XX to 93.XX"
   ]
  },
  {
   "cell_type": "code",
   "execution_count": 239,
   "metadata": {},
   "outputs": [
    {
     "name": "stdout",
     "output_type": "stream",
     "text": [
      "(78369, 18)\n"
     ]
    }
   ],
   "source": [
    "print(ddf.shape)\n",
    "ddf['date'].replace(np.nan,0,inplace=True)\n",
    "ddf['discount_bin'].replace(np.nan,-1,inplace=True)\n",
    "\n",
    "\n",
    "train['within_date']=ddf['date'].apply(lambda x: len(x) if x !=0 else 0)"
   ]
  },
  {
   "cell_type": "code",
   "execution_count": 240,
   "metadata": {},
   "outputs": [
    {
     "data": {
      "text/html": [
       "<div>\n",
       "<style scoped>\n",
       "    .dataframe tbody tr th:only-of-type {\n",
       "        vertical-align: middle;\n",
       "    }\n",
       "\n",
       "    .dataframe tbody tr th {\n",
       "        vertical-align: top;\n",
       "    }\n",
       "\n",
       "    .dataframe thead tr th {\n",
       "        text-align: left;\n",
       "    }\n",
       "\n",
       "    .dataframe thead tr:last-of-type th {\n",
       "        text-align: right;\n",
       "    }\n",
       "</style>\n",
       "<table border=\"1\" class=\"dataframe\">\n",
       "  <thead>\n",
       "    <tr>\n",
       "      <th></th>\n",
       "      <th colspan=\"2\" halign=\"left\">date_d</th>\n",
       "      <th colspan=\"2\" halign=\"left\">date_m</th>\n",
       "      <th colspan=\"2\" halign=\"left\">date_w</th>\n",
       "      <th colspan=\"4\" halign=\"left\">quantity</th>\n",
       "      <th>...</th>\n",
       "      <th colspan=\"4\" halign=\"left\">tot_disc</th>\n",
       "      <th colspan=\"6\" halign=\"left\">coupon_to_item</th>\n",
       "    </tr>\n",
       "    <tr>\n",
       "      <th></th>\n",
       "      <th>count</th>\n",
       "      <th>nunique</th>\n",
       "      <th>count</th>\n",
       "      <th>nunique</th>\n",
       "      <th>count</th>\n",
       "      <th>nunique</th>\n",
       "      <th>mean</th>\n",
       "      <th>max</th>\n",
       "      <th>min</th>\n",
       "      <th>sum</th>\n",
       "      <th>...</th>\n",
       "      <th>max</th>\n",
       "      <th>min</th>\n",
       "      <th>sum</th>\n",
       "      <th>std</th>\n",
       "      <th>mean</th>\n",
       "      <th>max</th>\n",
       "      <th>min</th>\n",
       "      <th>sum</th>\n",
       "      <th>std</th>\n",
       "      <th>quantile</th>\n",
       "    </tr>\n",
       "    <tr>\n",
       "      <th>customer_id</th>\n",
       "      <th></th>\n",
       "      <th></th>\n",
       "      <th></th>\n",
       "      <th></th>\n",
       "      <th></th>\n",
       "      <th></th>\n",
       "      <th></th>\n",
       "      <th></th>\n",
       "      <th></th>\n",
       "      <th></th>\n",
       "      <th></th>\n",
       "      <th></th>\n",
       "      <th></th>\n",
       "      <th></th>\n",
       "      <th></th>\n",
       "      <th></th>\n",
       "      <th></th>\n",
       "      <th></th>\n",
       "      <th></th>\n",
       "      <th></th>\n",
       "      <th></th>\n",
       "    </tr>\n",
       "  </thead>\n",
       "  <tbody>\n",
       "    <tr>\n",
       "      <td>1</td>\n",
       "      <td>2206</td>\n",
       "      <td>28</td>\n",
       "      <td>2206</td>\n",
       "      <td>12</td>\n",
       "      <td>2206</td>\n",
       "      <td>38</td>\n",
       "      <td>1.13</td>\n",
       "      <td>5</td>\n",
       "      <td>1</td>\n",
       "      <td>2501</td>\n",
       "      <td>...</td>\n",
       "      <td>30.80</td>\n",
       "      <td>0.00</td>\n",
       "      <td>29544.40</td>\n",
       "      <td>6.80</td>\n",
       "      <td>13.28</td>\n",
       "      <td>23</td>\n",
       "      <td>0</td>\n",
       "      <td>29287</td>\n",
       "      <td>5.67</td>\n",
       "      <td>14.00</td>\n",
       "    </tr>\n",
       "    <tr>\n",
       "      <td>2</td>\n",
       "      <td>823</td>\n",
       "      <td>19</td>\n",
       "      <td>823</td>\n",
       "      <td>11</td>\n",
       "      <td>823</td>\n",
       "      <td>27</td>\n",
       "      <td>1.12</td>\n",
       "      <td>5</td>\n",
       "      <td>1</td>\n",
       "      <td>920</td>\n",
       "      <td>...</td>\n",
       "      <td>16.84</td>\n",
       "      <td>0.00</td>\n",
       "      <td>6242.84</td>\n",
       "      <td>5.04</td>\n",
       "      <td>7.81</td>\n",
       "      <td>20</td>\n",
       "      <td>0</td>\n",
       "      <td>6431</td>\n",
       "      <td>6.10</td>\n",
       "      <td>6.00</td>\n",
       "    </tr>\n",
       "    <tr>\n",
       "      <td>3</td>\n",
       "      <td>1351</td>\n",
       "      <td>23</td>\n",
       "      <td>1351</td>\n",
       "      <td>12</td>\n",
       "      <td>1351</td>\n",
       "      <td>30</td>\n",
       "      <td>6.86</td>\n",
       "      <td>6949</td>\n",
       "      <td>1</td>\n",
       "      <td>9270</td>\n",
       "      <td>...</td>\n",
       "      <td>46.13</td>\n",
       "      <td>0.00</td>\n",
       "      <td>22281.62</td>\n",
       "      <td>12.41</td>\n",
       "      <td>13.96</td>\n",
       "      <td>35</td>\n",
       "      <td>0</td>\n",
       "      <td>18860</td>\n",
       "      <td>9.53</td>\n",
       "      <td>12.00</td>\n",
       "    </tr>\n",
       "    <tr>\n",
       "      <td>4</td>\n",
       "      <td>451</td>\n",
       "      <td>23</td>\n",
       "      <td>451</td>\n",
       "      <td>11</td>\n",
       "      <td>451</td>\n",
       "      <td>21</td>\n",
       "      <td>1.28</td>\n",
       "      <td>5</td>\n",
       "      <td>1</td>\n",
       "      <td>579</td>\n",
       "      <td>...</td>\n",
       "      <td>13.88</td>\n",
       "      <td>0.00</td>\n",
       "      <td>1927.09</td>\n",
       "      <td>4.16</td>\n",
       "      <td>6.37</td>\n",
       "      <td>13</td>\n",
       "      <td>0</td>\n",
       "      <td>2875</td>\n",
       "      <td>4.60</td>\n",
       "      <td>4.00</td>\n",
       "    </tr>\n",
       "    <tr>\n",
       "      <td>5</td>\n",
       "      <td>1594</td>\n",
       "      <td>31</td>\n",
       "      <td>1594</td>\n",
       "      <td>12</td>\n",
       "      <td>1594</td>\n",
       "      <td>51</td>\n",
       "      <td>59.35</td>\n",
       "      <td>14638</td>\n",
       "      <td>1</td>\n",
       "      <td>94597</td>\n",
       "      <td>...</td>\n",
       "      <td>14.59</td>\n",
       "      <td>0.00</td>\n",
       "      <td>3806.96</td>\n",
       "      <td>3.23</td>\n",
       "      <td>2.47</td>\n",
       "      <td>11</td>\n",
       "      <td>0</td>\n",
       "      <td>3944</td>\n",
       "      <td>2.35</td>\n",
       "      <td>2.00</td>\n",
       "    </tr>\n",
       "  </tbody>\n",
       "</table>\n",
       "<p>5 rows × 85 columns</p>\n",
       "</div>"
      ],
      "text/plain": [
       "            date_d         date_m         date_w         quantity             \\\n",
       "             count nunique  count nunique  count nunique     mean    max min   \n",
       "customer_id                                                                    \n",
       "1             2206      28   2206      12   2206      38     1.13      5   1   \n",
       "2              823      19    823      11    823      27     1.12      5   1   \n",
       "3             1351      23   1351      12   1351      30     6.86   6949   1   \n",
       "4              451      23    451      11    451      21     1.28      5   1   \n",
       "5             1594      31   1594      12   1594      51    59.35  14638   1   \n",
       "\n",
       "                    ... tot_disc                     coupon_to_item          \\\n",
       "               sum  ...      max  min      sum   std           mean max min   \n",
       "customer_id         ...                                                       \n",
       "1             2501  ...    30.80 0.00 29544.40  6.80          13.28  23   0   \n",
       "2              920  ...    16.84 0.00  6242.84  5.04           7.81  20   0   \n",
       "3             9270  ...    46.13 0.00 22281.62 12.41          13.96  35   0   \n",
       "4              579  ...    13.88 0.00  1927.09  4.16           6.37  13   0   \n",
       "5            94597  ...    14.59 0.00  3806.96  3.23           2.47  11   0   \n",
       "\n",
       "                                  \n",
       "               sum  std quantile  \n",
       "customer_id                       \n",
       "1            29287 5.67    14.00  \n",
       "2             6431 6.10     6.00  \n",
       "3            18860 9.53    12.00  \n",
       "4             2875 4.60     4.00  \n",
       "5             3944 2.35     2.00  \n",
       "\n",
       "[5 rows x 85 columns]"
      ]
     },
     "execution_count": 240,
     "metadata": {},
     "output_type": "execute_result"
    }
   ],
   "source": [
    "c=['count','nunique']\n",
    "n=['mean','max','min','sum','std']\n",
    "nn=['mean','max','min','sum','std','quantile']\n",
    "agg_c={'date_d':c,'date_m':c,'date_w':c,'quantity':n,'selling_price':n,'other_discount':n,'coupon_discount':n,'item_id':c,'brand':c,\n",
    "       'category':c,'coupon_id':c,'discount_bin':nn,'marked_price':n,'disc_percent':n,'price_per_quan':n,'brand_type':c,'marked_by_sale':n,\n",
    "       'coupon_aquired':nn, 'item_bought':nn, 'tot_disc':n, 'coupon_to_item':nn}\n",
    "trans=tran.groupby(['customer_id']).agg(agg_c)\n",
    "trans.head()"
   ]
  },
  {
   "cell_type": "code",
   "execution_count": 241,
   "metadata": {},
   "outputs": [
    {
     "data": {
      "text/html": [
       "<div>\n",
       "<style scoped>\n",
       "    .dataframe tbody tr th:only-of-type {\n",
       "        vertical-align: middle;\n",
       "    }\n",
       "\n",
       "    .dataframe tbody tr th {\n",
       "        vertical-align: top;\n",
       "    }\n",
       "\n",
       "    .dataframe thead th {\n",
       "        text-align: right;\n",
       "    }\n",
       "</style>\n",
       "<table border=\"1\" class=\"dataframe\">\n",
       "  <thead>\n",
       "    <tr style=\"text-align: right;\">\n",
       "      <th></th>\n",
       "      <th>customer_id</th>\n",
       "      <th>F_date_d_count</th>\n",
       "      <th>F_date_d_nunique</th>\n",
       "      <th>F_date_m_count</th>\n",
       "      <th>F_date_m_nunique</th>\n",
       "      <th>F_date_w_count</th>\n",
       "      <th>F_date_w_nunique</th>\n",
       "      <th>F_quantity_mean</th>\n",
       "      <th>F_quantity_max</th>\n",
       "      <th>F_quantity_min</th>\n",
       "      <th>...</th>\n",
       "      <th>F_tot_disc_max</th>\n",
       "      <th>F_tot_disc_min</th>\n",
       "      <th>F_tot_disc_sum</th>\n",
       "      <th>F_tot_disc_std</th>\n",
       "      <th>F_coupon_to_item_mean</th>\n",
       "      <th>F_coupon_to_item_max</th>\n",
       "      <th>F_coupon_to_item_min</th>\n",
       "      <th>F_coupon_to_item_sum</th>\n",
       "      <th>F_coupon_to_item_std</th>\n",
       "      <th>F_coupon_to_item_quantile</th>\n",
       "    </tr>\n",
       "  </thead>\n",
       "  <tbody>\n",
       "    <tr>\n",
       "      <td>0</td>\n",
       "      <td>1</td>\n",
       "      <td>2206</td>\n",
       "      <td>28</td>\n",
       "      <td>2206</td>\n",
       "      <td>12</td>\n",
       "      <td>2206</td>\n",
       "      <td>38</td>\n",
       "      <td>1.13</td>\n",
       "      <td>5</td>\n",
       "      <td>1</td>\n",
       "      <td>...</td>\n",
       "      <td>30.80</td>\n",
       "      <td>0.00</td>\n",
       "      <td>29544.40</td>\n",
       "      <td>6.80</td>\n",
       "      <td>13.28</td>\n",
       "      <td>23</td>\n",
       "      <td>0</td>\n",
       "      <td>29287</td>\n",
       "      <td>5.67</td>\n",
       "      <td>14.00</td>\n",
       "    </tr>\n",
       "    <tr>\n",
       "      <td>1</td>\n",
       "      <td>2</td>\n",
       "      <td>823</td>\n",
       "      <td>19</td>\n",
       "      <td>823</td>\n",
       "      <td>11</td>\n",
       "      <td>823</td>\n",
       "      <td>27</td>\n",
       "      <td>1.12</td>\n",
       "      <td>5</td>\n",
       "      <td>1</td>\n",
       "      <td>...</td>\n",
       "      <td>16.84</td>\n",
       "      <td>0.00</td>\n",
       "      <td>6242.84</td>\n",
       "      <td>5.04</td>\n",
       "      <td>7.81</td>\n",
       "      <td>20</td>\n",
       "      <td>0</td>\n",
       "      <td>6431</td>\n",
       "      <td>6.10</td>\n",
       "      <td>6.00</td>\n",
       "    </tr>\n",
       "    <tr>\n",
       "      <td>2</td>\n",
       "      <td>3</td>\n",
       "      <td>1351</td>\n",
       "      <td>23</td>\n",
       "      <td>1351</td>\n",
       "      <td>12</td>\n",
       "      <td>1351</td>\n",
       "      <td>30</td>\n",
       "      <td>6.86</td>\n",
       "      <td>6949</td>\n",
       "      <td>1</td>\n",
       "      <td>...</td>\n",
       "      <td>46.13</td>\n",
       "      <td>0.00</td>\n",
       "      <td>22281.62</td>\n",
       "      <td>12.41</td>\n",
       "      <td>13.96</td>\n",
       "      <td>35</td>\n",
       "      <td>0</td>\n",
       "      <td>18860</td>\n",
       "      <td>9.53</td>\n",
       "      <td>12.00</td>\n",
       "    </tr>\n",
       "    <tr>\n",
       "      <td>3</td>\n",
       "      <td>4</td>\n",
       "      <td>451</td>\n",
       "      <td>23</td>\n",
       "      <td>451</td>\n",
       "      <td>11</td>\n",
       "      <td>451</td>\n",
       "      <td>21</td>\n",
       "      <td>1.28</td>\n",
       "      <td>5</td>\n",
       "      <td>1</td>\n",
       "      <td>...</td>\n",
       "      <td>13.88</td>\n",
       "      <td>0.00</td>\n",
       "      <td>1927.09</td>\n",
       "      <td>4.16</td>\n",
       "      <td>6.37</td>\n",
       "      <td>13</td>\n",
       "      <td>0</td>\n",
       "      <td>2875</td>\n",
       "      <td>4.60</td>\n",
       "      <td>4.00</td>\n",
       "    </tr>\n",
       "    <tr>\n",
       "      <td>4</td>\n",
       "      <td>5</td>\n",
       "      <td>1594</td>\n",
       "      <td>31</td>\n",
       "      <td>1594</td>\n",
       "      <td>12</td>\n",
       "      <td>1594</td>\n",
       "      <td>51</td>\n",
       "      <td>59.35</td>\n",
       "      <td>14638</td>\n",
       "      <td>1</td>\n",
       "      <td>...</td>\n",
       "      <td>14.59</td>\n",
       "      <td>0.00</td>\n",
       "      <td>3806.96</td>\n",
       "      <td>3.23</td>\n",
       "      <td>2.47</td>\n",
       "      <td>11</td>\n",
       "      <td>0</td>\n",
       "      <td>3944</td>\n",
       "      <td>2.35</td>\n",
       "      <td>2.00</td>\n",
       "    </tr>\n",
       "  </tbody>\n",
       "</table>\n",
       "<p>5 rows × 86 columns</p>\n",
       "</div>"
      ],
      "text/plain": [
       "   customer_id  F_date_d_count  F_date_d_nunique  F_date_m_count  \\\n",
       "0            1            2206                28            2206   \n",
       "1            2             823                19             823   \n",
       "2            3            1351                23            1351   \n",
       "3            4             451                23             451   \n",
       "4            5            1594                31            1594   \n",
       "\n",
       "   F_date_m_nunique  F_date_w_count  F_date_w_nunique  F_quantity_mean  \\\n",
       "0                12            2206                38             1.13   \n",
       "1                11             823                27             1.12   \n",
       "2                12            1351                30             6.86   \n",
       "3                11             451                21             1.28   \n",
       "4                12            1594                51            59.35   \n",
       "\n",
       "   F_quantity_max  F_quantity_min  ...  F_tot_disc_max  F_tot_disc_min  \\\n",
       "0               5               1  ...           30.80            0.00   \n",
       "1               5               1  ...           16.84            0.00   \n",
       "2            6949               1  ...           46.13            0.00   \n",
       "3               5               1  ...           13.88            0.00   \n",
       "4           14638               1  ...           14.59            0.00   \n",
       "\n",
       "   F_tot_disc_sum  F_tot_disc_std  F_coupon_to_item_mean  \\\n",
       "0        29544.40            6.80                  13.28   \n",
       "1         6242.84            5.04                   7.81   \n",
       "2        22281.62           12.41                  13.96   \n",
       "3         1927.09            4.16                   6.37   \n",
       "4         3806.96            3.23                   2.47   \n",
       "\n",
       "   F_coupon_to_item_max  F_coupon_to_item_min  F_coupon_to_item_sum  \\\n",
       "0                    23                     0                 29287   \n",
       "1                    20                     0                  6431   \n",
       "2                    35                     0                 18860   \n",
       "3                    13                     0                  2875   \n",
       "4                    11                     0                  3944   \n",
       "\n",
       "   F_coupon_to_item_std  F_coupon_to_item_quantile  \n",
       "0                  5.67                      14.00  \n",
       "1                  6.10                       6.00  \n",
       "2                  9.53                      12.00  \n",
       "3                  4.60                       4.00  \n",
       "4                  2.35                       2.00  \n",
       "\n",
       "[5 rows x 86 columns]"
      ]
     },
     "execution_count": 241,
     "metadata": {},
     "output_type": "execute_result"
    }
   ],
   "source": [
    "trans.columns=['F_' + '_'.join(col).strip() for col in trans.columns.values]\n",
    "trans.reset_index(inplace=True)\n",
    "trans.head()"
   ]
  },
  {
   "cell_type": "code",
   "execution_count": 242,
   "metadata": {},
   "outputs": [],
   "source": [
    "train=train.merge(trans,on=['customer_id'],how='left')\n",
    "train['campaign_type']=train['campaign_type'].factorize()[0]"
   ]
  },
  {
   "cell_type": "code",
   "execution_count": 243,
   "metadata": {},
   "outputs": [
    {
     "name": "stdout",
     "output_type": "stream",
     "text": [
      "(78369, 97) (0, 97)\n"
     ]
    }
   ],
   "source": [
    "df_train=train[train['redemption_status'].isnull()==False].copy()\n",
    "df_test=train[train['redemption_status'].isnull()==True].copy()\n",
    "\n",
    "print(df_train.shape,df_test.shape)"
   ]
  },
  {
   "cell_type": "code",
   "execution_count": 244,
   "metadata": {},
   "outputs": [
    {
     "data": {
      "text/html": [
       "<div>\n",
       "<style scoped>\n",
       "    .dataframe tbody tr th:only-of-type {\n",
       "        vertical-align: middle;\n",
       "    }\n",
       "\n",
       "    .dataframe tbody tr th {\n",
       "        vertical-align: top;\n",
       "    }\n",
       "\n",
       "    .dataframe thead th {\n",
       "        text-align: right;\n",
       "    }\n",
       "</style>\n",
       "<table border=\"1\" class=\"dataframe\">\n",
       "  <thead>\n",
       "    <tr style=\"text-align: right;\">\n",
       "      <th></th>\n",
       "      <th>id</th>\n",
       "      <th>campaign_id</th>\n",
       "      <th>coupon_id_x</th>\n",
       "      <th>customer_id_x</th>\n",
       "      <th>redemption_status</th>\n",
       "      <th>campaign_type_x</th>\n",
       "      <th>start_date</th>\n",
       "      <th>end_date</th>\n",
       "      <th>diff_d_x</th>\n",
       "      <th>diff_m_x</th>\n",
       "      <th>...</th>\n",
       "      <th>F_tot_disc_max_y</th>\n",
       "      <th>F_tot_disc_min_y</th>\n",
       "      <th>F_tot_disc_sum_y</th>\n",
       "      <th>F_tot_disc_std_y</th>\n",
       "      <th>F_coupon_to_item_mean_y</th>\n",
       "      <th>F_coupon_to_item_max_y</th>\n",
       "      <th>F_coupon_to_item_min_y</th>\n",
       "      <th>F_coupon_to_item_sum_y</th>\n",
       "      <th>F_coupon_to_item_std_y</th>\n",
       "      <th>F_coupon_to_item_quantile_y</th>\n",
       "    </tr>\n",
       "  </thead>\n",
       "  <tbody>\n",
       "    <tr>\n",
       "      <td>0</td>\n",
       "      <td>1</td>\n",
       "      <td>13</td>\n",
       "      <td>27</td>\n",
       "      <td>1053</td>\n",
       "      <td>0</td>\n",
       "      <td>0</td>\n",
       "      <td>2013-05-19</td>\n",
       "      <td>2013-07-05</td>\n",
       "      <td>47.00</td>\n",
       "      <td>1.54</td>\n",
       "      <td>...</td>\n",
       "      <td>33.55</td>\n",
       "      <td>0.00</td>\n",
       "      <td>22777.59</td>\n",
       "      <td>8.32</td>\n",
       "      <td>7.64</td>\n",
       "      <td>21.50</td>\n",
       "      <td>0.02</td>\n",
       "      <td>17797.57</td>\n",
       "      <td>5.57</td>\n",
       "      <td>6.51</td>\n",
       "    </tr>\n",
       "    <tr>\n",
       "      <td>1</td>\n",
       "      <td>2</td>\n",
       "      <td>13</td>\n",
       "      <td>116</td>\n",
       "      <td>48</td>\n",
       "      <td>0</td>\n",
       "      <td>0</td>\n",
       "      <td>2013-05-19</td>\n",
       "      <td>2013-07-05</td>\n",
       "      <td>47.00</td>\n",
       "      <td>1.54</td>\n",
       "      <td>...</td>\n",
       "      <td>33.55</td>\n",
       "      <td>0.00</td>\n",
       "      <td>22777.59</td>\n",
       "      <td>8.32</td>\n",
       "      <td>7.64</td>\n",
       "      <td>21.50</td>\n",
       "      <td>0.02</td>\n",
       "      <td>17797.57</td>\n",
       "      <td>5.57</td>\n",
       "      <td>6.51</td>\n",
       "    </tr>\n",
       "    <tr>\n",
       "      <td>2</td>\n",
       "      <td>6</td>\n",
       "      <td>9</td>\n",
       "      <td>635</td>\n",
       "      <td>205</td>\n",
       "      <td>0</td>\n",
       "      <td>1</td>\n",
       "      <td>2013-03-11</td>\n",
       "      <td>2013-04-12</td>\n",
       "      <td>32.00</td>\n",
       "      <td>1.05</td>\n",
       "      <td>...</td>\n",
       "      <td>33.36</td>\n",
       "      <td>0.01</td>\n",
       "      <td>23196.83</td>\n",
       "      <td>8.58</td>\n",
       "      <td>7.26</td>\n",
       "      <td>19.76</td>\n",
       "      <td>0.03</td>\n",
       "      <td>16053.55</td>\n",
       "      <td>5.02</td>\n",
       "      <td>6.28</td>\n",
       "    </tr>\n",
       "    <tr>\n",
       "      <td>3</td>\n",
       "      <td>7</td>\n",
       "      <td>13</td>\n",
       "      <td>644</td>\n",
       "      <td>1050</td>\n",
       "      <td>0</td>\n",
       "      <td>0</td>\n",
       "      <td>2013-05-19</td>\n",
       "      <td>2013-07-05</td>\n",
       "      <td>47.00</td>\n",
       "      <td>1.54</td>\n",
       "      <td>...</td>\n",
       "      <td>33.55</td>\n",
       "      <td>0.00</td>\n",
       "      <td>22777.59</td>\n",
       "      <td>8.32</td>\n",
       "      <td>7.64</td>\n",
       "      <td>21.50</td>\n",
       "      <td>0.02</td>\n",
       "      <td>17797.57</td>\n",
       "      <td>5.57</td>\n",
       "      <td>6.51</td>\n",
       "    </tr>\n",
       "    <tr>\n",
       "      <td>4</td>\n",
       "      <td>9</td>\n",
       "      <td>8</td>\n",
       "      <td>1017</td>\n",
       "      <td>1489</td>\n",
       "      <td>0</td>\n",
       "      <td>0</td>\n",
       "      <td>2013-02-16</td>\n",
       "      <td>2013-04-05</td>\n",
       "      <td>48.00</td>\n",
       "      <td>1.58</td>\n",
       "      <td>...</td>\n",
       "      <td>32.01</td>\n",
       "      <td>0.00</td>\n",
       "      <td>21276.40</td>\n",
       "      <td>8.12</td>\n",
       "      <td>7.58</td>\n",
       "      <td>20.88</td>\n",
       "      <td>0.02</td>\n",
       "      <td>16666.73</td>\n",
       "      <td>5.47</td>\n",
       "      <td>6.56</td>\n",
       "    </tr>\n",
       "    <tr>\n",
       "      <td>...</td>\n",
       "      <td>...</td>\n",
       "      <td>...</td>\n",
       "      <td>...</td>\n",
       "      <td>...</td>\n",
       "      <td>...</td>\n",
       "      <td>...</td>\n",
       "      <td>...</td>\n",
       "      <td>...</td>\n",
       "      <td>...</td>\n",
       "      <td>...</td>\n",
       "      <td>...</td>\n",
       "      <td>...</td>\n",
       "      <td>...</td>\n",
       "      <td>...</td>\n",
       "      <td>...</td>\n",
       "      <td>...</td>\n",
       "      <td>...</td>\n",
       "      <td>...</td>\n",
       "      <td>...</td>\n",
       "      <td>...</td>\n",
       "      <td>...</td>\n",
       "    </tr>\n",
       "    <tr>\n",
       "      <td>78364</td>\n",
       "      <td>128587</td>\n",
       "      <td>8</td>\n",
       "      <td>71</td>\n",
       "      <td>1523</td>\n",
       "      <td>0</td>\n",
       "      <td>0</td>\n",
       "      <td>2013-02-16</td>\n",
       "      <td>2013-04-05</td>\n",
       "      <td>48.00</td>\n",
       "      <td>1.58</td>\n",
       "      <td>...</td>\n",
       "      <td>32.01</td>\n",
       "      <td>0.00</td>\n",
       "      <td>21276.40</td>\n",
       "      <td>8.12</td>\n",
       "      <td>7.58</td>\n",
       "      <td>20.88</td>\n",
       "      <td>0.02</td>\n",
       "      <td>16666.73</td>\n",
       "      <td>5.47</td>\n",
       "      <td>6.56</td>\n",
       "    </tr>\n",
       "    <tr>\n",
       "      <td>78365</td>\n",
       "      <td>128589</td>\n",
       "      <td>30</td>\n",
       "      <td>547</td>\n",
       "      <td>937</td>\n",
       "      <td>0</td>\n",
       "      <td>0</td>\n",
       "      <td>2012-11-19</td>\n",
       "      <td>2013-01-04</td>\n",
       "      <td>46.00</td>\n",
       "      <td>1.51</td>\n",
       "      <td>...</td>\n",
       "      <td>35.78</td>\n",
       "      <td>0.00</td>\n",
       "      <td>24342.70</td>\n",
       "      <td>8.92</td>\n",
       "      <td>7.58</td>\n",
       "      <td>20.79</td>\n",
       "      <td>0.02</td>\n",
       "      <td>17979.40</td>\n",
       "      <td>5.51</td>\n",
       "      <td>6.45</td>\n",
       "    </tr>\n",
       "    <tr>\n",
       "      <td>78366</td>\n",
       "      <td>128590</td>\n",
       "      <td>8</td>\n",
       "      <td>754</td>\n",
       "      <td>1004</td>\n",
       "      <td>0</td>\n",
       "      <td>0</td>\n",
       "      <td>2013-02-16</td>\n",
       "      <td>2013-04-05</td>\n",
       "      <td>48.00</td>\n",
       "      <td>1.58</td>\n",
       "      <td>...</td>\n",
       "      <td>32.01</td>\n",
       "      <td>0.00</td>\n",
       "      <td>21276.40</td>\n",
       "      <td>8.12</td>\n",
       "      <td>7.58</td>\n",
       "      <td>20.88</td>\n",
       "      <td>0.02</td>\n",
       "      <td>16666.73</td>\n",
       "      <td>5.47</td>\n",
       "      <td>6.56</td>\n",
       "    </tr>\n",
       "    <tr>\n",
       "      <td>78367</td>\n",
       "      <td>128592</td>\n",
       "      <td>13</td>\n",
       "      <td>134</td>\n",
       "      <td>71</td>\n",
       "      <td>0</td>\n",
       "      <td>0</td>\n",
       "      <td>2013-05-19</td>\n",
       "      <td>2013-07-05</td>\n",
       "      <td>47.00</td>\n",
       "      <td>1.54</td>\n",
       "      <td>...</td>\n",
       "      <td>33.55</td>\n",
       "      <td>0.00</td>\n",
       "      <td>22777.59</td>\n",
       "      <td>8.32</td>\n",
       "      <td>7.64</td>\n",
       "      <td>21.50</td>\n",
       "      <td>0.02</td>\n",
       "      <td>17797.57</td>\n",
       "      <td>5.57</td>\n",
       "      <td>6.51</td>\n",
       "    </tr>\n",
       "    <tr>\n",
       "      <td>78368</td>\n",
       "      <td>128595</td>\n",
       "      <td>13</td>\n",
       "      <td>681</td>\n",
       "      <td>623</td>\n",
       "      <td>0</td>\n",
       "      <td>0</td>\n",
       "      <td>2013-05-19</td>\n",
       "      <td>2013-07-05</td>\n",
       "      <td>47.00</td>\n",
       "      <td>1.54</td>\n",
       "      <td>...</td>\n",
       "      <td>33.55</td>\n",
       "      <td>0.00</td>\n",
       "      <td>22777.59</td>\n",
       "      <td>8.32</td>\n",
       "      <td>7.64</td>\n",
       "      <td>21.50</td>\n",
       "      <td>0.02</td>\n",
       "      <td>17797.57</td>\n",
       "      <td>5.57</td>\n",
       "      <td>6.51</td>\n",
       "    </tr>\n",
       "  </tbody>\n",
       "</table>\n",
       "<p>78369 rows × 189 columns</p>\n",
       "</div>"
      ],
      "text/plain": [
       "           id  campaign_id  coupon_id_x  customer_id_x  redemption_status  \\\n",
       "0           1           13           27           1053                  0   \n",
       "1           2           13          116             48                  0   \n",
       "2           6            9          635            205                  0   \n",
       "3           7           13          644           1050                  0   \n",
       "4           9            8         1017           1489                  0   \n",
       "...       ...          ...          ...            ...                ...   \n",
       "78364  128587            8           71           1523                  0   \n",
       "78365  128589           30          547            937                  0   \n",
       "78366  128590            8          754           1004                  0   \n",
       "78367  128592           13          134             71                  0   \n",
       "78368  128595           13          681            623                  0   \n",
       "\n",
       "       campaign_type_x start_date   end_date  diff_d_x  diff_m_x  ...  \\\n",
       "0                    0 2013-05-19 2013-07-05     47.00      1.54  ...   \n",
       "1                    0 2013-05-19 2013-07-05     47.00      1.54  ...   \n",
       "2                    1 2013-03-11 2013-04-12     32.00      1.05  ...   \n",
       "3                    0 2013-05-19 2013-07-05     47.00      1.54  ...   \n",
       "4                    0 2013-02-16 2013-04-05     48.00      1.58  ...   \n",
       "...                ...        ...        ...       ...       ...  ...   \n",
       "78364                0 2013-02-16 2013-04-05     48.00      1.58  ...   \n",
       "78365                0 2012-11-19 2013-01-04     46.00      1.51  ...   \n",
       "78366                0 2013-02-16 2013-04-05     48.00      1.58  ...   \n",
       "78367                0 2013-05-19 2013-07-05     47.00      1.54  ...   \n",
       "78368                0 2013-05-19 2013-07-05     47.00      1.54  ...   \n",
       "\n",
       "       F_tot_disc_max_y  F_tot_disc_min_y  F_tot_disc_sum_y  F_tot_disc_std_y  \\\n",
       "0                 33.55              0.00          22777.59              8.32   \n",
       "1                 33.55              0.00          22777.59              8.32   \n",
       "2                 33.36              0.01          23196.83              8.58   \n",
       "3                 33.55              0.00          22777.59              8.32   \n",
       "4                 32.01              0.00          21276.40              8.12   \n",
       "...                 ...               ...               ...               ...   \n",
       "78364             32.01              0.00          21276.40              8.12   \n",
       "78365             35.78              0.00          24342.70              8.92   \n",
       "78366             32.01              0.00          21276.40              8.12   \n",
       "78367             33.55              0.00          22777.59              8.32   \n",
       "78368             33.55              0.00          22777.59              8.32   \n",
       "\n",
       "       F_coupon_to_item_mean_y  F_coupon_to_item_max_y  \\\n",
       "0                         7.64                   21.50   \n",
       "1                         7.64                   21.50   \n",
       "2                         7.26                   19.76   \n",
       "3                         7.64                   21.50   \n",
       "4                         7.58                   20.88   \n",
       "...                        ...                     ...   \n",
       "78364                     7.58                   20.88   \n",
       "78365                     7.58                   20.79   \n",
       "78366                     7.58                   20.88   \n",
       "78367                     7.64                   21.50   \n",
       "78368                     7.64                   21.50   \n",
       "\n",
       "       F_coupon_to_item_min_y  F_coupon_to_item_sum_y  F_coupon_to_item_std_y  \\\n",
       "0                        0.02                17797.57                    5.57   \n",
       "1                        0.02                17797.57                    5.57   \n",
       "2                        0.03                16053.55                    5.02   \n",
       "3                        0.02                17797.57                    5.57   \n",
       "4                        0.02                16666.73                    5.47   \n",
       "...                       ...                     ...                     ...   \n",
       "78364                    0.02                16666.73                    5.47   \n",
       "78365                    0.02                17979.40                    5.51   \n",
       "78366                    0.02                16666.73                    5.47   \n",
       "78367                    0.02                17797.57                    5.57   \n",
       "78368                    0.02                17797.57                    5.57   \n",
       "\n",
       "       F_coupon_to_item_quantile_y  \n",
       "0                             6.51  \n",
       "1                             6.51  \n",
       "2                             6.28  \n",
       "3                             6.51  \n",
       "4                             6.56  \n",
       "...                            ...  \n",
       "78364                         6.56  \n",
       "78365                         6.45  \n",
       "78366                         6.56  \n",
       "78367                         6.51  \n",
       "78368                         6.51  \n",
       "\n",
       "[78369 rows x 189 columns]"
      ]
     },
     "execution_count": 244,
     "metadata": {},
     "output_type": "execute_result"
    }
   ],
   "source": [
    "df_train.merge(df_train.drop(['id','redemption_status'],axis=1).groupby('campaign_id').mean().reset_index(),on='campaign_id',how='left')"
   ]
  },
  {
   "cell_type": "code",
   "execution_count": 245,
   "metadata": {},
   "outputs": [],
   "source": [
    "df_train=df_train.merge(df_train.drop(['id','redemption_status'],axis=1).groupby('coupon_id').mean().reset_index(),on='coupon_id',how='left')\n",
    "df_test=df_test.merge(df_test.drop(['id','redemption_status'],axis=1).groupby('coupon_id').mean().reset_index(),on='coupon_id',how='left')\n",
    "\n",
    "# df_train=df_train.merge(df_train.drop(['id','redemption_status'],axis=1).groupby('coupon_id_x').mean().reset_index(),on='coupon_id_x',how='left')\n",
    "# df_test=df_test.merge(df_test.drop(['id','redemption_status'],axis=1).groupby('coupon_id_x').mean().reset_index(),on='coupon_id_x',how='left')\n",
    "\n",
    "\n",
    "\n",
    "# df_train=new_df(df_train)\n",
    "# print(df_train.shape)\n",
    "\n",
    "# df_train.head()"
   ]
  },
  {
   "cell_type": "code",
   "execution_count": 246,
   "metadata": {},
   "outputs": [
    {
     "data": {
      "text/html": [
       "<div>\n",
       "<style scoped>\n",
       "    .dataframe tbody tr th:only-of-type {\n",
       "        vertical-align: middle;\n",
       "    }\n",
       "\n",
       "    .dataframe tbody tr th {\n",
       "        vertical-align: top;\n",
       "    }\n",
       "\n",
       "    .dataframe thead th {\n",
       "        text-align: right;\n",
       "    }\n",
       "</style>\n",
       "<table border=\"1\" class=\"dataframe\">\n",
       "  <thead>\n",
       "    <tr style=\"text-align: right;\">\n",
       "      <th></th>\n",
       "      <th>id</th>\n",
       "      <th>campaign_id_x</th>\n",
       "      <th>coupon_id</th>\n",
       "      <th>customer_id_x</th>\n",
       "      <th>redemption_status</th>\n",
       "      <th>campaign_type_x</th>\n",
       "      <th>start_date</th>\n",
       "      <th>end_date</th>\n",
       "      <th>diff_d_x</th>\n",
       "      <th>diff_m_x</th>\n",
       "      <th>...</th>\n",
       "      <th>F_tot_disc_max_y</th>\n",
       "      <th>F_tot_disc_min_y</th>\n",
       "      <th>F_tot_disc_sum_y</th>\n",
       "      <th>F_tot_disc_std_y</th>\n",
       "      <th>F_coupon_to_item_mean_y</th>\n",
       "      <th>F_coupon_to_item_max_y</th>\n",
       "      <th>F_coupon_to_item_min_y</th>\n",
       "      <th>F_coupon_to_item_sum_y</th>\n",
       "      <th>F_coupon_to_item_std_y</th>\n",
       "      <th>F_coupon_to_item_quantile_y</th>\n",
       "    </tr>\n",
       "  </thead>\n",
       "  <tbody>\n",
       "    <tr>\n",
       "      <td>44</td>\n",
       "      <td>72</td>\n",
       "      <td>13</td>\n",
       "      <td>413</td>\n",
       "      <td>276</td>\n",
       "      <td>1</td>\n",
       "      <td>0</td>\n",
       "      <td>2013-05-19</td>\n",
       "      <td>2013-07-05</td>\n",
       "      <td>47.00</td>\n",
       "      <td>1.54</td>\n",
       "      <td>...</td>\n",
       "      <td>33.99</td>\n",
       "      <td>0.00</td>\n",
       "      <td>26329.67</td>\n",
       "      <td>8.59</td>\n",
       "      <td>8.43</td>\n",
       "      <td>22.89</td>\n",
       "      <td>0.04</td>\n",
       "      <td>21165.84</td>\n",
       "      <td>5.95</td>\n",
       "      <td>7.23</td>\n",
       "    </tr>\n",
       "    <tr>\n",
       "      <td>181</td>\n",
       "      <td>299</td>\n",
       "      <td>13</td>\n",
       "      <td>960</td>\n",
       "      <td>467</td>\n",
       "      <td>1</td>\n",
       "      <td>0</td>\n",
       "      <td>2013-05-19</td>\n",
       "      <td>2013-07-05</td>\n",
       "      <td>47.00</td>\n",
       "      <td>1.54</td>\n",
       "      <td>...</td>\n",
       "      <td>41.55</td>\n",
       "      <td>0.00</td>\n",
       "      <td>24843.99</td>\n",
       "      <td>10.05</td>\n",
       "      <td>7.76</td>\n",
       "      <td>22.82</td>\n",
       "      <td>0.02</td>\n",
       "      <td>17768.97</td>\n",
       "      <td>5.96</td>\n",
       "      <td>6.35</td>\n",
       "    </tr>\n",
       "    <tr>\n",
       "      <td>217</td>\n",
       "      <td>359</td>\n",
       "      <td>26</td>\n",
       "      <td>797</td>\n",
       "      <td>214</td>\n",
       "      <td>1</td>\n",
       "      <td>0</td>\n",
       "      <td>2012-08-12</td>\n",
       "      <td>2012-09-21</td>\n",
       "      <td>40.00</td>\n",
       "      <td>1.31</td>\n",
       "      <td>...</td>\n",
       "      <td>43.64</td>\n",
       "      <td>0.00</td>\n",
       "      <td>39157.85</td>\n",
       "      <td>10.15</td>\n",
       "      <td>8.26</td>\n",
       "      <td>22.10</td>\n",
       "      <td>0.00</td>\n",
       "      <td>25078.55</td>\n",
       "      <td>5.61</td>\n",
       "      <td>7.42</td>\n",
       "    </tr>\n",
       "    <tr>\n",
       "      <td>237</td>\n",
       "      <td>387</td>\n",
       "      <td>13</td>\n",
       "      <td>754</td>\n",
       "      <td>1103</td>\n",
       "      <td>1</td>\n",
       "      <td>0</td>\n",
       "      <td>2013-05-19</td>\n",
       "      <td>2013-07-05</td>\n",
       "      <td>47.00</td>\n",
       "      <td>1.54</td>\n",
       "      <td>...</td>\n",
       "      <td>36.05</td>\n",
       "      <td>0.01</td>\n",
       "      <td>25913.44</td>\n",
       "      <td>8.90</td>\n",
       "      <td>7.77</td>\n",
       "      <td>22.08</td>\n",
       "      <td>0.02</td>\n",
       "      <td>19612.45</td>\n",
       "      <td>5.68</td>\n",
       "      <td>6.63</td>\n",
       "    </tr>\n",
       "    <tr>\n",
       "      <td>607</td>\n",
       "      <td>998</td>\n",
       "      <td>13</td>\n",
       "      <td>21</td>\n",
       "      <td>1457</td>\n",
       "      <td>1</td>\n",
       "      <td>0</td>\n",
       "      <td>2013-05-19</td>\n",
       "      <td>2013-07-05</td>\n",
       "      <td>47.00</td>\n",
       "      <td>1.54</td>\n",
       "      <td>...</td>\n",
       "      <td>37.19</td>\n",
       "      <td>0.00</td>\n",
       "      <td>24724.59</td>\n",
       "      <td>9.16</td>\n",
       "      <td>7.73</td>\n",
       "      <td>21.62</td>\n",
       "      <td>0.02</td>\n",
       "      <td>18004.73</td>\n",
       "      <td>5.57</td>\n",
       "      <td>6.63</td>\n",
       "    </tr>\n",
       "    <tr>\n",
       "      <td>...</td>\n",
       "      <td>...</td>\n",
       "      <td>...</td>\n",
       "      <td>...</td>\n",
       "      <td>...</td>\n",
       "      <td>...</td>\n",
       "      <td>...</td>\n",
       "      <td>...</td>\n",
       "      <td>...</td>\n",
       "      <td>...</td>\n",
       "      <td>...</td>\n",
       "      <td>...</td>\n",
       "      <td>...</td>\n",
       "      <td>...</td>\n",
       "      <td>...</td>\n",
       "      <td>...</td>\n",
       "      <td>...</td>\n",
       "      <td>...</td>\n",
       "      <td>...</td>\n",
       "      <td>...</td>\n",
       "      <td>...</td>\n",
       "      <td>...</td>\n",
       "    </tr>\n",
       "    <tr>\n",
       "      <td>77617</td>\n",
       "      <td>127381</td>\n",
       "      <td>13</td>\n",
       "      <td>982</td>\n",
       "      <td>1408</td>\n",
       "      <td>1</td>\n",
       "      <td>0</td>\n",
       "      <td>2013-05-19</td>\n",
       "      <td>2013-07-05</td>\n",
       "      <td>47.00</td>\n",
       "      <td>1.54</td>\n",
       "      <td>...</td>\n",
       "      <td>31.57</td>\n",
       "      <td>0.00</td>\n",
       "      <td>22105.53</td>\n",
       "      <td>7.83</td>\n",
       "      <td>7.36</td>\n",
       "      <td>19.93</td>\n",
       "      <td>0.04</td>\n",
       "      <td>16883.26</td>\n",
       "      <td>5.07</td>\n",
       "      <td>6.41</td>\n",
       "    </tr>\n",
       "    <tr>\n",
       "      <td>77729</td>\n",
       "      <td>127565</td>\n",
       "      <td>13</td>\n",
       "      <td>885</td>\n",
       "      <td>781</td>\n",
       "      <td>1</td>\n",
       "      <td>0</td>\n",
       "      <td>2013-05-19</td>\n",
       "      <td>2013-07-05</td>\n",
       "      <td>47.00</td>\n",
       "      <td>1.54</td>\n",
       "      <td>...</td>\n",
       "      <td>30.38</td>\n",
       "      <td>0.00</td>\n",
       "      <td>20081.39</td>\n",
       "      <td>7.71</td>\n",
       "      <td>7.62</td>\n",
       "      <td>20.98</td>\n",
       "      <td>0.02</td>\n",
       "      <td>17294.41</td>\n",
       "      <td>5.38</td>\n",
       "      <td>6.82</td>\n",
       "    </tr>\n",
       "    <tr>\n",
       "      <td>77830</td>\n",
       "      <td>127701</td>\n",
       "      <td>13</td>\n",
       "      <td>726</td>\n",
       "      <td>407</td>\n",
       "      <td>1</td>\n",
       "      <td>0</td>\n",
       "      <td>2013-05-19</td>\n",
       "      <td>2013-07-05</td>\n",
       "      <td>47.00</td>\n",
       "      <td>1.54</td>\n",
       "      <td>...</td>\n",
       "      <td>32.87</td>\n",
       "      <td>0.01</td>\n",
       "      <td>26021.57</td>\n",
       "      <td>8.50</td>\n",
       "      <td>7.74</td>\n",
       "      <td>21.41</td>\n",
       "      <td>0.02</td>\n",
       "      <td>18749.95</td>\n",
       "      <td>5.63</td>\n",
       "      <td>6.59</td>\n",
       "    </tr>\n",
       "    <tr>\n",
       "      <td>78060</td>\n",
       "      <td>128076</td>\n",
       "      <td>9</td>\n",
       "      <td>705</td>\n",
       "      <td>999</td>\n",
       "      <td>1</td>\n",
       "      <td>1</td>\n",
       "      <td>2013-03-11</td>\n",
       "      <td>2013-04-12</td>\n",
       "      <td>32.00</td>\n",
       "      <td>1.05</td>\n",
       "      <td>...</td>\n",
       "      <td>34.18</td>\n",
       "      <td>0.01</td>\n",
       "      <td>25406.92</td>\n",
       "      <td>8.65</td>\n",
       "      <td>8.00</td>\n",
       "      <td>21.82</td>\n",
       "      <td>0.03</td>\n",
       "      <td>19098.74</td>\n",
       "      <td>5.63</td>\n",
       "      <td>6.96</td>\n",
       "    </tr>\n",
       "    <tr>\n",
       "      <td>78102</td>\n",
       "      <td>128154</td>\n",
       "      <td>7</td>\n",
       "      <td>392</td>\n",
       "      <td>63</td>\n",
       "      <td>1</td>\n",
       "      <td>1</td>\n",
       "      <td>2013-02-02</td>\n",
       "      <td>2013-03-08</td>\n",
       "      <td>34.00</td>\n",
       "      <td>1.12</td>\n",
       "      <td>...</td>\n",
       "      <td>32.70</td>\n",
       "      <td>0.01</td>\n",
       "      <td>25566.43</td>\n",
       "      <td>7.96</td>\n",
       "      <td>7.90</td>\n",
       "      <td>22.01</td>\n",
       "      <td>0.02</td>\n",
       "      <td>22025.30</td>\n",
       "      <td>5.51</td>\n",
       "      <td>6.91</td>\n",
       "    </tr>\n",
       "  </tbody>\n",
       "</table>\n",
       "<p>729 rows × 189 columns</p>\n",
       "</div>"
      ],
      "text/plain": [
       "           id  campaign_id_x  coupon_id  customer_id_x  redemption_status  \\\n",
       "44         72             13        413            276                  1   \n",
       "181       299             13        960            467                  1   \n",
       "217       359             26        797            214                  1   \n",
       "237       387             13        754           1103                  1   \n",
       "607       998             13         21           1457                  1   \n",
       "...       ...            ...        ...            ...                ...   \n",
       "77617  127381             13        982           1408                  1   \n",
       "77729  127565             13        885            781                  1   \n",
       "77830  127701             13        726            407                  1   \n",
       "78060  128076              9        705            999                  1   \n",
       "78102  128154              7        392             63                  1   \n",
       "\n",
       "       campaign_type_x start_date   end_date  diff_d_x  diff_m_x  ...  \\\n",
       "44                   0 2013-05-19 2013-07-05     47.00      1.54  ...   \n",
       "181                  0 2013-05-19 2013-07-05     47.00      1.54  ...   \n",
       "217                  0 2012-08-12 2012-09-21     40.00      1.31  ...   \n",
       "237                  0 2013-05-19 2013-07-05     47.00      1.54  ...   \n",
       "607                  0 2013-05-19 2013-07-05     47.00      1.54  ...   \n",
       "...                ...        ...        ...       ...       ...  ...   \n",
       "77617                0 2013-05-19 2013-07-05     47.00      1.54  ...   \n",
       "77729                0 2013-05-19 2013-07-05     47.00      1.54  ...   \n",
       "77830                0 2013-05-19 2013-07-05     47.00      1.54  ...   \n",
       "78060                1 2013-03-11 2013-04-12     32.00      1.05  ...   \n",
       "78102                1 2013-02-02 2013-03-08     34.00      1.12  ...   \n",
       "\n",
       "       F_tot_disc_max_y  F_tot_disc_min_y  F_tot_disc_sum_y  F_tot_disc_std_y  \\\n",
       "44                33.99              0.00          26329.67              8.59   \n",
       "181               41.55              0.00          24843.99             10.05   \n",
       "217               43.64              0.00          39157.85             10.15   \n",
       "237               36.05              0.01          25913.44              8.90   \n",
       "607               37.19              0.00          24724.59              9.16   \n",
       "...                 ...               ...               ...               ...   \n",
       "77617             31.57              0.00          22105.53              7.83   \n",
       "77729             30.38              0.00          20081.39              7.71   \n",
       "77830             32.87              0.01          26021.57              8.50   \n",
       "78060             34.18              0.01          25406.92              8.65   \n",
       "78102             32.70              0.01          25566.43              7.96   \n",
       "\n",
       "       F_coupon_to_item_mean_y  F_coupon_to_item_max_y  \\\n",
       "44                        8.43                   22.89   \n",
       "181                       7.76                   22.82   \n",
       "217                       8.26                   22.10   \n",
       "237                       7.77                   22.08   \n",
       "607                       7.73                   21.62   \n",
       "...                        ...                     ...   \n",
       "77617                     7.36                   19.93   \n",
       "77729                     7.62                   20.98   \n",
       "77830                     7.74                   21.41   \n",
       "78060                     8.00                   21.82   \n",
       "78102                     7.90                   22.01   \n",
       "\n",
       "       F_coupon_to_item_min_y  F_coupon_to_item_sum_y  F_coupon_to_item_std_y  \\\n",
       "44                       0.04                21165.84                    5.95   \n",
       "181                      0.02                17768.97                    5.96   \n",
       "217                      0.00                25078.55                    5.61   \n",
       "237                      0.02                19612.45                    5.68   \n",
       "607                      0.02                18004.73                    5.57   \n",
       "...                       ...                     ...                     ...   \n",
       "77617                    0.04                16883.26                    5.07   \n",
       "77729                    0.02                17294.41                    5.38   \n",
       "77830                    0.02                18749.95                    5.63   \n",
       "78060                    0.03                19098.74                    5.63   \n",
       "78102                    0.02                22025.30                    5.51   \n",
       "\n",
       "       F_coupon_to_item_quantile_y  \n",
       "44                            7.23  \n",
       "181                           6.35  \n",
       "217                           7.42  \n",
       "237                           6.63  \n",
       "607                           6.63  \n",
       "...                            ...  \n",
       "77617                         6.41  \n",
       "77729                         6.82  \n",
       "77830                         6.59  \n",
       "78060                         6.96  \n",
       "78102                         6.91  \n",
       "\n",
       "[729 rows x 189 columns]"
      ]
     },
     "execution_count": 246,
     "metadata": {},
     "output_type": "execute_result"
    }
   ],
   "source": [
    "df_train[df_train.redemption_status==1]"
   ]
  },
  {
   "cell_type": "code",
   "execution_count": 247,
   "metadata": {},
   "outputs": [
    {
     "name": "stdout",
     "output_type": "stream",
     "text": [
      "Requirement already satisfied: lightgbm in c:\\users\\admin\\megha\\lib\\site-packages (2.3.1)\n",
      "Requirement already satisfied: scikit-learn in c:\\users\\admin\\megha\\lib\\site-packages (from lightgbm) (0.21.3)\n",
      "Requirement already satisfied: numpy in c:\\users\\admin\\megha\\lib\\site-packages (from lightgbm) (1.16.5)\n",
      "Requirement already satisfied: scipy in c:\\users\\admin\\megha\\lib\\site-packages (from lightgbm) (1.3.1)\n",
      "Requirement already satisfied: joblib>=0.11 in c:\\users\\admin\\megha\\lib\\site-packages (from scikit-learn->lightgbm) (0.13.2)\n",
      "Note: you may need to restart the kernel to use updated packages.\n"
     ]
    }
   ],
   "source": [
    "pip install lightgbm"
   ]
  },
  {
   "cell_type": "code",
   "execution_count": 248,
   "metadata": {},
   "outputs": [],
   "source": [
    "from lightgbm import LGBMClassifier\n",
    "from sklearn.model_selection import StratifiedKFold,train_test_split\n",
    "from sklearn.linear_model import LogisticRegression\n",
    "from sklearn.ensemble import RandomForestClassifier\n",
    "from sklearn.metrics import accuracy_score,confusion_matrix,roc_auc_score\n",
    "from sklearn.tree import DecisionTreeClassifier"
   ]
  },
  {
   "cell_type": "code",
   "execution_count": 249,
   "metadata": {},
   "outputs": [
    {
     "data": {
      "text/plain": [
       "Index(['id', 'campaign_id_x', 'coupon_id', 'customer_id_x',\n",
       "       'redemption_status', 'campaign_type_x', 'start_date', 'end_date',\n",
       "       'diff_d_x', 'diff_m_x',\n",
       "       ...\n",
       "       'F_tot_disc_max_y', 'F_tot_disc_min_y', 'F_tot_disc_sum_y',\n",
       "       'F_tot_disc_std_y', 'F_coupon_to_item_mean_y', 'F_coupon_to_item_max_y',\n",
       "       'F_coupon_to_item_min_y', 'F_coupon_to_item_sum_y',\n",
       "       'F_coupon_to_item_std_y', 'F_coupon_to_item_quantile_y'],\n",
       "      dtype='object', length=189)"
      ]
     },
     "execution_count": 249,
     "metadata": {},
     "output_type": "execute_result"
    }
   ],
   "source": [
    "df_train.columns"
   ]
  },
  {
   "cell_type": "code",
   "execution_count": 250,
   "metadata": {},
   "outputs": [],
   "source": [
    "col_to_drop=['id','redemption_status','start_date','end_date']\n",
    "\n",
    "X,y=df_train.drop(col_to_drop,axis=1),df_train['redemption_status']\n",
    "Xtest=df_test.drop(col_to_drop,axis=1)"
   ]
  },
  {
   "cell_type": "code",
   "execution_count": 251,
   "metadata": {},
   "outputs": [
    {
     "name": "stdout",
     "output_type": "stream",
     "text": [
      "(78369, 185) (0, 185)\n"
     ]
    }
   ],
   "source": [
    "print(X.shape,Xtest.shape)\n",
    "X_train,X_val,y_train,y_val = train_test_split(X,y,test_size=0.3,random_state = 1994,stratify=y)"
   ]
  },
  {
   "cell_type": "code",
   "execution_count": 252,
   "metadata": {},
   "outputs": [],
   "source": [
    "col=['campaign_id', 'coupon_id', 'customer_id', 'campaign_type','within_date', 'within_date_discount']"
   ]
  },
  {
   "cell_type": "markdown",
   "metadata": {},
   "source": [
    "# LGBM\n"
   ]
  },
  {
   "cell_type": "code",
   "execution_count": 253,
   "metadata": {},
   "outputs": [
    {
     "name": "stdout",
     "output_type": "stream",
     "text": [
      "Training until validation scores don't improve for 100 rounds\n",
      "[200]\ttraining's auc: 0.999972\ttraining's binary_logloss: 0.00636907\tvalid_1's auc: 0.987194\tvalid_1's binary_logloss: 0.0224831\n",
      "Early stopping, best iteration is:\n",
      "[213]\ttraining's auc: 0.999979\ttraining's binary_logloss: 0.00602207\tvalid_1's auc: 0.987426\tvalid_1's binary_logloss: 0.0224444\n",
      "0.9874258667212447\n"
     ]
    }
   ],
   "source": [
    "m=LGBMClassifier(n_estimators=1500,random_state=1994,learning_rate=0.03,reg_alpha=0.2,colsample_bytree=0.5,bagging_fraction=0.9)\n",
    "# m=RidgeCV(cv=4)\n",
    "m.fit(X_train,y_train,eval_set=[(X_train,y_train),(X_val, y_val.values)],eval_metric='auc', early_stopping_rounds=100,verbose=200)\n",
    "p=m.predict_proba(X_val)[:,-1]\n",
    "\n",
    "print(roc_auc_score(y_val,p))"
   ]
  },
  {
   "cell_type": "code",
   "execution_count": 254,
   "metadata": {},
   "outputs": [
    {
     "data": {
      "text/plain": [
       "array([ 51, 184,  71,  25,  45,  21,  11, 328,  35,  22,   5,   0,   2,\n",
       "        36,  62,  32,   0,  38,  33,  31,  58,  30,  38,  46,  53,   0,\n",
       "        71,  70,  71,  52,   0,  92,  85,  73,   6,  52,  28,  27,  21,\n",
       "        13,   1, 100, 142,   1,   0, 127,  67,   0,  43,  62,  32,  25,\n",
       "        49,  65,  63,   0,  36,  65,  82,  55,  72,  33,  42,   0,   0,\n",
       "        14,  30,   0,  31,  35,  36,  47,   0,  22,  29,  46,  30,  42,\n",
       "         0,  21,  44,  45,  40,  49,   4,  17,  40,  57,  31,   2,  57,\n",
       "        61,  38,  12,  53,  16,  30,  13,   3, 217,  14,  31,   3,  28,\n",
       "         3,  35,  41,  45,   0,  26,  63,  32,  31,  23,  29,  28,  36,\n",
       "         0,  46,  19,  41,  25,   0,  36,  34,  29,   1,  17,  15,  15,\n",
       "         3,  34,   2,  15,  57,  36,   0,  20,  46,   0,  27,  29,  27,\n",
       "        15,  41,  37,  46,   0,  14,  59,  33,  56,  25,  11,  41,   0,\n",
       "         0,  19,  17,   0,  12,  23,  20,  20,  26,  20,  32,  33,  20,\n",
       "        17,  45,  19,  30,  20,  26,  20,  59,  17,  16,  33,  29,  33,\n",
       "        15,  30,  27])"
      ]
     },
     "execution_count": 254,
     "metadata": {},
     "output_type": "execute_result"
    }
   ],
   "source": [
    "m.feature_importances_"
   ]
  },
  {
   "cell_type": "code",
   "execution_count": 255,
   "metadata": {},
   "outputs": [
    {
     "data": {
      "text/plain": [
       "array([[23257,    35],\n",
       "       [  156,    63]], dtype=int64)"
      ]
     },
     "execution_count": 255,
     "metadata": {},
     "output_type": "execute_result"
    }
   ],
   "source": [
    "confusion_matrix(y_val,p>0.5)"
   ]
  },
  {
   "cell_type": "code",
   "execution_count": 256,
   "metadata": {},
   "outputs": [
    {
     "data": {
      "text/plain": [
       "[(328, 'within_date_x'),\n",
       " (217, 'within_date_y'),\n",
       " (184, 'coupon_id'),\n",
       " (142, 'F_discount_bin_mean_x'),\n",
       " (127, 'F_discount_bin_sum_x'),\n",
       " (100, 'F_coupon_id_nunique_x'),\n",
       " (92, 'F_coupon_discount_min_x'),\n",
       " (85, 'F_coupon_discount_sum_x'),\n",
       " (82, 'F_price_per_quan_mean_x'),\n",
       " (73, 'F_coupon_discount_std_x'),\n",
       " (72, 'F_price_per_quan_min_x'),\n",
       " (71, 'customer_id_x'),\n",
       " (71, 'F_other_discount_std_x'),\n",
       " (71, 'F_other_discount_min_x'),\n",
       " (70, 'F_other_discount_sum_x'),\n",
       " (67, 'F_discount_bin_std_x'),\n",
       " (65, 'F_disc_percent_std_x'),\n",
       " (65, 'F_disc_percent_mean_x'),\n",
       " (63, 'F_quantity_std_y'),\n",
       " (63, 'F_disc_percent_max_x'),\n",
       " (62, 'F_quantity_mean_x'),\n",
       " (62, 'F_marked_price_max_x'),\n",
       " (61, 'F_coupon_to_item_std_x'),\n",
       " (59, 'F_tot_disc_min_y'),\n",
       " (59, 'F_disc_percent_std_y'),\n",
       " (58, 'F_selling_price_max_x'),\n",
       " (57, 'F_discount_bin_mean_y'),\n",
       " (57, 'F_coupon_to_item_sum_x'),\n",
       " (57, 'F_coupon_to_item_mean_x'),\n",
       " (56, 'F_price_per_quan_max_y'),\n",
       " (55, 'F_price_per_quan_max_x'),\n",
       " (53, 'customer_id_y'),\n",
       " (53, 'F_other_discount_mean_x'),\n",
       " (52, 'F_item_id_nunique_x'),\n",
       " (52, 'F_coupon_discount_mean_x'),\n",
       " (51, 'campaign_id_x'),\n",
       " (49, 'F_tot_disc_max_x'),\n",
       " (49, 'F_marked_price_std_x'),\n",
       " (47, 'F_coupon_aquired_max_x'),\n",
       " (46, 'F_selling_price_std_x'),\n",
       " (46, 'F_other_discount_min_y'),\n",
       " (46, 'F_discount_bin_std_y'),\n",
       " (46, 'F_disc_percent_max_y'),\n",
       " (46, 'F_coupon_aquired_quantile_x'),\n",
       " (45, 'diff_d_x'),\n",
       " (45, 'F_quantity_max_y'),\n",
       " (45, 'F_item_bought_quantile_x'),\n",
       " (45, 'F_item_bought_min_y'),\n",
       " (44, 'F_item_bought_std_x'),\n",
       " (43, 'F_marked_price_mean_x'),\n",
       " (42, 'F_price_per_quan_std_x'),\n",
       " (42, 'F_item_bought_max_x'),\n",
       " (41, 'F_quantity_mean_y'),\n",
       " (41, 'F_price_per_quan_std_y'),\n",
       " (41, 'F_other_discount_std_y'),\n",
       " (41, 'F_marked_price_std_y'),\n",
       " (40, 'F_tot_disc_std_x'),\n",
       " (40, 'F_tot_disc_mean_x'),\n",
       " (38, 'F_selling_price_sum_x'),\n",
       " (38, 'F_quantity_sum_x'),\n",
       " (38, 'F_coupon_to_item_quantile_x'),\n",
       " (37, 'F_disc_percent_mean_y'),\n",
       " (36, 'F_other_discount_mean_y'),\n",
       " (36, 'F_discount_bin_max_y'),\n",
       " (36, 'F_disc_percent_sum_x'),\n",
       " (36, 'F_date_w_nunique_x'),\n",
       " (36, 'F_coupon_discount_min_y'),\n",
       " (36, 'F_coupon_aquired_mean_x'),\n",
       " (35, 'F_marked_by_sale_std_x'),\n",
       " (35, 'F_date_w_nunique_y'),\n",
       " (35, 'F_date_d_count_x'),\n",
       " (34, 'F_coupon_discount_sum_y'),\n",
       " (34, 'F_category_nunique_y'),\n",
       " (33, 'F_quantity_std_x'),\n",
       " (33, 'F_price_per_quan_sum_x'),\n",
       " (33, 'F_price_per_quan_mean_y'),\n",
       " (33, 'F_coupon_to_item_min_y'),\n",
       " (33, 'F_coupon_to_item_mean_y'),\n",
       " (33, 'F_coupon_aquired_quantile_y'),\n",
       " (32, 'F_selling_price_mean_y'),\n",
       " (32, 'F_quantity_max_x'),\n",
       " (32, 'F_marked_price_min_x'),\n",
       " (32, 'F_coupon_aquired_std_y'),\n",
       " (31, 'F_selling_price_mean_x'),\n",
       " (31, 'F_selling_price_max_y'),\n",
       " (31, 'F_marked_by_sale_sum_x'),\n",
       " (31, 'F_date_d_nunique_y'),\n",
       " (31, 'F_coupon_to_item_max_x'),\n",
       " (30, 'diff_d_y'),\n",
       " (30, 'F_selling_price_min_x'),\n",
       " (30, 'F_marked_by_sale_max_x'),\n",
       " (30, 'F_item_bought_std_y'),\n",
       " (30, 'F_item_bought_mean_x'),\n",
       " (30, 'F_coupon_to_item_std_y'),\n",
       " (29, 'F_selling_price_sum_y'),\n",
       " (29, 'F_marked_price_max_y'),\n",
       " (29, 'F_coupon_to_item_max_y'),\n",
       " (29, 'F_coupon_discount_std_y'),\n",
       " (29, 'F_coupon_aquired_std_x'),\n",
       " (28, 'F_selling_price_std_y'),\n",
       " (28, 'F_date_m_nunique_y'),\n",
       " (28, 'F_brand_count_x'),\n",
       " (27, 'F_marked_price_min_y'),\n",
       " (27, 'F_marked_price_mean_y'),\n",
       " (27, 'F_coupon_to_item_quantile_y'),\n",
       " (27, 'F_brand_nunique_x'),\n",
       " (26, 'F_tot_disc_mean_y'),\n",
       " (26, 'F_quantity_sum_y'),\n",
       " (26, 'F_coupon_aquired_min_y'),\n",
       " (25, 'campaign_type_x'),\n",
       " (25, 'F_price_per_quan_min_y'),\n",
       " (25, 'F_marked_price_sum_x'),\n",
       " (25, 'F_coupon_discount_mean_y'),\n",
       " (23, 'F_selling_price_min_y'),\n",
       " (23, 'F_marked_by_sale_std_y'),\n",
       " (22, 'F_date_d_nunique_x'),\n",
       " (22, 'F_coupon_aquired_sum_x'),\n",
       " (21, 'diff_m_x'),\n",
       " (21, 'F_item_bought_sum_x'),\n",
       " (21, 'F_category_count_x'),\n",
       " (20, 'F_tot_disc_max_y'),\n",
       " (20, 'F_item_bought_quantile_y'),\n",
       " (20, 'F_item_bought_mean_y'),\n",
       " (20, 'F_discount_bin_sum_y'),\n",
       " (20, 'F_coupon_aquired_sum_y'),\n",
       " (20, 'F_coupon_aquired_mean_y'),\n",
       " (20, 'F_coupon_aquired_max_y'),\n",
       " (19, 'F_other_discount_sum_y'),\n",
       " (19, 'F_marked_by_sale_mean_y'),\n",
       " (19, 'F_item_bought_sum_y'),\n",
       " (17, 'F_tot_disc_sum_y'),\n",
       " (17, 'F_tot_disc_sum_x'),\n",
       " (17, 'F_marked_by_sale_max_y'),\n",
       " (17, 'F_item_id_nunique_y'),\n",
       " (17, 'F_item_bought_max_y'),\n",
       " (16, 'campaign_type_y'),\n",
       " (16, 'F_tot_disc_std_y'),\n",
       " (15, 'F_marked_price_sum_y'),\n",
       " (15, 'F_coupon_to_item_sum_y'),\n",
       " (15, 'F_coupon_id_nunique_y'),\n",
       " (15, 'F_brand_nunique_y'),\n",
       " (15, 'F_brand_count_y'),\n",
       " (14, 'F_marked_by_sale_mean_x'),\n",
       " (14, 'F_disc_percent_sum_y'),\n",
       " (14, 'F_date_d_count_y'),\n",
       " (13, 'diff_m_y'),\n",
       " (13, 'F_category_nunique_x'),\n",
       " (12, 'campaign_id_y'),\n",
       " (12, 'F_marked_by_sale_sum_y'),\n",
       " (11, 'diff_w_x'),\n",
       " (11, 'F_price_per_quan_sum_y'),\n",
       " (6, 'F_item_id_count_x'),\n",
       " (5, 'F_date_m_count_x'),\n",
       " (4, 'F_tot_disc_min_x'),\n",
       " (3, 'diff_w_y'),\n",
       " (3, 'F_date_w_count_y'),\n",
       " (3, 'F_date_m_count_y'),\n",
       " (3, 'F_category_count_y'),\n",
       " (2, 'F_date_w_count_x'),\n",
       " (2, 'F_coupon_to_item_min_x'),\n",
       " (2, 'F_coupon_id_count_y'),\n",
       " (1, 'F_item_id_count_y'),\n",
       " (1, 'F_discount_bin_max_x'),\n",
       " (1, 'F_coupon_id_count_x'),\n",
       " (0, 'F_quantity_min_y'),\n",
       " (0, 'F_quantity_min_x'),\n",
       " (0, 'F_other_discount_max_y'),\n",
       " (0, 'F_other_discount_max_x'),\n",
       " (0, 'F_marked_by_sale_min_y'),\n",
       " (0, 'F_marked_by_sale_min_x'),\n",
       " (0, 'F_item_bought_min_x'),\n",
       " (0, 'F_discount_bin_quantile_y'),\n",
       " (0, 'F_discount_bin_quantile_x'),\n",
       " (0, 'F_discount_bin_min_y'),\n",
       " (0, 'F_discount_bin_min_x'),\n",
       " (0, 'F_disc_percent_min_y'),\n",
       " (0, 'F_disc_percent_min_x'),\n",
       " (0, 'F_date_m_nunique_x'),\n",
       " (0, 'F_coupon_discount_max_y'),\n",
       " (0, 'F_coupon_discount_max_x'),\n",
       " (0, 'F_coupon_aquired_min_x'),\n",
       " (0, 'F_brand_type_nunique_y'),\n",
       " (0, 'F_brand_type_nunique_x'),\n",
       " (0, 'F_brand_type_count_y'),\n",
       " (0, 'F_brand_type_count_x')]"
      ]
     },
     "execution_count": 256,
     "metadata": {},
     "output_type": "execute_result"
    }
   ],
   "source": [
    "sorted(zip(m.feature_importances_,X_train),reverse=True)"
   ]
  },
  {
   "cell_type": "markdown",
   "metadata": {},
   "source": [
    "# StratifiedKFold LGBM + Feature Selection\n"
   ]
  },
  {
   "cell_type": "code",
   "execution_count": 257,
   "metadata": {},
   "outputs": [
    {
     "name": "stdout",
     "output_type": "stream",
     "text": [
      "Training until validation scores don't improve for 200 rounds\n",
      "[200]\ttraining's auc: 0.999884\ttraining's binary_logloss: 0.00750694\tvalid_1's auc: 0.988641\tvalid_1's binary_logloss: 0.0228227\n",
      "Early stopping, best iteration is:\n",
      "[176]\ttraining's auc: 0.999824\ttraining's binary_logloss: 0.00820007\tvalid_1's auc: 0.98856\tvalid_1's binary_logloss: 0.0227544\n",
      "err:  0.9885597735950259\n",
      "Training until validation scores don't improve for 200 rounds\n",
      "[200]\ttraining's auc: 0.999877\ttraining's binary_logloss: 0.00749019\tvalid_1's auc: 0.984975\tvalid_1's binary_logloss: 0.024031\n",
      "Early stopping, best iteration is:\n",
      "[178]\ttraining's auc: 0.999817\ttraining's binary_logloss: 0.00813159\tvalid_1's auc: 0.984953\tvalid_1's binary_logloss: 0.0239504\n",
      "err:  0.984953385135469\n",
      "Training until validation scores don't improve for 200 rounds\n",
      "[200]\ttraining's auc: 0.999904\ttraining's binary_logloss: 0.00739328\tvalid_1's auc: 0.985527\tvalid_1's binary_logloss: 0.0240003\n",
      "Early stopping, best iteration is:\n",
      "[187]\ttraining's auc: 0.999873\ttraining's binary_logloss: 0.00777002\tvalid_1's auc: 0.985532\tvalid_1's binary_logloss: 0.0239549\n",
      "err:  0.9855321010917971\n",
      "Training until validation scores don't improve for 200 rounds\n",
      "[200]\ttraining's auc: 0.999891\ttraining's binary_logloss: 0.00741853\tvalid_1's auc: 0.988359\tvalid_1's binary_logloss: 0.0230561\n",
      "[400]\ttraining's auc: 0.999998\ttraining's binary_logloss: 0.00382586\tvalid_1's auc: 0.988734\tvalid_1's binary_logloss: 0.0242856\n",
      "Early stopping, best iteration is:\n",
      "[200]\ttraining's auc: 0.999891\ttraining's binary_logloss: 0.00741853\tvalid_1's auc: 0.988359\tvalid_1's binary_logloss: 0.0230561\n",
      "err:  0.9883586345126436\n",
      "Training until validation scores don't improve for 200 rounds\n",
      "[200]\ttraining's auc: 0.999888\ttraining's binary_logloss: 0.00742146\tvalid_1's auc: 0.986808\tvalid_1's binary_logloss: 0.0239295\n",
      "[400]\ttraining's auc: 0.999997\ttraining's binary_logloss: 0.00385572\tvalid_1's auc: 0.987432\tvalid_1's binary_logloss: 0.0243577\n",
      "Early stopping, best iteration is:\n",
      "[205]\ttraining's auc: 0.999897\ttraining's binary_logloss: 0.00729151\tvalid_1's auc: 0.98681\tvalid_1's binary_logloss: 0.0239083\n",
      "err:  0.9868095107027165\n",
      "Training until validation scores don't improve for 200 rounds\n",
      "[200]\ttraining's auc: 0.999895\ttraining's binary_logloss: 0.00728356\tvalid_1's auc: 0.984705\tvalid_1's binary_logloss: 0.0259441\n",
      "Early stopping, best iteration is:\n",
      "[130]\ttraining's auc: 0.999612\ttraining's binary_logloss: 0.00986018\tvalid_1's auc: 0.984908\tvalid_1's binary_logloss: 0.0256115\n",
      "err:  0.9849075113096625\n",
      "Training until validation scores don't improve for 200 rounds\n",
      "[200]\ttraining's auc: 0.99989\ttraining's binary_logloss: 0.007454\tvalid_1's auc: 0.987325\tvalid_1's binary_logloss: 0.0229544\n",
      "Early stopping, best iteration is:\n",
      "[188]\ttraining's auc: 0.99986\ttraining's binary_logloss: 0.00781986\tvalid_1's auc: 0.987249\tvalid_1's binary_logloss: 0.0228728\n",
      "err:  0.9872488408037094\n",
      "Training until validation scores don't improve for 200 rounds\n",
      "[200]\ttraining's auc: 0.999893\ttraining's binary_logloss: 0.00750191\tvalid_1's auc: 0.991215\tvalid_1's binary_logloss: 0.0207225\n",
      "Early stopping, best iteration is:\n",
      "[170]\ttraining's auc: 0.99981\ttraining's binary_logloss: 0.00840185\tvalid_1's auc: 0.991365\tvalid_1's binary_logloss: 0.0207365\n",
      "err:  0.9913651344808848\n",
      "Training until validation scores don't improve for 200 rounds\n",
      "[200]\ttraining's auc: 0.999882\ttraining's binary_logloss: 0.0075938\tvalid_1's auc: 0.99004\tvalid_1's binary_logloss: 0.0209463\n",
      "[400]\ttraining's auc: 0.999997\ttraining's binary_logloss: 0.00392617\tvalid_1's auc: 0.990125\tvalid_1's binary_logloss: 0.0215707\n",
      "Early stopping, best iteration is:\n",
      "[219]\ttraining's auc: 0.999916\ttraining's binary_logloss: 0.00708939\tvalid_1's auc: 0.990114\tvalid_1's binary_logloss: 0.0208757\n",
      "err:  0.9901141905386999\n",
      "Training until validation scores don't improve for 200 rounds\n",
      "[200]\ttraining's auc: 0.999884\ttraining's binary_logloss: 0.0075013\tvalid_1's auc: 0.986603\tvalid_1's binary_logloss: 0.0225974\n",
      "[400]\ttraining's auc: 0.999997\ttraining's binary_logloss: 0.00389974\tvalid_1's auc: 0.987959\tvalid_1's binary_logloss: 0.02265\n",
      "Early stopping, best iteration is:\n",
      "[272]\ttraining's auc: 0.999972\ttraining's binary_logloss: 0.00582607\tvalid_1's auc: 0.987177\tvalid_1's binary_logloss: 0.022501\n",
      "err:  0.9871772854771309\n"
     ]
    }
   ],
   "source": [
    "err=[]\n",
    "y_pred_tot=[]\n",
    "\n",
    "feature_importance_df = pd.DataFrame()\n",
    "\n",
    "from sklearn.model_selection import KFold,StratifiedKFold\n",
    "fold=StratifiedKFold(n_splits=10,shuffle=True,random_state=1994)\n",
    "i=1\n",
    "for train_index, test_index in fold.split(X,y):\n",
    "    X_train, X_test = X.iloc[train_index], X.iloc[test_index]\n",
    "    y_train, y_test = y[train_index], y[test_index]\n",
    "    m=LGBMClassifier(n_estimators=5000,random_state=1994,learning_rate=0.03,reg_alpha=0.2,colsample_bytree=0.5)\n",
    "    m.fit(X_train,y_train,eval_set=[(X_train,y_train),(X_test, y_test)],eval_metric='auc', early_stopping_rounds=200,verbose=200)\n",
    "    \n",
    "    preds=m.predict_proba(X_test,num_iteration=m.best_iteration_)[:,-1]\n",
    "    \n",
    "    fold_importance_df = pd.DataFrame()\n",
    "    fold_importance_df[\"feature\"] = X_train.columns\n",
    "    fold_importance_df[\"importance\"] = m.feature_importances_\n",
    "    fold_importance_df[\"fold\"] = i + 1\n",
    "    feature_importance_df = pd.concat([feature_importance_df, fold_importance_df], axis=0)\n",
    "    \n",
    "    \n",
    "    print(\"err: \",roc_auc_score(y_test,preds))\n",
    "    err.append(roc_auc_score(y_test,preds))\n",
    "    p = m.predict_proba(X_test)[:,-1]\n",
    "    i=i+1\n",
    "    y_pred_tot.append(p)"
   ]
  },
  {
   "cell_type": "code",
   "execution_count": 258,
   "metadata": {},
   "outputs": [
    {
     "data": {
      "text/plain": [
       "0.987502636764774"
      ]
     },
     "execution_count": 258,
     "metadata": {},
     "output_type": "execute_result"
    }
   ],
   "source": [
    "np.mean(err,0)"
   ]
  },
  {
   "cell_type": "markdown",
   "metadata": {},
   "source": [
    "# Feature Selection & Importance\n"
   ]
  },
  {
   "cell_type": "code",
   "execution_count": 259,
   "metadata": {},
   "outputs": [
    {
     "data": {
      "text/html": [
       "<div>\n",
       "<style scoped>\n",
       "    .dataframe tbody tr th:only-of-type {\n",
       "        vertical-align: middle;\n",
       "    }\n",
       "\n",
       "    .dataframe tbody tr th {\n",
       "        vertical-align: top;\n",
       "    }\n",
       "\n",
       "    .dataframe thead th {\n",
       "        text-align: right;\n",
       "    }\n",
       "</style>\n",
       "<table border=\"1\" class=\"dataframe\">\n",
       "  <thead>\n",
       "    <tr style=\"text-align: right;\">\n",
       "      <th></th>\n",
       "      <th>feature</th>\n",
       "      <th>importance</th>\n",
       "    </tr>\n",
       "  </thead>\n",
       "  <tbody>\n",
       "    <tr>\n",
       "      <td>0</td>\n",
       "      <td>within_date_x</td>\n",
       "      <td>284.20</td>\n",
       "    </tr>\n",
       "    <tr>\n",
       "      <td>1</td>\n",
       "      <td>within_date_y</td>\n",
       "      <td>201.20</td>\n",
       "    </tr>\n",
       "    <tr>\n",
       "      <td>2</td>\n",
       "      <td>coupon_id</td>\n",
       "      <td>182.30</td>\n",
       "    </tr>\n",
       "    <tr>\n",
       "      <td>3</td>\n",
       "      <td>F_discount_bin_sum_x</td>\n",
       "      <td>132.50</td>\n",
       "    </tr>\n",
       "    <tr>\n",
       "      <td>4</td>\n",
       "      <td>F_discount_bin_mean_x</td>\n",
       "      <td>127.50</td>\n",
       "    </tr>\n",
       "    <tr>\n",
       "      <td>...</td>\n",
       "      <td>...</td>\n",
       "      <td>...</td>\n",
       "    </tr>\n",
       "    <tr>\n",
       "      <td>145</td>\n",
       "      <td>F_brand_count_y</td>\n",
       "      <td>11.70</td>\n",
       "    </tr>\n",
       "    <tr>\n",
       "      <td>146</td>\n",
       "      <td>F_brand_nunique_y</td>\n",
       "      <td>11.30</td>\n",
       "    </tr>\n",
       "    <tr>\n",
       "      <td>147</td>\n",
       "      <td>F_date_d_count_y</td>\n",
       "      <td>9.90</td>\n",
       "    </tr>\n",
       "    <tr>\n",
       "      <td>148</td>\n",
       "      <td>diff_m_y</td>\n",
       "      <td>9.70</td>\n",
       "    </tr>\n",
       "    <tr>\n",
       "      <td>149</td>\n",
       "      <td>F_marked_by_sale_sum_y</td>\n",
       "      <td>9.10</td>\n",
       "    </tr>\n",
       "  </tbody>\n",
       "</table>\n",
       "<p>150 rows × 2 columns</p>\n",
       "</div>"
      ],
      "text/plain": [
       "                    feature  importance\n",
       "0             within_date_x      284.20\n",
       "1             within_date_y      201.20\n",
       "2                 coupon_id      182.30\n",
       "3      F_discount_bin_sum_x      132.50\n",
       "4     F_discount_bin_mean_x      127.50\n",
       "..                      ...         ...\n",
       "145         F_brand_count_y       11.70\n",
       "146       F_brand_nunique_y       11.30\n",
       "147        F_date_d_count_y        9.90\n",
       "148                diff_m_y        9.70\n",
       "149  F_marked_by_sale_sum_y        9.10\n",
       "\n",
       "[150 rows x 2 columns]"
      ]
     },
     "execution_count": 259,
     "metadata": {},
     "output_type": "execute_result"
    }
   ],
   "source": [
    "all_features = feature_importance_df[[\"feature\", \"importance\"]].groupby(\"feature\").mean().sort_values(by=\"importance\", ascending=False)\n",
    "all_features.reset_index(inplace=True)\n",
    "important_features = list(all_features[0:150]['feature'])\n",
    "all_features[0:150]"
   ]
  },
  {
   "cell_type": "markdown",
   "metadata": {},
   "source": [
    "# Removing Most Correlated Features"
   ]
  },
  {
   "cell_type": "code",
   "execution_count": 260,
   "metadata": {},
   "outputs": [
    {
     "name": "stdout",
     "output_type": "stream",
     "text": [
      "33\n",
      "['F_coupon_aquired_std_x', 'F_marked_by_sale_max_x', 'F_coupon_aquired_quantile_x', 'F_item_bought_mean_x', 'F_item_bought_max_x', 'F_marked_price_sum_x', 'F_price_per_quan_sum_x', 'F_marked_by_sale_std_x', 'F_date_d_count_x', 'F_brand_count_x', 'F_marked_by_sale_mean_x', 'F_marked_by_sale_std_y', 'F_item_bought_quantile_y', 'F_coupon_to_item_sum_y', 'F_coupon_aquired_sum_x', 'F_item_bought_sum_y', 'diff_m_x', 'F_disc_percent_sum_y', 'F_marked_by_sale_max_y', 'F_coupon_aquired_std_y', 'F_marked_by_sale_mean_y', 'F_marked_by_sale_sum_x', 'F_item_id_nunique_y', 'F_price_per_quan_sum_y', 'F_marked_price_sum_y', 'F_item_bought_max_y', 'F_item_bought_mean_y', 'F_category_count_x', 'F_brand_count_y', 'F_brand_nunique_y', 'F_date_d_count_y', 'diff_m_y', 'F_marked_by_sale_sum_y']\n"
     ]
    }
   ],
   "source": [
    "df1 = X[important_features]\n",
    "corr_matrix = df1.corr().abs()\n",
    "\n",
    "# Select upper triangle of correlation matrix\n",
    "upper = corr_matrix.where(np.triu(np.ones(corr_matrix.shape), k=1).astype(np.bool))\n",
    "\n",
    "# Find index of feature columns with correlation greater than 0.95\n",
    "high_cor = [column for column in upper.columns if any(upper[column] > 0.98)]\n",
    "print(len(high_cor))\n",
    "print(high_cor)"
   ]
  },
  {
   "cell_type": "code",
   "execution_count": 261,
   "metadata": {},
   "outputs": [
    {
     "name": "stdout",
     "output_type": "stream",
     "text": [
      "117\n",
      "['within_date_x', 'within_date_y', 'coupon_id', 'F_discount_bin_sum_x', 'F_discount_bin_mean_x', 'F_price_per_quan_mean_x', 'F_coupon_discount_sum_x', 'F_coupon_discount_std_x', 'customer_id_x', 'F_coupon_id_nunique_x', 'F_other_discount_std_x', 'F_disc_percent_max_x', 'F_price_per_quan_min_x', 'F_discount_bin_std_x', 'F_coupon_discount_min_x', 'F_other_discount_min_x', 'F_price_per_quan_max_x', 'F_marked_price_std_x', 'F_disc_percent_std_x', 'F_selling_price_max_x', 'F_disc_percent_mean_x', 'F_coupon_discount_mean_x', 'F_tot_disc_std_x', 'F_marked_price_max_x', 'F_price_per_quan_max_y', 'F_price_per_quan_std_y', 'F_selling_price_mean_x', 'F_quantity_std_y', 'F_discount_bin_mean_y', 'F_other_discount_min_y', 'F_marked_price_min_x', 'F_tot_disc_max_x', 'F_item_bought_quantile_x', 'F_coupon_to_item_std_x', 'F_quantity_sum_x', 'F_quantity_max_x', 'F_other_discount_mean_x', 'F_price_per_quan_std_x', 'F_disc_percent_max_y', 'campaign_id_x', 'F_item_bought_min_y', 'F_price_per_quan_mean_y', 'F_item_bought_std_x', 'F_date_w_nunique_x', 'F_coupon_aquired_max_x', 'F_tot_disc_min_y', 'F_quantity_std_x', 'F_tot_disc_mean_x', 'F_coupon_to_item_max_x', 'F_quantity_mean_x', 'F_date_m_nunique_y', 'diff_d_x', 'F_selling_price_std_x', 'customer_id_y', 'F_disc_percent_std_y', 'F_discount_bin_max_y', 'F_coupon_aquired_mean_x', 'F_coupon_discount_min_y', 'campaign_type_x', 'F_coupon_to_item_mean_x', 'F_marked_price_min_y', 'F_other_discount_sum_x', 'F_selling_price_min_x', 'F_item_id_nunique_x', 'F_selling_price_sum_x', 'F_marked_price_mean_x', 'F_coupon_discount_std_y', 'F_disc_percent_sum_x', 'F_price_per_quan_min_y', 'F_quantity_max_y', 'F_marked_price_max_y', 'F_brand_nunique_x', 'F_disc_percent_mean_y', 'F_selling_price_std_y', 'F_quantity_mean_y', 'F_other_discount_sum_y', 'F_category_nunique_y', 'F_other_discount_std_y', 'F_coupon_discount_mean_y', 'F_date_d_nunique_y', 'F_selling_price_max_y', 'F_coupon_to_item_quantile_y', 'F_coupon_to_item_sum_x', 'F_other_discount_mean_y', 'F_tot_disc_sum_x', 'F_coupon_to_item_std_y', 'F_coupon_to_item_quantile_x', 'F_coupon_to_item_max_y', 'F_coupon_aquired_min_y', 'F_coupon_to_item_min_y', 'F_quantity_sum_y', 'F_selling_price_mean_y', 'F_coupon_aquired_quantile_y', 'F_discount_bin_sum_y', 'F_marked_price_mean_y', 'F_discount_bin_std_y', 'F_coupon_to_item_mean_y', 'F_coupon_discount_sum_y', 'F_date_w_nunique_y', 'F_marked_price_std_y', 'F_coupon_id_nunique_y', 'diff_d_y', 'F_selling_price_min_y', 'F_tot_disc_sum_y', 'F_category_nunique_x', 'F_item_bought_sum_x', 'F_tot_disc_mean_y', 'F_coupon_aquired_sum_y', 'F_item_bought_std_y', 'F_tot_disc_max_y', 'F_selling_price_sum_y', 'campaign_id_y', 'F_tot_disc_std_y', 'F_coupon_aquired_max_y', 'campaign_type_y', 'F_date_d_nunique_x', 'F_coupon_aquired_mean_y']\n"
     ]
    }
   ],
   "source": [
    "features = [i for i in important_features if i not in high_cor]\n",
    "print(len(features))\n",
    "print(features)"
   ]
  },
  {
   "cell_type": "code",
   "execution_count": 262,
   "metadata": {},
   "outputs": [
    {
     "name": "stdout",
     "output_type": "stream",
     "text": [
      "Training until validation scores don't improve for 200 rounds\n",
      "[200]\ttraining's auc: 0.999884\ttraining's binary_logloss: 0.00750694\tvalid_1's auc: 0.988641\tvalid_1's binary_logloss: 0.0228227\n",
      "Early stopping, best iteration is:\n",
      "[176]\ttraining's auc: 0.999824\ttraining's binary_logloss: 0.00820007\tvalid_1's auc: 0.98856\tvalid_1's binary_logloss: 0.0227544\n",
      "err:  0.9885597735950259\n",
      "Training until validation scores don't improve for 200 rounds\n",
      "[200]\ttraining's auc: 0.999877\ttraining's binary_logloss: 0.00749019\tvalid_1's auc: 0.984975\tvalid_1's binary_logloss: 0.024031\n",
      "Early stopping, best iteration is:\n",
      "[178]\ttraining's auc: 0.999817\ttraining's binary_logloss: 0.00813159\tvalid_1's auc: 0.984953\tvalid_1's binary_logloss: 0.0239504\n",
      "err:  0.984953385135469\n",
      "Training until validation scores don't improve for 200 rounds\n",
      "[200]\ttraining's auc: 0.999904\ttraining's binary_logloss: 0.00739328\tvalid_1's auc: 0.985527\tvalid_1's binary_logloss: 0.0240003\n",
      "Early stopping, best iteration is:\n",
      "[187]\ttraining's auc: 0.999873\ttraining's binary_logloss: 0.00777002\tvalid_1's auc: 0.985532\tvalid_1's binary_logloss: 0.0239549\n",
      "err:  0.9855321010917971\n",
      "Training until validation scores don't improve for 200 rounds\n",
      "[200]\ttraining's auc: 0.999891\ttraining's binary_logloss: 0.00741853\tvalid_1's auc: 0.988359\tvalid_1's binary_logloss: 0.0230561\n",
      "[400]\ttraining's auc: 0.999998\ttraining's binary_logloss: 0.00382586\tvalid_1's auc: 0.988734\tvalid_1's binary_logloss: 0.0242856\n",
      "Early stopping, best iteration is:\n",
      "[200]\ttraining's auc: 0.999891\ttraining's binary_logloss: 0.00741853\tvalid_1's auc: 0.988359\tvalid_1's binary_logloss: 0.0230561\n",
      "err:  0.9883586345126436\n",
      "Training until validation scores don't improve for 200 rounds\n",
      "[200]\ttraining's auc: 0.999888\ttraining's binary_logloss: 0.00742146\tvalid_1's auc: 0.986808\tvalid_1's binary_logloss: 0.0239295\n",
      "[400]\ttraining's auc: 0.999997\ttraining's binary_logloss: 0.00385572\tvalid_1's auc: 0.987432\tvalid_1's binary_logloss: 0.0243577\n",
      "Early stopping, best iteration is:\n",
      "[205]\ttraining's auc: 0.999897\ttraining's binary_logloss: 0.00729151\tvalid_1's auc: 0.98681\tvalid_1's binary_logloss: 0.0239083\n",
      "err:  0.9868095107027165\n",
      "Training until validation scores don't improve for 200 rounds\n",
      "[200]\ttraining's auc: 0.999895\ttraining's binary_logloss: 0.00728356\tvalid_1's auc: 0.984705\tvalid_1's binary_logloss: 0.0259441\n",
      "Early stopping, best iteration is:\n",
      "[130]\ttraining's auc: 0.999612\ttraining's binary_logloss: 0.00986018\tvalid_1's auc: 0.984908\tvalid_1's binary_logloss: 0.0256115\n",
      "err:  0.9849075113096625\n",
      "Training until validation scores don't improve for 200 rounds\n",
      "[200]\ttraining's auc: 0.99989\ttraining's binary_logloss: 0.007454\tvalid_1's auc: 0.987325\tvalid_1's binary_logloss: 0.0229544\n",
      "Early stopping, best iteration is:\n",
      "[188]\ttraining's auc: 0.99986\ttraining's binary_logloss: 0.00781986\tvalid_1's auc: 0.987249\tvalid_1's binary_logloss: 0.0228728\n",
      "err:  0.9872488408037094\n",
      "Training until validation scores don't improve for 200 rounds\n",
      "[200]\ttraining's auc: 0.999893\ttraining's binary_logloss: 0.00750191\tvalid_1's auc: 0.991215\tvalid_1's binary_logloss: 0.0207225\n",
      "Early stopping, best iteration is:\n",
      "[170]\ttraining's auc: 0.99981\ttraining's binary_logloss: 0.00840185\tvalid_1's auc: 0.991365\tvalid_1's binary_logloss: 0.0207365\n",
      "err:  0.9913651344808848\n",
      "Training until validation scores don't improve for 200 rounds\n",
      "[200]\ttraining's auc: 0.999882\ttraining's binary_logloss: 0.0075938\tvalid_1's auc: 0.99004\tvalid_1's binary_logloss: 0.0209463\n",
      "[400]\ttraining's auc: 0.999997\ttraining's binary_logloss: 0.00392617\tvalid_1's auc: 0.990125\tvalid_1's binary_logloss: 0.0215707\n",
      "Early stopping, best iteration is:\n",
      "[219]\ttraining's auc: 0.999916\ttraining's binary_logloss: 0.00708939\tvalid_1's auc: 0.990114\tvalid_1's binary_logloss: 0.0208757\n",
      "err:  0.9901141905386999\n",
      "Training until validation scores don't improve for 200 rounds\n",
      "[200]\ttraining's auc: 0.999884\ttraining's binary_logloss: 0.0075013\tvalid_1's auc: 0.986603\tvalid_1's binary_logloss: 0.0225974\n",
      "[400]\ttraining's auc: 0.999997\ttraining's binary_logloss: 0.00389974\tvalid_1's auc: 0.987959\tvalid_1's binary_logloss: 0.02265\n",
      "Early stopping, best iteration is:\n",
      "[272]\ttraining's auc: 0.999972\ttraining's binary_logloss: 0.00582607\tvalid_1's auc: 0.987177\tvalid_1's binary_logloss: 0.022501\n",
      "err:  0.9871772854771309\n"
     ]
    }
   ],
   "source": [
    "err=[]\n",
    "y_pred_tot=[]\n",
    "\n",
    "from sklearn.model_selection import KFold,StratifiedKFold\n",
    "fold=StratifiedKFold(n_splits=10,shuffle=True,random_state=1994)\n",
    "i=1\n",
    "for train_index, test_index in fold.split(X,y):\n",
    "    X_train, X_test = X.iloc[train_index], X.iloc[test_index]\n",
    "    y_train, y_test = y[train_index], y[test_index]\n",
    "    m=LGBMClassifier(n_estimators=5000,random_state=1994,learning_rate=0.03,reg_alpha=0.2,colsample_bytree=0.5)\n",
    "    m.fit(X_train,y_train,eval_set=[(X_train,y_train),(X_test, y_test)],eval_metric='auc', early_stopping_rounds=200,verbose=200)\n",
    "    \n",
    "    preds=m.predict_proba(X_test,num_iteration=m.best_iteration_)[:,-1]\n",
    "    \n",
    "    print(\"err: \",roc_auc_score(y_test,preds))\n",
    "    err.append(roc_auc_score(y_test,preds))\n",
    "    p = m.predict_proba(X_test)[:,-1]\n",
    "    i=i+1\n",
    "    y_pred_tot.append(p)"
   ]
  },
  {
   "cell_type": "code",
   "execution_count": 263,
   "metadata": {},
   "outputs": [
    {
     "data": {
      "text/plain": [
       "0.987502636764774"
      ]
     },
     "execution_count": 263,
     "metadata": {},
     "output_type": "execute_result"
    }
   ],
   "source": [
    "np.mean(err,0)"
   ]
  },
  {
   "cell_type": "markdown",
   "metadata": {},
   "source": [
    "-My prrocessor took a lot of time in xgboost but i have verified it"
   ]
  },
  {
   "cell_type": "raw",
   "metadata": {},
   "source": [
    "import xgboost as xgb\n",
    "#xgb_clf = xgb.XGBClassifier()\n",
    "from xgboost import XGBClassifier\n",
    "\n",
    "errxgb=[]\n",
    "y_pred_tot_xgb=[]\n",
    "from sklearn.model_selection import KFold,StratifiedKFold\n",
    "fold=StratifiedKFold(n_splits=10,shuffle=True,random_state=1994)\n",
    "i=1\n",
    "for train_index, test_index in fold.split(X,y):\n",
    "    X_train, X_test = X.iloc[train_index], X.iloc[test_index]\n",
    "    y_train, y_test = y[train_index], y[test_index]\n",
    "    m=XGBClassifier(n_estimators=5000,random_state=1994,eval_metric='auc',learning_rate=0.03)\n",
    "    m.fit(X_train,y_train,eval_set=[(X_train,y_train),(X_test, y_test)], early_stopping_rounds=200,verbose=200)\n",
    "    preds=m.predict_proba(X_test)[:,-1]\n",
    "    print(\"err_xgb: \",roc_auc_score(y_test,preds))\n",
    "    errxgb.append(roc_auc_score(y_test,preds))\n",
    "    p = m.predict_proba(X_test)[:,-1]\n",
    "    i=i+1\n",
    "    y_pred_tot_xgb.append(p)"
   ]
  },
  {
   "cell_type": "raw",
   "metadata": {},
   "source": [
    "np.mean(errxgb,0)"
   ]
  },
  {
   "cell_type": "code",
   "execution_count": null,
   "metadata": {},
   "outputs": [],
   "source": [
    "train['campaign_type'] = train['campaign_type'].factorize()[0]"
   ]
  }
 ],
 "metadata": {
  "kernelspec": {
   "display_name": "Python 3",
   "language": "python",
   "name": "python3"
  },
  "language_info": {
   "codemirror_mode": {
    "name": "ipython",
    "version": 3
   },
   "file_extension": ".py",
   "mimetype": "text/x-python",
   "name": "python",
   "nbconvert_exporter": "python",
   "pygments_lexer": "ipython3",
   "version": "3.7.4"
  }
 },
 "nbformat": 4,
 "nbformat_minor": 2
}
